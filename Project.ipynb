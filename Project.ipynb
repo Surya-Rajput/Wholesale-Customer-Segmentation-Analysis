{
 "cells": [
  {
   "cell_type": "markdown",
   "id": "858b72d8",
   "metadata": {},
   "source": [
    "### Reading in Dataset"
   ]
  },
  {
   "cell_type": "code",
   "execution_count": 75,
   "id": "1d364d15",
   "metadata": {},
   "outputs": [],
   "source": [
    "# Importing libraries\n",
    "import pandas as pd\n",
    "import numpy as np"
   ]
  },
  {
   "cell_type": "code",
   "execution_count": 76,
   "id": "55fca4df",
   "metadata": {},
   "outputs": [
    {
     "data": {
      "text/html": [
       "<div>\n",
       "<style scoped>\n",
       "    .dataframe tbody tr th:only-of-type {\n",
       "        vertical-align: middle;\n",
       "    }\n",
       "\n",
       "    .dataframe tbody tr th {\n",
       "        vertical-align: top;\n",
       "    }\n",
       "\n",
       "    .dataframe thead th {\n",
       "        text-align: right;\n",
       "    }\n",
       "</style>\n",
       "<table border=\"1\" class=\"dataframe\">\n",
       "  <thead>\n",
       "    <tr style=\"text-align: right;\">\n",
       "      <th></th>\n",
       "      <th>Channel</th>\n",
       "      <th>Region</th>\n",
       "      <th>Fresh</th>\n",
       "      <th>Milk</th>\n",
       "      <th>Grocery</th>\n",
       "      <th>Frozen</th>\n",
       "      <th>Detergents_Paper</th>\n",
       "      <th>Delicassen</th>\n",
       "    </tr>\n",
       "  </thead>\n",
       "  <tbody>\n",
       "    <tr>\n",
       "      <th>0</th>\n",
       "      <td>2</td>\n",
       "      <td>3</td>\n",
       "      <td>12669</td>\n",
       "      <td>9656</td>\n",
       "      <td>7561</td>\n",
       "      <td>214</td>\n",
       "      <td>2674</td>\n",
       "      <td>1338</td>\n",
       "    </tr>\n",
       "    <tr>\n",
       "      <th>1</th>\n",
       "      <td>2</td>\n",
       "      <td>3</td>\n",
       "      <td>7057</td>\n",
       "      <td>9810</td>\n",
       "      <td>9568</td>\n",
       "      <td>1762</td>\n",
       "      <td>3293</td>\n",
       "      <td>1776</td>\n",
       "    </tr>\n",
       "    <tr>\n",
       "      <th>2</th>\n",
       "      <td>2</td>\n",
       "      <td>3</td>\n",
       "      <td>6353</td>\n",
       "      <td>8808</td>\n",
       "      <td>7684</td>\n",
       "      <td>2405</td>\n",
       "      <td>3516</td>\n",
       "      <td>7844</td>\n",
       "    </tr>\n",
       "    <tr>\n",
       "      <th>3</th>\n",
       "      <td>1</td>\n",
       "      <td>3</td>\n",
       "      <td>13265</td>\n",
       "      <td>1196</td>\n",
       "      <td>4221</td>\n",
       "      <td>6404</td>\n",
       "      <td>507</td>\n",
       "      <td>1788</td>\n",
       "    </tr>\n",
       "    <tr>\n",
       "      <th>4</th>\n",
       "      <td>2</td>\n",
       "      <td>3</td>\n",
       "      <td>22615</td>\n",
       "      <td>5410</td>\n",
       "      <td>7198</td>\n",
       "      <td>3915</td>\n",
       "      <td>1777</td>\n",
       "      <td>5185</td>\n",
       "    </tr>\n",
       "  </tbody>\n",
       "</table>\n",
       "</div>"
      ],
      "text/plain": [
       "   Channel  Region  Fresh  Milk  Grocery  Frozen  Detergents_Paper  Delicassen\n",
       "0        2       3  12669  9656     7561     214              2674        1338\n",
       "1        2       3   7057  9810     9568    1762              3293        1776\n",
       "2        2       3   6353  8808     7684    2405              3516        7844\n",
       "3        1       3  13265  1196     4221    6404               507        1788\n",
       "4        2       3  22615  5410     7198    3915              1777        5185"
      ]
     },
     "execution_count": 76,
     "metadata": {},
     "output_type": "execute_result"
    }
   ],
   "source": [
    "# Read in the data from the data folder\n",
    "\n",
    "customer = pd.read_csv(\"C:/Users/Surya/Desktop/SURYA GEORGIAN/AIDI 1003 Machine learning frameworks/WHOLESALE DATASET PROJECT 2/Wholsalecustomer.csv\")\n",
    "customer.head()"
   ]
  },
  {
   "cell_type": "markdown",
   "id": "d3628678",
   "metadata": {},
   "source": [
    "### 1. Exploratory Data Analysis"
   ]
  },
  {
   "cell_type": "code",
   "execution_count": 77,
   "id": "d912b2cf",
   "metadata": {},
   "outputs": [
    {
     "data": {
      "text/plain": [
       "(440, 8)"
      ]
     },
     "execution_count": 77,
     "metadata": {},
     "output_type": "execute_result"
    }
   ],
   "source": [
    "# Check the number of rows and columns in the data\n",
    "customer.shape"
   ]
  },
  {
   "cell_type": "code",
   "execution_count": 78,
   "id": "4acfb22d",
   "metadata": {},
   "outputs": [
    {
     "data": {
      "text/plain": [
       "Index(['Channel', 'Region', 'Fresh', 'Milk', 'Grocery', 'Frozen',\n",
       "       'Detergents_Paper', 'Delicassen'],\n",
       "      dtype='object')"
      ]
     },
     "execution_count": 78,
     "metadata": {},
     "output_type": "execute_result"
    }
   ],
   "source": [
    "#finding out columns name\n",
    "customer.columns"
   ]
  },
  {
   "cell_type": "code",
   "execution_count": 79,
   "id": "21ce3f6f",
   "metadata": {},
   "outputs": [
    {
     "data": {
      "text/plain": [
       "Channel             int64\n",
       "Region              int64\n",
       "Fresh               int64\n",
       "Milk                int64\n",
       "Grocery             int64\n",
       "Frozen              int64\n",
       "Detergents_Paper    int64\n",
       "Delicassen          int64\n",
       "dtype: object"
      ]
     },
     "execution_count": 79,
     "metadata": {},
     "output_type": "execute_result"
    }
   ],
   "source": [
    "# Check the type of data stored in each column\n",
    "customer.dtypes\n",
    "# we see that we have 8 numerical variables"
   ]
  },
  {
   "cell_type": "code",
   "execution_count": 80,
   "id": "493a89f0",
   "metadata": {},
   "outputs": [
    {
     "name": "stdout",
     "output_type": "stream",
     "text": [
      "<class 'pandas.core.frame.DataFrame'>\n",
      "RangeIndex: 440 entries, 0 to 439\n",
      "Data columns (total 8 columns):\n",
      " #   Column            Non-Null Count  Dtype\n",
      "---  ------            --------------  -----\n",
      " 0   Channel           440 non-null    int64\n",
      " 1   Region            440 non-null    int64\n",
      " 2   Fresh             440 non-null    int64\n",
      " 3   Milk              440 non-null    int64\n",
      " 4   Grocery           440 non-null    int64\n",
      " 5   Frozen            440 non-null    int64\n",
      " 6   Detergents_Paper  440 non-null    int64\n",
      " 7   Delicassen        440 non-null    int64\n",
      "dtypes: int64(8)\n",
      "memory usage: 27.6 KB\n"
     ]
    }
   ],
   "source": [
    "#finding out datatype of each column\n",
    "customer.info()\n",
    "# We can see that all the columns are integer type"
   ]
  },
  {
   "cell_type": "code",
   "execution_count": 81,
   "id": "c58cbbbe",
   "metadata": {},
   "outputs": [
    {
     "data": {
      "text/plain": [
       "Channel             0\n",
       "Region              0\n",
       "Fresh               0\n",
       "Milk                0\n",
       "Grocery             0\n",
       "Frozen              0\n",
       "Detergents_Paper    0\n",
       "Delicassen          0\n",
       "dtype: int64"
      ]
     },
     "execution_count": 81,
     "metadata": {},
     "output_type": "execute_result"
    }
   ],
   "source": [
    "# Checking for missing values\n",
    "customer.isnull().sum()"
   ]
  },
  {
   "cell_type": "markdown",
   "id": "a75881fb",
   "metadata": {},
   "source": [
    "#### No missing values found"
   ]
  },
  {
   "cell_type": "code",
   "execution_count": 83,
   "id": "808db3c1",
   "metadata": {},
   "outputs": [
    {
     "data": {
      "text/html": [
       "<div>\n",
       "<style scoped>\n",
       "    .dataframe tbody tr th:only-of-type {\n",
       "        vertical-align: middle;\n",
       "    }\n",
       "\n",
       "    .dataframe tbody tr th {\n",
       "        vertical-align: top;\n",
       "    }\n",
       "\n",
       "    .dataframe thead th {\n",
       "        text-align: right;\n",
       "    }\n",
       "</style>\n",
       "<table border=\"1\" class=\"dataframe\">\n",
       "  <thead>\n",
       "    <tr style=\"text-align: right;\">\n",
       "      <th></th>\n",
       "      <th>Channel</th>\n",
       "      <th>Region</th>\n",
       "      <th>Fresh</th>\n",
       "      <th>Milk</th>\n",
       "      <th>Grocery</th>\n",
       "      <th>Frozen</th>\n",
       "      <th>Detergents_Paper</th>\n",
       "      <th>Delicassen</th>\n",
       "    </tr>\n",
       "  </thead>\n",
       "  <tbody>\n",
       "    <tr>\n",
       "      <th>count</th>\n",
       "      <td>440.000000</td>\n",
       "      <td>440.000000</td>\n",
       "      <td>440.000000</td>\n",
       "      <td>440.000000</td>\n",
       "      <td>440.000000</td>\n",
       "      <td>440.000000</td>\n",
       "      <td>440.000000</td>\n",
       "      <td>440.000000</td>\n",
       "    </tr>\n",
       "    <tr>\n",
       "      <th>mean</th>\n",
       "      <td>1.322727</td>\n",
       "      <td>2.543182</td>\n",
       "      <td>12000.297727</td>\n",
       "      <td>5796.265909</td>\n",
       "      <td>7951.277273</td>\n",
       "      <td>3071.931818</td>\n",
       "      <td>2881.493182</td>\n",
       "      <td>1524.870455</td>\n",
       "    </tr>\n",
       "    <tr>\n",
       "      <th>std</th>\n",
       "      <td>0.468052</td>\n",
       "      <td>0.774272</td>\n",
       "      <td>12647.328865</td>\n",
       "      <td>7380.377175</td>\n",
       "      <td>9503.162829</td>\n",
       "      <td>4854.673333</td>\n",
       "      <td>4767.854448</td>\n",
       "      <td>2820.105937</td>\n",
       "    </tr>\n",
       "    <tr>\n",
       "      <th>min</th>\n",
       "      <td>1.000000</td>\n",
       "      <td>1.000000</td>\n",
       "      <td>3.000000</td>\n",
       "      <td>55.000000</td>\n",
       "      <td>3.000000</td>\n",
       "      <td>25.000000</td>\n",
       "      <td>3.000000</td>\n",
       "      <td>3.000000</td>\n",
       "    </tr>\n",
       "    <tr>\n",
       "      <th>25%</th>\n",
       "      <td>1.000000</td>\n",
       "      <td>2.000000</td>\n",
       "      <td>3127.750000</td>\n",
       "      <td>1533.000000</td>\n",
       "      <td>2153.000000</td>\n",
       "      <td>742.250000</td>\n",
       "      <td>256.750000</td>\n",
       "      <td>408.250000</td>\n",
       "    </tr>\n",
       "    <tr>\n",
       "      <th>50%</th>\n",
       "      <td>1.000000</td>\n",
       "      <td>3.000000</td>\n",
       "      <td>8504.000000</td>\n",
       "      <td>3627.000000</td>\n",
       "      <td>4755.500000</td>\n",
       "      <td>1526.000000</td>\n",
       "      <td>816.500000</td>\n",
       "      <td>965.500000</td>\n",
       "    </tr>\n",
       "    <tr>\n",
       "      <th>75%</th>\n",
       "      <td>2.000000</td>\n",
       "      <td>3.000000</td>\n",
       "      <td>16933.750000</td>\n",
       "      <td>7190.250000</td>\n",
       "      <td>10655.750000</td>\n",
       "      <td>3554.250000</td>\n",
       "      <td>3922.000000</td>\n",
       "      <td>1820.250000</td>\n",
       "    </tr>\n",
       "    <tr>\n",
       "      <th>max</th>\n",
       "      <td>2.000000</td>\n",
       "      <td>3.000000</td>\n",
       "      <td>112151.000000</td>\n",
       "      <td>73498.000000</td>\n",
       "      <td>92780.000000</td>\n",
       "      <td>60869.000000</td>\n",
       "      <td>40827.000000</td>\n",
       "      <td>47943.000000</td>\n",
       "    </tr>\n",
       "  </tbody>\n",
       "</table>\n",
       "</div>"
      ],
      "text/plain": [
       "          Channel      Region          Fresh          Milk       Grocery  \\\n",
       "count  440.000000  440.000000     440.000000    440.000000    440.000000   \n",
       "mean     1.322727    2.543182   12000.297727   5796.265909   7951.277273   \n",
       "std      0.468052    0.774272   12647.328865   7380.377175   9503.162829   \n",
       "min      1.000000    1.000000       3.000000     55.000000      3.000000   \n",
       "25%      1.000000    2.000000    3127.750000   1533.000000   2153.000000   \n",
       "50%      1.000000    3.000000    8504.000000   3627.000000   4755.500000   \n",
       "75%      2.000000    3.000000   16933.750000   7190.250000  10655.750000   \n",
       "max      2.000000    3.000000  112151.000000  73498.000000  92780.000000   \n",
       "\n",
       "             Frozen  Detergents_Paper    Delicassen  \n",
       "count    440.000000        440.000000    440.000000  \n",
       "mean    3071.931818       2881.493182   1524.870455  \n",
       "std     4854.673333       4767.854448   2820.105937  \n",
       "min       25.000000          3.000000      3.000000  \n",
       "25%      742.250000        256.750000    408.250000  \n",
       "50%     1526.000000        816.500000    965.500000  \n",
       "75%     3554.250000       3922.000000   1820.250000  \n",
       "max    60869.000000      40827.000000  47943.000000  "
      ]
     },
     "execution_count": 83,
     "metadata": {},
     "output_type": "execute_result"
    }
   ],
   "source": [
    "#getting a quick summary of distribuition of data\n",
    "customer.describe()"
   ]
  },
  {
   "cell_type": "markdown",
   "id": "1cbfced5",
   "metadata": {},
   "source": [
    "**Observation1:** No Missing values in any column\n",
    "\n",
    "**Observation2:** Channel variable have only two values that is 1 and 2 where 1 = Horeca (Hotel/Retail/Café) customers and 2 = Retail channel (nominal) customers.\n",
    "\n",
    "**Observation3:** Regioncolumn have limited range of values that is 1, 2 and 3 where 1 = Lisnon, 2 = Oporto and 3 = others"
   ]
  },
  {
   "cell_type": "markdown",
   "id": "daf33e05",
   "metadata": {},
   "source": [
    "#### Our dataset have \n",
    "* categorical_features = Channel, Region\n",
    "* continuous_features = Fresh, Milk, Grocery, Frozen, Detergents_Paper, Delicassen"
   ]
  },
  {
   "cell_type": "code",
   "execution_count": 84,
   "id": "0a84ba53",
   "metadata": {},
   "outputs": [
    {
     "data": {
      "text/plain": [
       "1    298\n",
       "2    142\n",
       "Name: Channel, dtype: int64"
      ]
     },
     "execution_count": 84,
     "metadata": {},
     "output_type": "execute_result"
    }
   ],
   "source": [
    "# See the distribution of our categorical features\n",
    "customer['Channel'].value_counts()"
   ]
  },
  {
   "cell_type": "markdown",
   "id": "d7c66fb5",
   "metadata": {},
   "source": [
    "* Not a 50-50 split in data. Semi-imabalanced column"
   ]
  },
  {
   "cell_type": "code",
   "execution_count": 85,
   "id": "01d730a1",
   "metadata": {},
   "outputs": [
    {
     "data": {
      "text/plain": [
       "3    316\n",
       "1     77\n",
       "2     47\n",
       "Name: Region, dtype: int64"
      ]
     },
     "execution_count": 85,
     "metadata": {},
     "output_type": "execute_result"
    }
   ],
   "source": [
    "customer['Region'].value_counts()"
   ]
  },
  {
   "cell_type": "code",
   "execution_count": 86,
   "id": "a4867ae6",
   "metadata": {},
   "outputs": [
    {
     "data": {
      "text/html": [
       "<div>\n",
       "<style scoped>\n",
       "    .dataframe tbody tr th:only-of-type {\n",
       "        vertical-align: middle;\n",
       "    }\n",
       "\n",
       "    .dataframe tbody tr th {\n",
       "        vertical-align: top;\n",
       "    }\n",
       "\n",
       "    .dataframe thead th {\n",
       "        text-align: right;\n",
       "    }\n",
       "</style>\n",
       "<table border=\"1\" class=\"dataframe\">\n",
       "  <thead>\n",
       "    <tr style=\"text-align: right;\">\n",
       "      <th></th>\n",
       "      <th>Channel</th>\n",
       "      <th>Region</th>\n",
       "      <th>Fresh</th>\n",
       "      <th>Milk</th>\n",
       "      <th>Grocery</th>\n",
       "      <th>Frozen</th>\n",
       "      <th>Detergents_Paper</th>\n",
       "      <th>Delicassen</th>\n",
       "    </tr>\n",
       "  </thead>\n",
       "  <tbody>\n",
       "    <tr>\n",
       "      <th>Channel</th>\n",
       "      <td>1.000000</td>\n",
       "      <td>0.062028</td>\n",
       "      <td>-0.169172</td>\n",
       "      <td>0.460720</td>\n",
       "      <td>0.608792</td>\n",
       "      <td>-0.202046</td>\n",
       "      <td>0.636026</td>\n",
       "      <td>0.056011</td>\n",
       "    </tr>\n",
       "    <tr>\n",
       "      <th>Region</th>\n",
       "      <td>0.062028</td>\n",
       "      <td>1.000000</td>\n",
       "      <td>0.055287</td>\n",
       "      <td>0.032288</td>\n",
       "      <td>0.007696</td>\n",
       "      <td>-0.021044</td>\n",
       "      <td>-0.001483</td>\n",
       "      <td>0.045212</td>\n",
       "    </tr>\n",
       "    <tr>\n",
       "      <th>Fresh</th>\n",
       "      <td>-0.169172</td>\n",
       "      <td>0.055287</td>\n",
       "      <td>1.000000</td>\n",
       "      <td>0.100510</td>\n",
       "      <td>-0.011854</td>\n",
       "      <td>0.345881</td>\n",
       "      <td>-0.101953</td>\n",
       "      <td>0.244690</td>\n",
       "    </tr>\n",
       "    <tr>\n",
       "      <th>Milk</th>\n",
       "      <td>0.460720</td>\n",
       "      <td>0.032288</td>\n",
       "      <td>0.100510</td>\n",
       "      <td>1.000000</td>\n",
       "      <td>0.728335</td>\n",
       "      <td>0.123994</td>\n",
       "      <td>0.661816</td>\n",
       "      <td>0.406368</td>\n",
       "    </tr>\n",
       "    <tr>\n",
       "      <th>Grocery</th>\n",
       "      <td>0.608792</td>\n",
       "      <td>0.007696</td>\n",
       "      <td>-0.011854</td>\n",
       "      <td>0.728335</td>\n",
       "      <td>1.000000</td>\n",
       "      <td>-0.040193</td>\n",
       "      <td>0.924641</td>\n",
       "      <td>0.205497</td>\n",
       "    </tr>\n",
       "    <tr>\n",
       "      <th>Frozen</th>\n",
       "      <td>-0.202046</td>\n",
       "      <td>-0.021044</td>\n",
       "      <td>0.345881</td>\n",
       "      <td>0.123994</td>\n",
       "      <td>-0.040193</td>\n",
       "      <td>1.000000</td>\n",
       "      <td>-0.131525</td>\n",
       "      <td>0.390947</td>\n",
       "    </tr>\n",
       "    <tr>\n",
       "      <th>Detergents_Paper</th>\n",
       "      <td>0.636026</td>\n",
       "      <td>-0.001483</td>\n",
       "      <td>-0.101953</td>\n",
       "      <td>0.661816</td>\n",
       "      <td>0.924641</td>\n",
       "      <td>-0.131525</td>\n",
       "      <td>1.000000</td>\n",
       "      <td>0.069291</td>\n",
       "    </tr>\n",
       "    <tr>\n",
       "      <th>Delicassen</th>\n",
       "      <td>0.056011</td>\n",
       "      <td>0.045212</td>\n",
       "      <td>0.244690</td>\n",
       "      <td>0.406368</td>\n",
       "      <td>0.205497</td>\n",
       "      <td>0.390947</td>\n",
       "      <td>0.069291</td>\n",
       "      <td>1.000000</td>\n",
       "    </tr>\n",
       "  </tbody>\n",
       "</table>\n",
       "</div>"
      ],
      "text/plain": [
       "                   Channel    Region     Fresh      Milk   Grocery    Frozen  \\\n",
       "Channel           1.000000  0.062028 -0.169172  0.460720  0.608792 -0.202046   \n",
       "Region            0.062028  1.000000  0.055287  0.032288  0.007696 -0.021044   \n",
       "Fresh            -0.169172  0.055287  1.000000  0.100510 -0.011854  0.345881   \n",
       "Milk              0.460720  0.032288  0.100510  1.000000  0.728335  0.123994   \n",
       "Grocery           0.608792  0.007696 -0.011854  0.728335  1.000000 -0.040193   \n",
       "Frozen           -0.202046 -0.021044  0.345881  0.123994 -0.040193  1.000000   \n",
       "Detergents_Paper  0.636026 -0.001483 -0.101953  0.661816  0.924641 -0.131525   \n",
       "Delicassen        0.056011  0.045212  0.244690  0.406368  0.205497  0.390947   \n",
       "\n",
       "                  Detergents_Paper  Delicassen  \n",
       "Channel                   0.636026    0.056011  \n",
       "Region                   -0.001483    0.045212  \n",
       "Fresh                    -0.101953    0.244690  \n",
       "Milk                      0.661816    0.406368  \n",
       "Grocery                   0.924641    0.205497  \n",
       "Frozen                   -0.131525    0.390947  \n",
       "Detergents_Paper          1.000000    0.069291  \n",
       "Delicassen                0.069291    1.000000  "
      ]
     },
     "execution_count": 86,
     "metadata": {},
     "output_type": "execute_result"
    }
   ],
   "source": [
    "# Looking at the correlation matrix \n",
    "customer.corr()"
   ]
  },
  {
   "cell_type": "markdown",
   "id": "216d1069",
   "metadata": {},
   "source": [
    "**Observation1:** Groccery and Detergents_Paper are highly positively correlated with a value of 0.92\n",
    "\n",
    "**Observation2:** Groccery and Milk are highly positively correlated with a value of 0.72\n",
    "\n",
    "**Observation3:** Milk and Detergent_paper are highly positively correlated with a value of 0.66\n",
    "\n",
    "**Observation4:** Frozen and Fresh are positively correlated with a value of 0.34\n",
    "\n",
    "**Observation5:** Delicassen and Milk are positively correlated with a value of 0.40\n",
    "\n",
    "**Observation6:** Delicassen and Frozen are positively correlated with a value of 0.39"
   ]
  },
  {
   "cell_type": "markdown",
   "id": "aaa4a6c9",
   "metadata": {},
   "source": [
    "### 2. Feature Scaling \n",
    "\n",
    "* In our dataset, some features have varying magnitudes, with some having high-magnitude values and others having relatively lower values. This variation in magnitudes can cause problems in machine learning models as they may assign more weightage to the features with higher magnitudes. To avoid this issue, feature scaling is performed to normalize the data and ensure that all features contribute equally to the model training process. By scaling the features to a similar magnitude, the model's predictions become more accurate and reliable."
   ]
  },
  {
   "cell_type": "code",
   "execution_count": 87,
   "id": "f8272ad7",
   "metadata": {},
   "outputs": [],
   "source": [
    "# Some libraries tend to be in flux for their dependency versions\n",
    "import warnings\n",
    "warnings.simplefilter(\"ignore\")\n",
    "\n",
    "import matplotlib.pyplot as plt\n",
    "\n",
    "import numpy as np\n",
    "import pandas as pd\n",
    "import sklearn\n",
    "from sklearn import datasets\n",
    "\n",
    "%matplotlib inline"
   ]
  },
  {
   "cell_type": "code",
   "execution_count": 88,
   "id": "2eade45e",
   "metadata": {},
   "outputs": [
    {
     "data": {
      "image/png": "[encoded data removed]",
      "text/plain": [
       "<Figure size 640x480 with 1 Axes>"
      ]
     },
     "metadata": {},
     "output_type": "display_data"
    }
   ],
   "source": [
    "pd.DataFrame(customer).plot(kind='kde');"
   ]
  },
  {
   "cell_type": "code",
   "execution_count": 89,
   "id": "110d6f79",
   "metadata": {},
   "outputs": [
    {
     "data": {
      "image/png": "[encoded data removed]",
      "text/plain": [
       "<Figure size 640x480 with 1 Axes>"
      ]
     },
     "metadata": {},
     "output_type": "display_data"
    }
   ],
   "source": [
    "pd.DataFrame(customer).plot(kind='hist', bins=30);"
   ]
  },
  {
   "cell_type": "markdown",
   "id": "ac223cc2",
   "metadata": {},
   "source": [
    "#### Observation\n",
    "* We can see that column Delicassen have high magnitude values compared to other columns. So we will perform StandardScaler and Minmax Scaler to scale these column so that data can be normalized and all feature contribute equally to model training process"
   ]
  },
  {
   "cell_type": "markdown",
   "id": "bd0dc6b7",
   "metadata": {},
   "source": [
    "### StandardScaler\n",
    "\n",
    "The most commonly used scaler—as the name indicates—is `StandardScaler`. \n",
    "\n",
    "This standardizes features by removing the mean and scaling to unit variance.  It loosely assumes that the underlying data is Gaussian to start with, but mostly it is fairly robust against moderate violations of that distribution.  Calculating the mean and standard deviation is per-column (as for all scalers)."
   ]
  },
  {
   "cell_type": "code",
   "execution_count": 90,
   "id": "406a9253",
   "metadata": {},
   "outputs": [
    {
     "data": {
      "text/html": [
       "<div>\n",
       "<style scoped>\n",
       "    .dataframe tbody tr th:only-of-type {\n",
       "        vertical-align: middle;\n",
       "    }\n",
       "\n",
       "    .dataframe tbody tr th {\n",
       "        vertical-align: top;\n",
       "    }\n",
       "\n",
       "    .dataframe thead th {\n",
       "        text-align: right;\n",
       "    }\n",
       "</style>\n",
       "<table border=\"1\" class=\"dataframe\">\n",
       "  <thead>\n",
       "    <tr style=\"text-align: right;\">\n",
       "      <th></th>\n",
       "      <th>Channel</th>\n",
       "      <th>Region</th>\n",
       "      <th>Fresh</th>\n",
       "      <th>Milk</th>\n",
       "      <th>Grocery</th>\n",
       "      <th>Frozen</th>\n",
       "      <th>Detergents_Paper</th>\n",
       "      <th>Delicassen</th>\n",
       "    </tr>\n",
       "  </thead>\n",
       "  <tbody>\n",
       "    <tr>\n",
       "      <th>0</th>\n",
       "      <td>1.448652</td>\n",
       "      <td>0.590668</td>\n",
       "      <td>0.052933</td>\n",
       "      <td>0.523568</td>\n",
       "      <td>-0.041115</td>\n",
       "      <td>-0.589367</td>\n",
       "      <td>-0.043569</td>\n",
       "      <td>-0.066339</td>\n",
       "    </tr>\n",
       "    <tr>\n",
       "      <th>1</th>\n",
       "      <td>1.448652</td>\n",
       "      <td>0.590668</td>\n",
       "      <td>-0.391302</td>\n",
       "      <td>0.544458</td>\n",
       "      <td>0.170318</td>\n",
       "      <td>-0.270136</td>\n",
       "      <td>0.086407</td>\n",
       "      <td>0.089151</td>\n",
       "    </tr>\n",
       "    <tr>\n",
       "      <th>2</th>\n",
       "      <td>1.448652</td>\n",
       "      <td>0.590668</td>\n",
       "      <td>-0.447029</td>\n",
       "      <td>0.408538</td>\n",
       "      <td>-0.028157</td>\n",
       "      <td>-0.137536</td>\n",
       "      <td>0.133232</td>\n",
       "      <td>2.243293</td>\n",
       "    </tr>\n",
       "    <tr>\n",
       "      <th>3</th>\n",
       "      <td>-0.690297</td>\n",
       "      <td>0.590668</td>\n",
       "      <td>0.100111</td>\n",
       "      <td>-0.624020</td>\n",
       "      <td>-0.392977</td>\n",
       "      <td>0.687144</td>\n",
       "      <td>-0.498588</td>\n",
       "      <td>0.093411</td>\n",
       "    </tr>\n",
       "    <tr>\n",
       "      <th>4</th>\n",
       "      <td>1.448652</td>\n",
       "      <td>0.590668</td>\n",
       "      <td>0.840239</td>\n",
       "      <td>-0.052396</td>\n",
       "      <td>-0.079356</td>\n",
       "      <td>0.173859</td>\n",
       "      <td>-0.231918</td>\n",
       "      <td>1.299347</td>\n",
       "    </tr>\n",
       "  </tbody>\n",
       "</table>\n",
       "</div>"
      ],
      "text/plain": [
       "    Channel    Region     Fresh      Milk   Grocery    Frozen  \\\n",
       "0  1.448652  0.590668  0.052933  0.523568 -0.041115 -0.589367   \n",
       "1  1.448652  0.590668 -0.391302  0.544458  0.170318 -0.270136   \n",
       "2  1.448652  0.590668 -0.447029  0.408538 -0.028157 -0.137536   \n",
       "3 -0.690297  0.590668  0.100111 -0.624020 -0.392977  0.687144   \n",
       "4  1.448652  0.590668  0.840239 -0.052396 -0.079356  0.173859   \n",
       "\n",
       "   Detergents_Paper  Delicassen  \n",
       "0         -0.043569   -0.066339  \n",
       "1          0.086407    0.089151  \n",
       "2          0.133232    2.243293  \n",
       "3         -0.498588    0.093411  \n",
       "4         -0.231918    1.299347  "
      ]
     },
     "execution_count": 90,
     "metadata": {},
     "output_type": "execute_result"
    }
   ],
   "source": [
    "from sklearn.preprocessing import StandardScaler\n",
    "scaled1 = StandardScaler().fit_transform(customer)\n",
    "\n",
    "scaled_ss = pd.DataFrame(scaled1, columns=customer.columns)\n",
    "\n",
    "scaled_ss.head()\n"
   ]
  },
  {
   "cell_type": "code",
   "execution_count": 91,
   "id": "38943255",
   "metadata": {},
   "outputs": [
    {
     "data": {
      "text/html": [
       "<div>\n",
       "<style scoped>\n",
       "    .dataframe tbody tr th:only-of-type {\n",
       "        vertical-align: middle;\n",
       "    }\n",
       "\n",
       "    .dataframe tbody tr th {\n",
       "        vertical-align: top;\n",
       "    }\n",
       "\n",
       "    .dataframe thead th {\n",
       "        text-align: right;\n",
       "    }\n",
       "</style>\n",
       "<table border=\"1\" class=\"dataframe\">\n",
       "  <thead>\n",
       "    <tr style=\"text-align: right;\">\n",
       "      <th></th>\n",
       "      <th>Channel</th>\n",
       "      <th>Region</th>\n",
       "      <th>Fresh</th>\n",
       "      <th>Milk</th>\n",
       "      <th>Grocery</th>\n",
       "      <th>Frozen</th>\n",
       "      <th>Detergents_Paper</th>\n",
       "      <th>Delicassen</th>\n",
       "    </tr>\n",
       "  </thead>\n",
       "  <tbody>\n",
       "    <tr>\n",
       "      <th>count</th>\n",
       "      <td>4.400000e+02</td>\n",
       "      <td>4.400000e+02</td>\n",
       "      <td>4.400000e+02</td>\n",
       "      <td>4.400000e+02</td>\n",
       "      <td>4.400000e+02</td>\n",
       "      <td>4.400000e+02</td>\n",
       "      <td>4.400000e+02</td>\n",
       "      <td>4.400000e+02</td>\n",
       "    </tr>\n",
       "    <tr>\n",
       "      <th>mean</th>\n",
       "      <td>-2.452584e-16</td>\n",
       "      <td>-5.737834e-16</td>\n",
       "      <td>-2.422305e-17</td>\n",
       "      <td>-1.589638e-17</td>\n",
       "      <td>-6.030530e-17</td>\n",
       "      <td>1.135455e-17</td>\n",
       "      <td>-1.917658e-17</td>\n",
       "      <td>-8.276208e-17</td>\n",
       "    </tr>\n",
       "    <tr>\n",
       "      <th>std</th>\n",
       "      <td>1.001138e+00</td>\n",
       "      <td>1.001138e+00</td>\n",
       "      <td>1.001138e+00</td>\n",
       "      <td>1.001138e+00</td>\n",
       "      <td>1.001138e+00</td>\n",
       "      <td>1.001138e+00</td>\n",
       "      <td>1.001138e+00</td>\n",
       "      <td>1.001138e+00</td>\n",
       "    </tr>\n",
       "  </tbody>\n",
       "</table>\n",
       "</div>"
      ],
      "text/plain": [
       "            Channel        Region         Fresh          Milk       Grocery  \\\n",
       "count  4.400000e+02  4.400000e+02  4.400000e+02  4.400000e+02  4.400000e+02   \n",
       "mean  -2.452584e-16 -5.737834e-16 -2.422305e-17 -1.589638e-17 -6.030530e-17   \n",
       "std    1.001138e+00  1.001138e+00  1.001138e+00  1.001138e+00  1.001138e+00   \n",
       "\n",
       "             Frozen  Detergents_Paper    Delicassen  \n",
       "count  4.400000e+02      4.400000e+02  4.400000e+02  \n",
       "mean   1.135455e-17     -1.917658e-17 -8.276208e-17  \n",
       "std    1.001138e+00      1.001138e+00  1.001138e+00  "
      ]
     },
     "execution_count": 91,
     "metadata": {},
     "output_type": "execute_result"
    }
   ],
   "source": [
    "pd.DataFrame(scaled_ss).describe().head(3)"
   ]
  },
  {
   "cell_type": "code",
   "execution_count": 92,
   "id": "0b399897",
   "metadata": {},
   "outputs": [
    {
     "data": {
      "image/png": "[encoded data removed]",
      "text/plain": [
       "<Figure size 640x480 with 1 Axes>"
      ]
     },
     "metadata": {},
     "output_type": "display_data"
    }
   ],
   "source": [
    "pd.DataFrame(scaled_ss).plot(kind='kde');"
   ]
  },
  {
   "cell_type": "code",
   "execution_count": 93,
   "id": "8c5c7e45",
   "metadata": {},
   "outputs": [
    {
     "data": {
      "image/png": "[encoded data removed]",
      "text/plain": [
       "<Figure size 640x480 with 1 Axes>"
      ]
     },
     "metadata": {},
     "output_type": "display_data"
    }
   ],
   "source": [
    "pd.DataFrame(scaled_ss).plot(kind='hist', bins=30);"
   ]
  },
  {
   "cell_type": "markdown",
   "id": "8689dc50",
   "metadata": {},
   "source": [
    "#### Observation\n",
    "* Using the StandardScaler method, we have scaled the data into a uniform unit over all the columns. As you can see in the table, the values of all the features have been converted into a uniform range of the same scale. Because of this, it becomes easier for the model to make predictions.\n",
    "* In both plots we can see that columns are normalized and scales of different features are more comparable. \n",
    "* Kde plot shows better visualization than histogram as normalisation of columns are clearly visible in kde compared to histogram"
   ]
  },
  {
   "cell_type": "markdown",
   "id": "e72f3db8",
   "metadata": {},
   "source": [
    "### MinMaxScaler\n",
    "\n",
    "Transforms features by scaling each feature to a given range. This estimator scales and translates each feature individually such that it is in the given range on the dataset, by default between zero and one."
   ]
  },
  {
   "cell_type": "code",
   "execution_count": 94,
   "id": "be18ff33",
   "metadata": {},
   "outputs": [
    {
     "data": {
      "text/html": [
       "<div>\n",
       "<style scoped>\n",
       "    .dataframe tbody tr th:only-of-type {\n",
       "        vertical-align: middle;\n",
       "    }\n",
       "\n",
       "    .dataframe tbody tr th {\n",
       "        vertical-align: top;\n",
       "    }\n",
       "\n",
       "    .dataframe thead th {\n",
       "        text-align: right;\n",
       "    }\n",
       "</style>\n",
       "<table border=\"1\" class=\"dataframe\">\n",
       "  <thead>\n",
       "    <tr style=\"text-align: right;\">\n",
       "      <th></th>\n",
       "      <th>Channel</th>\n",
       "      <th>Region</th>\n",
       "      <th>Fresh</th>\n",
       "      <th>Milk</th>\n",
       "      <th>Grocery</th>\n",
       "      <th>Frozen</th>\n",
       "      <th>Detergents_Paper</th>\n",
       "      <th>Delicassen</th>\n",
       "    </tr>\n",
       "  </thead>\n",
       "  <tbody>\n",
       "    <tr>\n",
       "      <th>0</th>\n",
       "      <td>1.0</td>\n",
       "      <td>1.0</td>\n",
       "      <td>0.112940</td>\n",
       "      <td>0.130727</td>\n",
       "      <td>0.081464</td>\n",
       "      <td>0.003106</td>\n",
       "      <td>0.065427</td>\n",
       "      <td>0.027847</td>\n",
       "    </tr>\n",
       "    <tr>\n",
       "      <th>1</th>\n",
       "      <td>1.0</td>\n",
       "      <td>1.0</td>\n",
       "      <td>0.062899</td>\n",
       "      <td>0.132824</td>\n",
       "      <td>0.103097</td>\n",
       "      <td>0.028548</td>\n",
       "      <td>0.080590</td>\n",
       "      <td>0.036984</td>\n",
       "    </tr>\n",
       "    <tr>\n",
       "      <th>2</th>\n",
       "      <td>1.0</td>\n",
       "      <td>1.0</td>\n",
       "      <td>0.056622</td>\n",
       "      <td>0.119181</td>\n",
       "      <td>0.082790</td>\n",
       "      <td>0.039116</td>\n",
       "      <td>0.086052</td>\n",
       "      <td>0.163559</td>\n",
       "    </tr>\n",
       "    <tr>\n",
       "      <th>3</th>\n",
       "      <td>0.0</td>\n",
       "      <td>1.0</td>\n",
       "      <td>0.118254</td>\n",
       "      <td>0.015536</td>\n",
       "      <td>0.045464</td>\n",
       "      <td>0.104842</td>\n",
       "      <td>0.012346</td>\n",
       "      <td>0.037234</td>\n",
       "    </tr>\n",
       "    <tr>\n",
       "      <th>4</th>\n",
       "      <td>1.0</td>\n",
       "      <td>1.0</td>\n",
       "      <td>0.201626</td>\n",
       "      <td>0.072914</td>\n",
       "      <td>0.077552</td>\n",
       "      <td>0.063934</td>\n",
       "      <td>0.043455</td>\n",
       "      <td>0.108093</td>\n",
       "    </tr>\n",
       "  </tbody>\n",
       "</table>\n",
       "</div>"
      ],
      "text/plain": [
       "   Channel  Region     Fresh      Milk   Grocery    Frozen  Detergents_Paper  \\\n",
       "0      1.0     1.0  0.112940  0.130727  0.081464  0.003106          0.065427   \n",
       "1      1.0     1.0  0.062899  0.132824  0.103097  0.028548          0.080590   \n",
       "2      1.0     1.0  0.056622  0.119181  0.082790  0.039116          0.086052   \n",
       "3      0.0     1.0  0.118254  0.015536  0.045464  0.104842          0.012346   \n",
       "4      1.0     1.0  0.201626  0.072914  0.077552  0.063934          0.043455   \n",
       "\n",
       "   Delicassen  \n",
       "0    0.027847  \n",
       "1    0.036984  \n",
       "2    0.163559  \n",
       "3    0.037234  \n",
       "4    0.108093  "
      ]
     },
     "execution_count": 94,
     "metadata": {},
     "output_type": "execute_result"
    }
   ],
   "source": [
    "from sklearn.preprocessing import MinMaxScaler\n",
    "scaled2 = MinMaxScaler().fit_transform(customer)\n",
    "scaled_mms = pd.DataFrame(scaled2, columns=customer.columns)\n",
    "\n",
    "scaled_mms.head()"
   ]
  },
  {
   "cell_type": "code",
   "execution_count": 95,
   "id": "ed0d1e04",
   "metadata": {},
   "outputs": [
    {
     "data": {
      "text/html": [
       "<div>\n",
       "<style scoped>\n",
       "    .dataframe tbody tr th:only-of-type {\n",
       "        vertical-align: middle;\n",
       "    }\n",
       "\n",
       "    .dataframe tbody tr th {\n",
       "        vertical-align: top;\n",
       "    }\n",
       "\n",
       "    .dataframe thead th {\n",
       "        text-align: right;\n",
       "    }\n",
       "</style>\n",
       "<table border=\"1\" class=\"dataframe\">\n",
       "  <thead>\n",
       "    <tr style=\"text-align: right;\">\n",
       "      <th></th>\n",
       "      <th>Channel</th>\n",
       "      <th>Region</th>\n",
       "      <th>Fresh</th>\n",
       "      <th>Milk</th>\n",
       "      <th>Grocery</th>\n",
       "      <th>Frozen</th>\n",
       "      <th>Detergents_Paper</th>\n",
       "      <th>Delicassen</th>\n",
       "    </tr>\n",
       "  </thead>\n",
       "  <tbody>\n",
       "    <tr>\n",
       "      <th>count</th>\n",
       "      <td>440.000000</td>\n",
       "      <td>440.000000</td>\n",
       "      <td>440.000000</td>\n",
       "      <td>440.000000</td>\n",
       "      <td>440.000000</td>\n",
       "      <td>440.000000</td>\n",
       "      <td>440.00000</td>\n",
       "      <td>440.000000</td>\n",
       "    </tr>\n",
       "    <tr>\n",
       "      <th>mean</th>\n",
       "      <td>0.322727</td>\n",
       "      <td>0.771591</td>\n",
       "      <td>0.106977</td>\n",
       "      <td>0.078173</td>\n",
       "      <td>0.085671</td>\n",
       "      <td>0.050078</td>\n",
       "      <td>0.07051</td>\n",
       "      <td>0.031745</td>\n",
       "    </tr>\n",
       "    <tr>\n",
       "      <th>std</th>\n",
       "      <td>0.468052</td>\n",
       "      <td>0.387136</td>\n",
       "      <td>0.112774</td>\n",
       "      <td>0.100491</td>\n",
       "      <td>0.102430</td>\n",
       "      <td>0.079789</td>\n",
       "      <td>0.11679</td>\n",
       "      <td>0.058826</td>\n",
       "    </tr>\n",
       "  </tbody>\n",
       "</table>\n",
       "</div>"
      ],
      "text/plain": [
       "          Channel      Region       Fresh        Milk     Grocery      Frozen  \\\n",
       "count  440.000000  440.000000  440.000000  440.000000  440.000000  440.000000   \n",
       "mean     0.322727    0.771591    0.106977    0.078173    0.085671    0.050078   \n",
       "std      0.468052    0.387136    0.112774    0.100491    0.102430    0.079789   \n",
       "\n",
       "       Detergents_Paper  Delicassen  \n",
       "count         440.00000  440.000000  \n",
       "mean            0.07051    0.031745  \n",
       "std             0.11679    0.058826  "
      ]
     },
     "execution_count": 95,
     "metadata": {},
     "output_type": "execute_result"
    }
   ],
   "source": [
    "pd.DataFrame(scaled_mms).describe().head(3)"
   ]
  },
  {
   "cell_type": "code",
   "execution_count": 96,
   "id": "5bf6ac91",
   "metadata": {},
   "outputs": [
    {
     "data": {
      "image/png": "[encoded data removed]",
      "text/plain": [
       "<Figure size 640x480 with 1 Axes>"
      ]
     },
     "metadata": {},
     "output_type": "display_data"
    }
   ],
   "source": [
    "pd.DataFrame(scaled_mms).plot(kind='kde');"
   ]
  },
  {
   "cell_type": "code",
   "execution_count": 97,
   "id": "921e2607",
   "metadata": {},
   "outputs": [
    {
     "data": {
      "image/png": "[encoded data removed]",
      "text/plain": [
       "<Figure size 640x480 with 1 Axes>"
      ]
     },
     "metadata": {},
     "output_type": "display_data"
    }
   ],
   "source": [
    "pd.DataFrame(scaled_mms).plot(kind='hist', bins=30);"
   ]
  },
  {
   "cell_type": "markdown",
   "id": "45ac1b71",
   "metadata": {},
   "source": [
    "#### Observation\n",
    "* We have utilized the MinMaxScaler technique to normalize the data across all columns to a consistent unit. As evidenced in the table, all feature values have been transformed into a uniform range of the same scale, which ranges from 0 to 1.\n",
    "* We can see that in histofram and kde of Minmax scaler that magnitude of value of column Delicassen is still higher than compared to other features, Standard scaler did a better job to scale them.\n",
    "* The StandardScaler technique assumes that the data features are normally distributed and scales them to have a mean of zero and a standard deviation of one. This scaling results in all features being on the same scale. On the other hand, MinMaxScaler compresses the data into the range of 0 to 1 and is suitable for non-Gaussian distributions with small standard deviations. However, this scaler can be influenced by outliers. The visual representation of these two scalers differ, with StandardScaler displaying centered curves without outliers and MinMaxScaler exhibiting outliers. Based on this analysis, we will proceed with using StandardScaler for this task."
   ]
  },
  {
   "cell_type": "code",
   "execution_count": 110,
   "id": "2831730f",
   "metadata": {},
   "outputs": [
    {
     "data": {
      "text/plain": [
       "0    2\n",
       "1    2\n",
       "2    2\n",
       "3    1\n",
       "4    2\n",
       "Name: Channel, dtype: int64"
      ]
     },
     "execution_count": 110,
     "metadata": {},
     "output_type": "execute_result"
    }
   ],
   "source": [
    "# taking channel as target variable\n",
    "X = scaled_ss.drop(['Channel'], axis=1)\n",
    "y = customer['Channel']\n",
    "\n",
    "y.head()"
   ]
  },
  {
   "cell_type": "markdown",
   "id": "43e75a32",
   "metadata": {},
   "source": [
    "### 3. RFECV"
   ]
  },
  {
   "cell_type": "code",
   "execution_count": 111,
   "id": "f2594197",
   "metadata": {},
   "outputs": [],
   "source": [
    "from sklearn.linear_model import LinearRegression\n",
    "from sklearn.neighbors import KNeighborsClassifier\n",
    "lr, knn = LinearRegression(), KNeighborsClassifier()"
   ]
  },
  {
   "cell_type": "code",
   "execution_count": 112,
   "id": "cc24ae28",
   "metadata": {},
   "outputs": [
    {
     "data": {
      "text/plain": [
       "Delicassen          3\n",
       "Region              2\n",
       "Fresh               1\n",
       "Milk                1\n",
       "Grocery             1\n",
       "Frozen              1\n",
       "Detergents_Paper    1\n",
       "dtype: int32"
      ]
     },
     "execution_count": 112,
     "metadata": {},
     "output_type": "execute_result"
    }
   ],
   "source": [
    "# Recursive feature elimination\n",
    "from sklearn.feature_selection import RFE\n",
    "\n",
    "lr = LinearRegression()\n",
    "rfe = RFE(estimator=lr, n_features_to_select=5, step=1) \n",
    "rfe.fit(X, y)\n",
    "\n",
    "pd.Series(rfe.ranking_, index=X.columns).sort_values(ascending=False).head(10)"
   ]
  },
  {
   "cell_type": "markdown",
   "id": "eefb375e",
   "metadata": {},
   "source": [
    "#### RFECV and the plot between the Number of features selected vs Cross-Validation Score "
   ]
  },
  {
   "cell_type": "code",
   "execution_count": 113,
   "id": "7ff8ff38",
   "metadata": {},
   "outputs": [
    {
     "data": {
      "image/png": "[encoded data removed]",
      "text/plain": [
       "<Figure size 1000x500 with 1 Axes>"
      ]
     },
     "metadata": {},
     "output_type": "display_data"
    }
   ],
   "source": [
    "import matplotlib.pyplot as plt\n",
    "from sklearn.ensemble import RandomForestClassifier\n",
    "from sklearn.feature_selection import RFECV\n",
    "\n",
    "rf = RandomForestClassifier(max_depth=7, random_state=1)\n",
    "rfecv = RFECV(estimator=rf)\n",
    "rfecv.fit(X, y)\n",
    "\n",
    "# Plot number of features VS. cross-validation scores\n",
    "plt.figure(figsize=(10,5))\n",
    "plt.xlabel(\"Number of features selected\")\n",
    "plt.ylabel(\"Cross validation score (nb of correct classifications)\")\n",
    "plt.plot(range(1, len(rfecv.grid_scores_) + 1), rfecv.grid_scores_)\n",
    "plt.title(\"Optimal number of features : %d\" % rfecv.n_features_)\n",
    "plt.show()"
   ]
  },
  {
   "cell_type": "code",
   "execution_count": 114,
   "id": "4a8120d0",
   "metadata": {},
   "outputs": [
    {
     "data": {
      "image/png": "[encoded data removed]",
      "text/plain": [
       "<Figure size 1000x500 with 1 Axes>"
      ]
     },
     "metadata": {},
     "output_type": "display_data"
    }
   ],
   "source": [
    "import matplotlib.pyplot as plt\n",
    "from sklearn.ensemble import RandomForestClassifier\n",
    "from sklearn.feature_selection import RFECV\n",
    "\n",
    "rf = RandomForestClassifier(max_depth=7, random_state=1)\n",
    "rfecv = RFECV(estimator=rf)\n",
    "rfecv.fit(X, y)\n",
    "\n",
    "# Plot number of features VS. cross-validation scores\n",
    "plt.figure(figsize=(10,5))\n",
    "plt.xlabel(\"Number of features selected\")\n",
    "plt.ylabel(\"Cross validation score (nb of correct classifications)\")\n",
    "plt.plot(range(1, len(rfecv.grid_scores_) + 1), rfecv.cv_results_['mean_test_score'])\n",
    "plt.title(\"Optimal number of features : %d\" % rfecv.n_features_)\n",
    "plt.show()"
   ]
  },
  {
   "cell_type": "markdown",
   "id": "45150b3a",
   "metadata": {},
   "source": [
    "#### Observation\n",
    "* The graph between the cross-validation score and the number of features is used to determine the optimal number of features for the model. By utilizing Recursive Feature Elimination with Cross-Validation (RFECV), we were able to narrow down the optimal number of features to six. This graph allows us to visualize the performance of the model as the number of features increases, allowing us to select the optimal number of features that provides the best balance between bias and variance. The RFECV method iteratively removes the least important features and recalculates the cross-validation score until the optimal number of features is reached. This visualization is useful for selecting the best subset of features that maximize the model's predictive power while minimizing the risk of overfitting."
   ]
  },
  {
   "cell_type": "markdown",
   "id": "795f761a",
   "metadata": {},
   "source": [
    "###  4. KMeans Clustering and Elbow Method"
   ]
  },
  {
   "cell_type": "code",
   "execution_count": 131,
   "id": "c63ccbb7",
   "metadata": {},
   "outputs": [],
   "source": [
    "#importing libraries\n",
    "from sklearn.cluster import KMeans\n",
    "from scipy.spatial.distance import cdist"
   ]
  },
  {
   "cell_type": "code",
   "execution_count": 132,
   "id": "250a4b30",
   "metadata": {},
   "outputs": [],
   "source": [
    "# Loop through clusters and fit the model to the train set\n",
    "clusters=range(2,15)\n",
    "meandist=[]\n",
    "\n",
    "for k in clusters:\n",
    "    model=KMeans(n_clusters=k)\n",
    "    model.fit(scaled_ss)\n",
    "    clusassign=model.predict(scaled_ss)\n",
    "    meandist.append(sum(np.min(cdist(scaled_ss, model.cluster_centers_, 'euclidean'), axis=1),data.shape[0]))"
   ]
  },
  {
   "cell_type": "code",
   "execution_count": 133,
   "id": "008b1d74",
   "metadata": {},
   "outputs": [
    {
     "data": {
      "text/plain": [
       "Text(0.5, 1.0, 'Selecting k with the Elbow Method')"
      ]
     },
     "execution_count": 133,
     "metadata": {},
     "output_type": "execute_result"
    },
    {
     "data": {
      "image/png": "[encoded data removed]",
      "text/plain": [
       "<Figure size 640x480 with 1 Axes>"
      ]
     },
     "metadata": {},
     "output_type": "display_data"
    }
   ],
   "source": [
    "# display the data\n",
    "plt.plot(clusters, meandist)\n",
    "plt.xlabel('Number of clusters')\n",
    "plt.ylabel('Average distance')\n",
    "plt.title('Selecting k with the Elbow Method')"
   ]
  },
  {
   "cell_type": "markdown",
   "id": "6bc09692",
   "metadata": {},
   "source": [
    "#### Observation\n",
    "* The elbow method graph is used to determine the optimal number of clusters (K) for K-means clustering. By plotting the average distance between data points and the number of clusters, we can visually identify the point where adding more clusters no longer significantly reduces the average distance. This point is known as the \"elbow\" of the graph and represents the optimal number of clusters for the model. In this case, the elbow method graph suggests that the optimal number of clusters is 6, as this is the point at which adding more clusters does not significantly decrease the average distance between data points. Selecting K as 6 provides a good balance between capturing the underlying patterns in the data while minimizing the complexity of the model. The elbow method visualization is a useful tool for selecting the optimal number of clusters for unsupervised learning tasks like K-means clustering."
   ]
  },
  {
   "cell_type": "markdown",
   "id": "e49f46f5",
   "metadata": {},
   "source": [
    "### 5. PCA"
   ]
  },
  {
   "cell_type": "code",
   "execution_count": 142,
   "id": "1378da7b",
   "metadata": {},
   "outputs": [
    {
     "data": {
      "text/plain": [
       "(440, 8)"
      ]
     },
     "execution_count": 142,
     "metadata": {},
     "output_type": "execute_result"
    }
   ],
   "source": [
    "scaled_ss.shape"
   ]
  },
  {
   "cell_type": "code",
   "execution_count": 188,
   "id": "d66b09b4",
   "metadata": {},
   "outputs": [
    {
     "name": "stdout",
     "output_type": "stream",
     "text": [
      "Original shape: (440, 8)\n",
      "Reduced shape: (440, 2)\n"
     ]
    }
   ],
   "source": [
    "# By taking n components as 2\n",
    "from sklearn.decomposition import PCA\n",
    "\n",
    "pca2 = PCA(n_components=2)\n",
    "pca2.fit(scaled_ss)\n",
    "X_pca2 = pca2.transform(scaled_ss)\n",
    "print(\"Original shape: %s\" % str(scaled_ss.shape))\n",
    "print(\"Reduced shape: %s\" % str(X_pca2.shape))"
   ]
  },
  {
   "cell_type": "code",
   "execution_count": 202,
   "id": "ccc666a9",
   "metadata": {},
   "outputs": [
    {
     "name": "stdout",
     "output_type": "stream",
     "text": [
      "Explained variance is: [3.10707136 1.79404441]\n",
      "Explained variance ratio [0.38750123 0.22374588]\n",
      "Variance explained by first 2 components: 0.611247108626315\n"
     ]
    }
   ],
   "source": [
    "print(\"Explained variance is:\",pca2.explained_variance_)\n",
    "print(\"Explained variance ratio\",pca2.explained_variance_ratio_)\n",
    "print(\"Variance explained by first 2 components:\", sum(pca2.explained_variance_ratio_))"
   ]
  },
  {
   "cell_type": "markdown",
   "id": "e2cf0ce4",
   "metadata": {},
   "source": [
    "* The results indicate that the first principal component contains 38.75% of the total information, whereas the second principal component only contains 22.37% of the total information."
   ]
  },
  {
   "cell_type": "code",
   "execution_count": 190,
   "id": "1776abcb",
   "metadata": {},
   "outputs": [
    {
     "data": {
      "image/png": "[encoded data removed]",
      "text/plain": [
       "<Figure size 800x800 with 1 Axes>"
      ]
     },
     "metadata": {},
     "output_type": "display_data"
    }
   ],
   "source": [
    "# plot 1st vs 2nd principal component, color by class\n",
    "plt.figure(figsize=(8, 8))\n",
    "plt.scatter(X_pca2[:, 0], X_pca2[:, 1], \n",
    "            c=y, s=10)\n",
    "plt.gca().set_aspect(\"equal\")\n",
    "plt.xlabel(\"First principal component\")\n",
    "plt.ylabel(\"Second principal component\");"
   ]
  },
  {
   "cell_type": "markdown",
   "id": "fc0f7928",
   "metadata": {},
   "source": [
    "#### Observation\n",
    "* The scatter plot between the first principal component and second principal component in PCA is a visualization tool used to understand the distribution of data in a lower-dimensional space. PCA is a dimensionality reduction technique that transforms high-dimensional data into a lower-dimensional space while retaining the most important information.\n",
    "* By plotting the first and second principal components on a scatter plot, we can visualize how the data is distributed in this reduced two-dimensional space. \n",
    "* This scatter plot shows a clear separation of clusters which indicates that the PCA transformation has effectively captured the underlying structure of the data. "
   ]
  },
  {
   "cell_type": "code",
   "execution_count": 191,
   "id": "8d2c6cda",
   "metadata": {},
   "outputs": [
    {
     "name": "stdout",
     "output_type": "stream",
     "text": [
      "Original shape: (440, 8)\n",
      "Reduced shape: (440, 4)\n"
     ]
    }
   ],
   "source": [
    "# By taking n components as 4\n",
    "from sklearn.decomposition import PCA\n",
    "\n",
    "pca4 = PCA(n_components=4)\n",
    "pca4.fit(scaled_ss)\n",
    "X_pca4 = pca4.transform(scaled_ss)\n",
    "print(\"Original shape: %s\" % str(scaled_ss.shape))\n",
    "print(\"Reduced shape: %s\" % str(X_pca4.shape))"
   ]
  },
  {
   "cell_type": "code",
   "execution_count": 261,
   "id": "149f0f6c",
   "metadata": {},
   "outputs": [
    {
     "name": "stdout",
     "output_type": "stream",
     "text": [
      "Explained variance is: [3.10707136 1.79404441 1.0140786  0.74007428]\n",
      "Explained variance ratio [0.38750123 0.22374588 0.12647173 0.09229904]\n",
      "Variance explained by first 4 components: 0.8300178803359718\n"
     ]
    }
   ],
   "source": [
    "print(\"Explained variance is:\",pca4.explained_variance_)\n",
    "print(\"Explained variance ratio\",pca4.explained_variance_ratio_)\n",
    "print(\"Variance explained by first 4 components:\", sum(pca4.explained_variance_ratio_))"
   ]
  },
  {
   "cell_type": "markdown",
   "id": "5cdd0809",
   "metadata": {},
   "source": [
    "* According to the output shown above, it can be observed that the first principal component contains 38.75% of the total information, the second principal component contains only 22.37% of the total information, the third principal component contains 12% of the total information, and the fourth principal component contains 9% of the total information."
   ]
  },
  {
   "cell_type": "code",
   "execution_count": 194,
   "id": "61e3c324",
   "metadata": {},
   "outputs": [],
   "source": [
    "import plotly.express as px"
   ]
  },
  {
   "cell_type": "code",
   "execution_count": 204,
   "id": "73a211cf",
   "metadata": {},
   "outputs": [
    {
     "data": {
      "application/vnd.plotly.v1+json": {
       "config": {
        "plotlyServerURL": "https://plot.ly"
       },
       "data": [
        {
         "diagonal": {
          "visible": false
         },
         "dimensions": [
          {
           "axis": {
            "matches": true
           },
           "label": "PC 1",
           "values": [
            0.8439389283589349,
            1.0626764494364704,
            1.2691405157256082,
            -1.0567823867244301,
            0.6340304841535805,
            0.5301108983814706,
            0.39956024471777113,
            0.7911656497336045,
            -0.663831130814797,
            2.1506847984088253,
            1.255993894576048,
            -0.16821061177295216,
            1.4398558812208193,
            1.4069561102138228,
            1.3739599872296238,
            -1.0718152121562048,
            1.2580123337964582,
            -0.6185990128414308,
            0.8670934289838254,
            -0.4846667946979252,
            0.3315146865744448,
            -1.2544410791612723,
            -0.695754706566852,
            4.397755901930425,
            1.6259880831601217,
            0.5609214479872605,
            -1.2069806928097018,
            -1.2331191169542488,
            3.470373848888087,
            -1.1078103578348875,
            -0.24319379848513478,
            -0.8805660642907834,
            -1.1389826326227834,
            -0.7389785861049752,
            -1.1407787316902487,
            0.9148730657734531,
            -0.5841110290237154,
            1.5490633233089723,
            2.1869822151667697,
            -1.3601517074917238,
            -0.5565195573036368,
            -0.5364145358490942,
            1.519754982398381,
            2.5657907059946945,
            0.9824537541268757,
            3.1643874850221794,
            2.411082254426318,
            8.981542107608519,
            1.0825858537305602,
            4.00281168221899,
            -1.1270265551709568,
            -0.6319581668145501,
            0.30807408067439856,
            1.3998555570849944,
            -1.2326280515211292,
            -0.675010777047058,
            4.896772475413768,
            1.5782493702083271,
            -1.2274732380271896,
            -0.24730902531601617,
            0.5350891610227976,
            8.249359621996756,
            0.6844314970142162,
            1.9710393933519172,
            -1.0322948051644425,
            6.136196604205566,
            -0.5667956795932926,
            1.211830447991557,
            -0.5469746162677979,
            -1.1529952922263207,
            -1.161123556261411,
            1.0406678394440156,
            -0.8932897091435633,
            0.31679915859353547,
            0.7001143258728286,
            -1.4039176585552309,
            -0.8040958820796207,
            3.2322605931689075,
            -1.265809030034062,
            -0.8299339531200957,
            -1.1618187256890724,
            1.7442286069956627,
            1.1666052093276005,
            -1.2157006796148595,
            0.3336847142380111,
            12.289715443348452,
            8.202528556178528,
            0.20398696728496363,
            -1.2584066962844256,
            -0.7536675474235719,
            -1.350539232663608,
            -1.0907760290276438,
            5.369270811818482,
            -1.2244536984465195,
            1.4316422897157914,
            -0.8620811888018123,
            0.5144850461424835,
            -1.411722323530031,
            -1.4080550310847852,
            -1.229935851467965,
            1.6542702438825398,
            1.903563046473887,
            0.8614807620162337,
            -0.6525904220229647,
            -0.9751225471339834,
            -1.1178679144586303,
            1.3169830319350533,
            2.013686850623649,
            0.7277010749176095,
            2.2489909675667827,
            -1.187497902543102,
            1.9265189626216956,
            -1.0299577150618666,
            -1.1140182408066497,
            -1.2488911385301982,
            -1.219720196395522,
            -1.0994413687591693,
            -0.8340582481945091,
            -1.1847723227049858,
            -1.1685978213143273,
            -1.160218502040795,
            -1.1526986455979122,
            -1.4234536986316058,
            0.8303436665774325,
            -1.1454955283871975,
            -0.9574709224573484,
            -1.2769756912015917,
            0.8943837585372227,
            -0.5653906360512242,
            -1.2654384509732408,
            -1.2273847005477185,
            -1.3914180838902817,
            -1.104900093567156,
            -1.2999831393502324,
            -1.2052596053545515,
            -1.2160988563324062,
            -0.19532290250242007,
            -0.4075052781941458,
            -0.717296905728216,
            -0.8486811285769867,
            -0.568971362516354,
            -0.292909341376973,
            -0.6303814102162456,
            -1.3123521148241002,
            -1.0875473401076068,
            3.5550088213805346,
            -1.201787563423497,
            -0.9731163400544401,
            -1.3787331839404555,
            -1.2529976187624647,
            -1.2059951790256593,
            -1.0120636031888681,
            -1.2080228269601152,
            -0.6207454644379389,
            -1.4557637010990545,
            2.63121492066052,
            1.5424786581721908,
            -1.1816837239972473,
            0.9432600864400007,
            1.677959194825461,
            1.0134011612685354,
            -1.3163771651845542,
            -1.1066920414628565,
            3.4901023634949353,
            0.8157432941654383,
            2.24841669833128,
            1.1444547961535263,
            -0.8592809383070791,
            -1.3603367621280837,
            -1.2728302621492587,
            1.54980160804879,
            3.560210098527435,
            -0.3948278885439134,
            2.179721866470068,
            -1.0075358907078447,
            1.1812424872174239,
            -0.6045256082820106,
            -0.6188384739120981,
            -0.7247099671862673,
            -0.8879184743432269,
            -0.2875741596211407,
            2.182240450463016,
            0.44166596504502476,
            5.03618823857796,
            -1.1051014215229533,
            -0.9962768113806515,
            -1.2652916067571012,
            -0.059777814321065444,
            1.3442905200655988,
            1.3938875695110944,
            -1.014972827654599,
            -1.3927165943762325,
            -1.2152626245373332,
            1.4710603572664886,
            -1.1466946162701024,
            -0.7841380494334035,
            -0.7145500326494797,
            0.9781276132463568,
            -0.9456061517273828,
            -1.2225054504053707,
            2.6521969497034927,
            3.341733387785025,
            0.09579130803923414,
            -1.2592910133630013,
            -1.1120334414917021,
            2.525110429159214,
            -1.3964668661496598,
            0.6029845822781961,
            -0.5548887140064485,
            2.548604673011272,
            -1.2283572040537238,
            5.701001478911851,
            -1.2411058973378695,
            -0.22595437062670476,
            1.140508409201829,
            0.8070462047941505,
            4.012562976595907,
            -1.2896780809547521,
            1.6205472855589118,
            -1.4338663935108498,
            -1.3850264267839594,
            0.014864005267166185,
            -1.3037048647701197,
            -0.028256538014753054,
            -1.3765343881921301,
            -0.9866799263671585,
            0.6080436840628303,
            -1.2533107931892649,
            -0.934932703960041,
            -1.138403436583494,
            0.24484788941303723,
            -0.43968449552287137,
            -1.1749989911631933,
            -0.9847411173671361,
            -1.0117262735881598,
            -0.820545667555852,
            -1.2783509430940574,
            -1.2418821085199725,
            -1.4679514644807008,
            -1.0563446764153832,
            -0.8296006913638899,
            -1.2317852575622164,
            -1.284862379886498,
            -0.7115996041647177,
            0.02240718815523739,
            1.7060918450605005,
            -1.219620634397578,
            -1.4772125150590416,
            -0.9943873510537746,
            -1.1066083749849787,
            -1.2503727389614323,
            5.063360702925868,
            -1.082050416694523,
            -3.8994350602582475e-05,
            0.20596498719948073,
            -1.4497444074717274,
            -0.871719182904772,
            -0.8947026494046748,
            -0.9941336031550392,
            -0.7678573216503357,
            -0.9968177029696379,
            -1.432962788738695,
            -1.3145925046954814,
            -0.7697127539651811,
            1.6105302212478467,
            0.9871960775142269,
            1.9394763391276821,
            -1.07919140900801,
            1.7367952508503834,
            -1.4470837022393581,
            -1.4275189252662206,
            -1.0241241968620005,
            -0.5399495047364351,
            -1.1597936972314038,
            -1.1083192695354247,
            -1.324294972816151,
            -0.7025001307951018,
            -1.4209199245689306,
            -1.1206768182138462,
            0.8524814795741278,
            -1.0733722727852195,
            0.6058175258264823,
            -0.9096502426880836,
            -1.1200492156202249,
            -0.438666129084929,
            -1.2600838872761926,
            -1.1337649964588905,
            -1.1513850184625551,
            -1.3288860766900967,
            -1.5110794627357973,
            -0.9915168771541591,
            -1.0305446604218873,
            -0.8999524218775469,
            1.5211625980799863,
            -0.8493604409611947,
            0.07534528551200245,
            -1.1351652031904391,
            0.43237773094179693,
            0.814674402750542,
            -1.2810331390025644,
            0.5508770749357589,
            2.3781383201676958,
            1.0220991890826878,
            1.539116464218784,
            2.7305794619635,
            1.1873180835115367,
            2.361794996871971,
            -1.134228858023412,
            -1.212882543581898,
            2.3027449108965454,
            -1.260115473996541,
            -0.911007134895224,
            2.6207763434393954,
            -1.3127014589462616,
            -0.8149125537290256,
            1.6818702663399019,
            -1.2453823992992084,
            -0.7765851582325255,
            -1.079029856698004,
            3.461540502385591,
            -1.0595014429449914,
            -1.0293744616043907,
            -1.1449517302999888,
            -0.5969421140719132,
            -1.1158338805091672,
            0.37808610991337593,
            -1.253127019028487,
            -1.3100608863257988,
            -1.1344063899531878,
            -1.0884992926651105,
            -1.055519230179825,
            2.982787993303677,
            -1.0962210795264984,
            7.785163643776611,
            -0.23220419857909516,
            0.9807092654032304,
            -1.2965445655218866,
            -1.2341129953635108,
            -1.1429952173294509,
            -1.0085301160508968,
            1.1319204476022837,
            1.1402214084108653,
            -0.18076595172884627,
            3.076058072691666,
            -1.265375763290692,
            -0.3925653434033103,
            1.543314977250491,
            1.1033899642995102,
            -1.0447861322710381,
            2.8969384140583574,
            -1.2238617328279187,
            2.916362083793384,
            -1.2938079325579164,
            2.06914517138449,
            -0.6306948066437792,
            -1.2803220614265949,
            -1.4775259632143962,
            1.5377121795571667,
            0.08810819180282614,
            -0.9018657695636448,
            -1.1431159572349903,
            -1.3544220284491897,
            -1.171262156271294,
            -0.9968613136942485,
            -1.2523866522595324,
            0.9564456170673983,
            -1.2056925232038584,
            -1.3470896736585871,
            -1.2672809678462886,
            -1.4036266078604345,
            0.08378229107397843,
            -1.201303270087753,
            -0.8159209881622741,
            0.6237772863398957,
            -1.1746790886172034,
            -1.2665389175506663,
            1.3281827274223914,
            -1.1148201241278846,
            -1.082603015481794,
            0.459948824757786,
            -1.2833754285699777,
            -1.1185196882039863,
            -0.23667573646611242,
            -1.1474596573377034,
            1.0972145869317456,
            -1.271653289620952,
            -0.991156458753298,
            -1.226734306266961,
            -1.3299765303830031,
            -1.2602024502677145,
            -1.2634796153259638,
            -1.0516528116421542,
            -0.9475556583777179,
            -0.8267213490689419,
            -1.220458583911202,
            -1.2383199344700764,
            1.2250209761108208,
            -1.2935027748987544,
            -1.400918065548856,
            -1.332214073195325,
            -1.2931103247819933,
            -1.1807424725156703,
            -0.9065898999625841,
            -0.4638821471309883,
            -0.8956447902034981,
            -1.272532815454377,
            -0.7946818533620076,
            2.198871765090037,
            0.3549622647650532,
            -0.38558823580263474,
            -0.7803167349062451,
            -0.8017575229979937,
            -0.20440957965807557,
            -0.6565778472910422,
            -1.0506669932354697,
            0.7948240903930938,
            1.5541186504808295,
            -0.054833661224860844,
            1.8330640089389196,
            -0.8562912544955698,
            0.4421950426931609,
            0.7125478029420795,
            -1.024647094999429,
            0.1455741645182368,
            0.6548442773112402,
            -1.160157207915021,
            0.5677370358277992,
            -0.12493611653777549,
            -0.7125825090723871,
            -1.0134874185857559,
            -0.12446614091427786,
            -0.6819380097812522,
            -0.9979463331066353,
            -1.0645893715889025,
            -0.49038086559629307,
            0.222884222876371,
            -1.290171575653852,
            3.8651490874891263,
            -1.0970673848282795,
            -1.1659506689075911
           ]
          },
          {
           "axis": {
            "matches": true
           },
           "label": "PC 2",
           "values": [
            -0.5153507494641548,
            -0.48460125849368907,
            0.6820545529913429,
            0.6108214957943588,
            0.9741988355722466,
            -0.585411382195496,
            -0.8463428776877452,
            -0.4611401747979298,
            -0.5774654544465982,
            -0.617913981157838,
            -0.5124524340362093,
            -0.6887961171425644,
            0.6088529472357133,
            -0.16056466286428406,
            0.0685013841375535,
            -0.519859188056437,
            -1.1216544139711326,
            0.28240671123524846,
            0.2204484192300823,
            -0.5764639943148582,
            -0.19417161987510057,
            -0.30573444787233445,
            2.1641814733787728,
            4.2104214029961256,
            1.0124055722062655,
            -0.8024222147064577,
            -0.10298829019918977,
            -0.3115223001668903,
            0.11866541812508044,
            1.0155817697707414,
            0.43593373709624966,
            -0.42104483395236164,
            -0.06700109331264112,
            1.2139922247040484,
            -0.8375454540431692,
            -1.2565205079543902,
            1.3330135485566343,
            -0.40020614517135794,
            -0.9850363825997981,
            3.000166771424501,
            2.270036159738485,
            0.5066346254230693,
            -1.0098016616520136,
            -1.3235013757683534,
            -0.9636190538593064,
            0.27074938912879903,
            -0.699711899983207,
            3.3254529798225523,
            -0.6536896215977757,
            -0.6370873720354459,
            0.0829496861955312,
            -0.7764874162736891,
            0.4960102616579888,
            -1.2119164453417295,
            0.628116938814393,
            -0.46246010544988897,
            -0.4062836070203792,
            -0.9617031508070597,
            -0.3030830911177881,
            -0.43386562644889687,
            -1.1269474061945706,
            1.07254999921866,
            -0.43124906859153506,
            -0.40918989673907197,
            -0.2012092559335403,
            -1.3005554126146905,
            -1.091473856897116,
            -0.33787077677807853,
            0.5153525994496466,
            -0.5434365050653422,
            1.2230563324355437,
            2.9831843236659146,
            0.3395132486108673,
            0.5427132093672382,
            -0.5575832372751589,
            0.5177818041098313,
            0.13323487785262925,
            -0.6888712020568174,
            -0.31753407123701005,
            -0.523543905412137,
            -0.623889246128061,
            -1.3769556944996537,
            -0.39207823468267056,
            0.23993144953143292,
            -0.8641594136618284,
            -0.0014522964014559389,
            1.228802159858331,
            4.272715035489881,
            0.4593786573625724,
            1.0589594417868748,
            -0.11196457441719448,
            0.785010656989725,
            0.49179964879770977,
            4.2662308336092085,
            -1.001722056859293,
            -0.8080201284689827,
            -1.4772478473352744,
            -0.9380634359364963,
            -0.9103124577088385,
            0.13045399178944045,
            -0.060458999745566816,
            -0.7892008973569847,
            -0.7526436760219744,
            3.9416242572552718,
            -0.20765233026401397,
            -0.03946616859949664,
            -1.0888410898350604,
            -0.5170777753326553,
            -1.013581603526354,
            -0.9454387682753187,
            0.04424517345751005,
            -0.4772287019117896,
            1.3653797936040903,
            0.25727092020059844,
            0.24445804312550687,
            -0.15392286336240674,
            -0.32524047977060017,
            -0.2660144415093145,
            0.6185440478757387,
            -0.07744876346907628,
            0.16767959313201145,
            -0.47963746296245874,
            -0.15889406804361983,
            -0.5128073245433765,
            1.3213825688055776,
            4.298236189910798,
            0.8490548353341426,
            0.12780621601793068,
            -0.826357769137092,
            1.221881075906514,
            0.22592416297184778,
            -0.8654112120316866,
            -0.29783059327640043,
            -0.5330391597815449,
            -0.5269200090501834,
            -0.5768523953256203,
            0.14347369554486958,
            -0.6537050681354313,
            0.22987722664927268,
            -0.45094058613389143,
            0.5120775619184984,
            0.8456893992528183,
            0.9971242323740046,
            0.4801500689736871,
            -0.1608921585965942,
            0.11709432608427611,
            -0.48863007521993823,
            -0.37128139626592294,
            -0.2393157306548756,
            0.6327336184546941,
            -0.05552050227973056,
            -0.5286000715207851,
            0.1276492491231202,
            -0.2741504710192456,
            -1.028935502971187,
            -1.0012900254078465,
            -0.7435829809478038,
            0.16345524671728762,
            -0.8830921167064488,
            -1.3875781991518994,
            -0.9473187136997192,
            0.010094532011772754,
            0.03897180584399817,
            -0.8406103020305155,
            -0.8254288925578928,
            0.27569768494262636,
            -0.4456635660687359,
            -0.723162398536879,
            -0.5608068873800445,
            -0.3946213268147523,
            -1.2446641468278745,
            0.24655043837523488,
            -0.7782344107386084,
            -1.2872374828118398,
            -0.44915946065876483,
            -0.9800348398989202,
            1.8820531601054236,
            0.3642918385092699,
            -0.21371967829493602,
            0.1462746441135168,
            0.13903997621756967,
            7.8408249621028325,
            -0.9015986041383017,
            15.172659134419414,
            -1.0289317227979475,
            -0.24346300282257244,
            -0.3924498044234148,
            -0.07402345442844196,
            -0.7352243285343519,
            -0.8753382651877746,
            0.7000007771248278,
            -0.38184934302330276,
            -0.6640316857264373,
            -1.3176717241738416,
            -0.4461366468072028,
            1.0522217846872428,
            3.0756403713077747,
            -1.022588222689162,
            -0.10090848318388379,
            -0.6039881952022012,
            -0.7760445386380072,
            -0.6644077073603168,
            2.067458652414396,
            -1.1004213998713797,
            -0.6578305729064208,
            -1.2500960524543179,
            -0.7438200643800648,
            -1.1380790652701882,
            -0.7222178696674103,
            -1.1097340264514859,
            0.23995037394844027,
            0.259019778740236,
            -0.36733190503661334,
            -0.573355622562917,
            -1.2374202675773185,
            -0.305965740737771,
            -1.272195089927087,
            0.12033649930678332,
            -0.17831220249192312,
            -0.6955342632327716,
            -0.198078614805901,
            -0.8085165416088104,
            0.03644506710934448,
            -0.5131073177145262,
            -0.6462355137740989,
            -0.3656009250576444,
            -0.17055233385919327,
            -0.5502056255908313,
            -1.0526598600841026,
            0.25297283884565475,
            0.3936678694384842,
            -0.5593613513152806,
            0.15224968970659963,
            -0.8971035815550087,
            0.5259282329810929,
            -0.7538638624736212,
            -0.49199356855822957,
            0.48421539215385373,
            -0.690716921409757,
            1.866994335181704,
            1.6863834424336355,
            0.34205432109255224,
            0.1319385948608477,
            -0.14734484116670957,
            -0.28117140690175296,
            -1.0043003222933993,
            -0.4287387978691999,
            -0.23947195854542755,
            -0.23345458733830216,
            0.05974170600222516,
            -0.6541442742076311,
            0.5691018130005042,
            0.39340919754260106,
            0.5356194845999105,
            0.8923651325074626,
            0.6293736485811778,
            -0.4760285437684726,
            -0.07395838344933701,
            2.6220504442008075,
            1.6147139841636964,
            -0.5459426413274376,
            0.05814575024181585,
            0.037400531385683465,
            -0.5324397418205656,
            -1.2213568261226289,
            1.6143152444529458,
            -0.707931836846388,
            0.8570634887500023,
            -0.8244883746388602,
            -0.2153085801973799,
            -0.28005290507586333,
            -0.5282839473038521,
            -0.6718733008115904,
            1.440652037288639,
            -0.6941150958769997,
            -0.8191414988740499,
            1.1719266541139253,
            1.4032743462650317,
            0.4455829039767781,
            -0.24267391735579052,
            -0.5270010085281359,
            -0.3461927204254776,
            2.003634291167041,
            1.593400486884167,
            3.3464680354294067,
            0.7041584866007521,
            -0.523101095608159,
            0.8211286313216125,
            -0.2487190854038159,
            0.853393566622044,
            -0.5733567436622906,
            -0.29995094003016914,
            -0.21990980173256375,
            -1.0000228101534725,
            0.2342381329354797,
            -1.1603370213485342,
            0.21100854538582978,
            -0.9641680449255663,
            -0.9720051203496837,
            -1.0073120089387941,
            -0.3104636338287605,
            -0.9613163939366333,
            -1.3126013778141739,
            -1.5486691997904074,
            -1.1359425586855625,
            -1.1590111498814022,
            -0.6330999244216056,
            -0.04747811568630233,
            -0.643758460051223,
            -0.8014161082241333,
            0.9435989930468175,
            0.5251151580263812,
            -1.6389567824358755,
            -0.10550812912828667,
            -0.2544904646707456,
            -0.446870672869208,
            -0.27010487312101683,
            -0.5848470283775119,
            -0.31896106489698617,
            -0.3502958572957585,
            -0.7351406284545925,
            -0.1650373463502427,
            -0.000989222542973094,
            -0.38561076318637777,
            0.5243567751566348,
            9.133040997803317,
            -0.32331582733938036,
            -0.9291558961232927,
            0.8692485299458618,
            -0.1227854812282364,
            -0.04971568823770821,
            -0.5981444014758992,
            0.6315204213471732,
            -1.8573228342856312,
            1.211684878373057,
            0.18832589536061153,
            -0.2901988365292666,
            0.4450513570963298,
            0.8918036309701625,
            0.5372256232317328,
            -1.2630736778328282,
            -0.8883375042092272,
            -0.723464835548448,
            -1.4736372326100033,
            -0.5720951342506874,
            -0.9437601919099796,
            -0.8397215329737394,
            0.21715847937708593,
            -0.6026194502410426,
            -0.852839907358176,
            -0.49074287006560324,
            -0.7099566824145422,
            -0.8759095045772303,
            -1.3266136360207677,
            0.8980667958298699,
            -0.9906747903449793,
            0.34884037949940677,
            -1.6213422052506326,
            0.9933469136652999,
            -0.6892830128223353,
            0.21589488231927387,
            -0.6375582247970072,
            -0.7388691931548053,
            -0.8055098301987925,
            -0.7265626151057206,
            -0.4789611146043729,
            -0.394904667674228,
            -0.6639494843719898,
            0.22592369794342218,
            -0.6168228538854315,
            0.7906042549052913,
            0.931105723348173,
            0.20721679163807127,
            0.0007869919491672708,
            -0.4428457928830962,
            -0.7152462515599809,
            -0.3075526650263429,
            0.955090911632967,
            -0.601359331491807,
            -1.1759058720410875,
            0.616931275121763,
            1.0905094823974162,
            1.3482817114715135,
            -0.4093371052434516,
            1.3696229186265882,
            -0.056011690704087964,
            -0.5069960929514142,
            0.25163369900293764,
            -0.36911197521939837,
            -0.15060879694387372,
            -0.044263356652077916,
            -0.42942162683427787,
            -0.7305954346181478,
            1.2773807832792696,
            -0.28925729944700734,
            -0.24977576412726843,
            -0.3385357104259419,
            0.42269486308196264,
            0.13087948924136017,
            -0.40547832777677595,
            -0.2361454679270897,
            2.088178423257991,
            0.23134233505019747,
            0.33118654941301995,
            0.4345212978648109,
            -0.44886794092778215,
            1.440306130352759,
            -0.6106892298177722,
            -0.8691758575778307,
            0.5889988104544585,
            -0.26167802866092593,
            0.11683176643540935,
            -1.0248573547315947,
            1.887373336011764,
            -0.05096466180562391,
            -0.5531177675681382,
            -0.9100261106416465,
            -0.5600091125176341,
            -1.2656451081549644,
            -0.277454771124931,
            -0.6569683501915871,
            -0.3067691133014723,
            0.3493130341814636,
            -0.4815277602978302,
            -0.6723922271771584,
            1.6859082127613505,
            0.32845007165171836,
            2.7071187163419284,
            -0.47327782371439436,
            -0.19380893252104076,
            -0.37959494845768826,
            1.3264744430766726,
            -0.10594759432803223,
            -0.44363983492002507,
            -0.10168214525004002,
            2.480504624702557,
            1.5603974201297766,
            -0.47985375509606054,
            -0.06989567730170336,
            -0.9021567509632676
           ]
          },
          {
           "axis": {
            "matches": true
           },
           "label": "PC 3",
           "values": [
            -0.7676322150162092,
            -0.6729752593814449,
            -0.6640946011292789,
            -0.505654447117196,
            -0.7712088202505888,
            -0.7586245890818695,
            -0.7775524598671456,
            -0.6966086474214883,
            -0.5744878787701947,
            -0.5907358526384405,
            -0.5528961680832778,
            -0.8058245178086513,
            -0.8590519670404261,
            -0.6914100983628256,
            -0.8055460572377086,
            -0.6329558643482337,
            -0.6504204078136991,
            -0.5848903086139414,
            -0.7584387023565745,
            -0.5614646285803432,
            -0.8169758217285914,
            -0.5401579299361148,
            -0.5352530590257167,
            -0.5655948134336379,
            -0.7231232978482783,
            -0.7976937949968027,
            -0.5735340065366692,
            -0.6725055907847739,
            -0.5001208673566044,
            -0.8449761240576464,
            -0.6200008166498029,
            -0.5301996837041404,
            -0.7205847436203898,
            -0.6023429271629244,
            -0.5798438467033367,
            -0.6494748206639674,
            -0.721517883485459,
            -0.6772290228703182,
            -0.6074387232915925,
            -0.7384375017110588,
            -0.48464539462586376,
            -0.6222918846850221,
            -0.6849424862603525,
            -0.5161733390556678,
            -0.7137677879368222,
            -0.5210584764605778,
            -0.5385005626802553,
            -0.20324937710935173,
            -0.722316018622282,
            -0.42164485051020456,
            -0.5306384083358264,
            -0.5571342840515944,
            -0.9860824307413883,
            -0.61707303461338,
            -0.717483223638208,
            -0.5562441196921374,
            -0.33372136325020935,
            -0.6572160465361224,
            -0.6675091323788401,
            -0.5550102773948561,
            -0.7490430731187214,
            -0.26688504334266167,
            -0.6369452805508555,
            -0.5811233977506939,
            -0.5102188083699034,
            -0.24645442556563463,
            -0.522692861058073,
            -0.7495762720169522,
            -0.420464334714795,
            -0.6190386227794216,
            -0.4287755227743993,
            -0.45411004681860506,
            -0.3662305814744636,
            -0.6474948074914589,
            -0.7178804344201303,
            -0.6312845244721891,
            -0.36903751730432127,
            -0.5436655050149668,
            -0.6084572791928031,
            -0.5517817381406557,
            -0.617694639026257,
            -0.5942983522037705,
            -0.7149616930754418,
            -0.6717043901774927,
            -0.7609248351653995,
            0.14285753268018028,
            -0.3065750816701404,
            -0.6806945788406374,
            -0.3896862538755473,
            -0.6486697624832767,
            -0.5878894934618852,
            -0.445577774248191,
            -0.32752252035988544,
            0.22034221810065197,
            -0.6673971190553986,
            -0.5492727714547319,
            -0.6899258729965779,
            -0.5813931844742005,
            -0.5787460261567017,
            -0.5095484804442412,
            -0.6153193549665932,
            -0.567463516758465,
            -0.6316447252050419,
            -0.47441947350157715,
            -0.6294183427857246,
            -0.6657726523917733,
            -0.6460229703721636,
            -0.582357817091187,
            -0.6971940503063638,
            -0.5676637873499117,
            -0.6132633157945496,
            -0.6615848658196413,
            -0.4880746064440509,
            -0.6013084907441074,
            -0.6509793099124469,
            -0.5927882721523904,
            -0.6149869086107808,
            -0.5680647734388012,
            -0.5872713321569374,
            -0.5414917935991074,
            -0.6404703169944537,
            -0.5493471881525863,
            -0.6363645728365642,
            -0.7038937755779061,
            -0.7112938280613393,
            -0.6690669318639426,
            -0.5135899625422048,
            -0.8096419372994853,
            -0.5400383502977802,
            -0.8430883307175641,
            -0.47814416875517135,
            -0.6042958865343446,
            -0.6644498507361719,
            -0.6458566266993608,
            -0.6190095476427661,
            -0.5985082806780254,
            -0.4322714152777132,
            -0.5325180497258091,
            -0.6534786554887217,
            -0.5801235303694432,
            -0.6105160506950524,
            -0.7370968630527104,
            -0.723120773057437,
            -0.448717162514269,
            -0.7045497357601749,
            -0.6145382267118547,
            -0.6160350465619999,
            -0.5994558038175045,
            -0.5347017247210788,
            -0.7926733585349757,
            -0.6789823277468553,
            -0.5748358430029128,
            -0.6362237660626369,
            -0.5610409341434787,
            -0.6039474772662704,
            -0.5430450170922939,
            -0.6437575216317368,
            -0.6178876732166637,
            -0.6683488713478348,
            -0.5949067156723008,
            -0.6538910145934804,
            -0.6598818708836663,
            -0.6147299739906352,
            -0.4392725207995378,
            -0.6485701485868304,
            -0.5692598378749636,
            -0.673165427846481,
            -0.5694886141030897,
            -0.601134493081436,
            -0.5668252054446133,
            -0.5893301464311171,
            -0.49453037710275166,
            -0.5222847146546442,
            -0.5406855843082577,
            -0.510739884536753,
            -0.6696868876519558,
            -0.6674160781769064,
            -0.6014992460170706,
            -0.6014312445590825,
            -0.48080242701980874,
            -0.6028796733855747,
            -0.7335851189159208,
            -0.44726890805005715,
            0.29488208813128247,
            -0.5737913139350994,
            -0.576497176533323,
            -0.5210254030091301,
            -0.3523018922373016,
            -0.6164674284702304,
            -0.6438256327779279,
            -0.5044732463417095,
            -0.6678552857232297,
            -0.6098022076387835,
            -0.5921347986977733,
            -0.611213526762503,
            -0.47789507345762905,
            2.2493287259388635,
            1.8891195661400324,
            1.9907259479115338,
            1.9053381009827817,
            2.0942824307678256,
            2.1283439093372527,
            1.9745185582386149,
            1.9685736345704516,
            1.9871254649388495,
            2.0228476098870676,
            1.925668490879742,
            1.9157944484457572,
            2.048799199620336,
            1.9916537125071825,
            1.8680314366274275,
            2.27587681460419,
            1.93475694034857,
            2.043414914135842,
            1.9035282132676092,
            2.122337001125883,
            2.1121942508129323,
            1.8909534821608858,
            1.9376607406289887,
            1.9759540786928451,
            1.8890056703894027,
            2.021181581636689,
            2.1116836660205816,
            1.9239942687462002,
            1.9168575761309736,
            1.904231404324448,
            1.7486277092669094,
            1.9850686895650678,
            2.001315006986154,
            2.077999877998961,
            1.949094784165472,
            2.029157324432839,
            1.798751421644581,
            1.9925184485592988,
            1.9659720389313453,
            2.003921566426165,
            1.9573019985578102,
            1.9396250677510314,
            1.9196539292773658,
            1.7705761909891866,
            2.119213162866322,
            1.8405493741075605,
            1.9264364941726806,
            1.926493625389448,
            2.0340008472272206,
            1.9212022042523684,
            1.941640981365357,
            1.898931618601029,
            1.8774666172157342,
            2.0736832034512487,
            1.977147870723762,
            2.3124761103877227,
            2.115907734961106,
            1.8533318707458994,
            2.083142345614363,
            1.8072057885668331,
            1.9180339370111694,
            2.0560007703835557,
            1.7375348778777533,
            1.7013506442244106,
            1.9168514524458453,
            2.0643053630488004,
            1.816227083917852,
            2.0966747345418297,
            1.9216222723062182,
            2.307250912609974,
            2.000641776257368,
            1.914126695606162,
            1.8901736701231366,
            1.9042020566547464,
            2.0539097512490985,
            1.9778396219531724,
            2.010541965966478,
            -0.7213819582530501,
            -0.5679992225693359,
            -0.5779231733075536,
            -0.6344691199292101,
            -0.22765716530006264,
            -0.5149601288000715,
            -0.7660655400780341,
            -0.5784796320977074,
            -0.7613790588124741,
            -0.7533765905833599,
            -0.4993508755123445,
            -0.7866107416498578,
            -0.8357947939568724,
            -0.5859642080192574,
            -0.47537831955049387,
            -0.6828847338359433,
            -0.8651097683971001,
            -0.5795161195366761,
            -0.5524476423836419,
            -0.4863485403206873,
            0.6425093270787308,
            0.586893340462237,
            0.5011370415532047,
            0.6390487587171869,
            0.551566013766682,
            0.5748635006167584,
            0.6872426733465384,
            0.4735094624505411,
            0.7299859716897417,
            0.6065887365243061,
            0.66388009865882,
            0.7659277812711098,
            0.6352930959052695,
            0.7140878782657353,
            0.6000042013879416,
            0.6495544722022993,
            0.7258642026765456,
            0.9544149486581492,
            0.5874189928544328,
            0.7827811872448128,
            0.7275815610765008,
            0.6815230204355018,
            0.6436722186987313,
            0.7011011691782296,
            0.7319410299184337,
            0.6718369169825826,
            0.745199269115942,
            0.6947265928443664,
            0.705113570605635,
            0.6823665680917627,
            0.6721783521668879,
            0.5701051907973171,
            2.1055168813818734,
            0.7410858330397367,
            0.6864099944889408,
            0.7719882125903564,
            0.7928926948917683,
            0.7211060620273578,
            0.7180934087084458,
            0.5855213153956246,
            1.1516474183022576,
            0.6817460055272045,
            0.44981714332664235,
            0.5988431944985068,
            0.8292687929819147,
            1.0956445436819409,
            0.9256900758967078,
            -0.6405074558871181,
            -0.6523431251096498,
            -0.5016122983333524,
            -0.4509080279200828,
            -0.5529710127422974,
            -0.5135858394033901,
            -0.5676695352016943,
            -0.7722872094718726,
            -0.5631464496383558,
            -0.5006934260289347,
            -0.5671505209279746,
            -0.47804588547878657,
            -0.5737282696196508,
            -0.5656487006989869,
            -0.4898449423738155,
            -0.5835995837383938,
            -0.6811602814496026,
            -0.5986631188735015,
            -0.37658538741430425,
            -0.5667531052302832,
            -0.6517748684962841,
            -0.5976263874839333,
            -0.5843456724815462,
            -0.5922636217486782,
            -0.5777024258231063,
            -0.6684082733176366,
            -0.6223883425784116,
            -0.5820774133822713,
            -0.6916077455550953,
            -0.61392125355944,
            -0.9829792790051612,
            -0.5155461652003951,
            -0.5841763690407168,
            -0.7728781265169065,
            -0.5906948486643014,
            -0.6131241039632871,
            -0.5187861527418048,
            -0.8252661223314229,
            -0.5970782710643668,
            -0.7293989085835249,
            -0.6841308926701529,
            -0.4513852381316034,
            -0.6984778773506659,
            -0.4892031153001933,
            -0.4350319503788496,
            -0.6067384322229378,
            -0.5323812812815929,
            -0.6840953415086437,
            -0.618605699270683,
            -0.5782293640587879,
            -0.4741345831278117,
            -0.5771299588636217,
            -0.5566296304942991,
            -0.506201253430877,
            -0.6346487926516862,
            -0.5774809180659851,
            -0.6256007941738517,
            -0.4983031890699551,
            -0.5401151212917491,
            -0.6186879626413369,
            -0.5333262222430786,
            -0.44032171830482014,
            -0.7428009539505233,
            -0.7128382848715366,
            -0.5792675607713819,
            -0.583709014256132,
            -0.4797751782780324,
            -0.5473367685013805,
            -0.7252910813857063,
            -0.5432268312918331,
            -0.5670602503401903,
            -0.5506182934045919,
            -0.4992069118991447,
            -0.13046282859834069,
            -0.4668544359443056,
            -0.6958591259946458,
            -0.6323646823769181,
            -0.5224874184682254,
            -0.5956478384471052,
            -0.6097394906325068,
            -0.4840634276974911,
            -0.7804252372477665,
            -0.7335734128506891,
            -0.8239986544492918,
            -0.7769840367150223,
            -0.27365456572510927,
            -0.46471998164682315,
            -0.3525973913681167,
            -0.515791626644442,
            -0.6385753298098378,
            -0.5145142099093808,
            -0.26562322674023575,
            -0.7044194762969255,
            -0.55606743682886,
            -0.6276212909760821,
            -0.3609355789436728,
            -0.756170922003593,
            -0.5253445176319762,
            -0.6301275512351348,
            -0.5977048579821665
           ]
          },
          {
           "axis": {
            "matches": true
           },
           "label": "PC 4",
           "values": [
            -0.04421479877414206,
            0.40137178150163927,
            1.6349527581799228,
            0.19600495352866404,
            0.18637413276355483,
            0.2470087546655538,
            -0.20696307245962978,
            0.48140348045696435,
            0.21493143213745203,
            0.26828062873637354,
            0.5552876650023489,
            -0.15096223913858312,
            -1.014048321373808,
            -0.877313070606864,
            -0.7756386280990561,
            -0.08600882273047221,
            0.5174552670132894,
            1.0484390997233621,
            -0.06106447364701279,
            -0.015104255524193038,
            -0.1607146422232861,
            0.3795625279357243,
            -0.41391572538581706,
            2.109978813651224,
            0.12600816650274627,
            -0.5924106408125321,
            0.14245658355380572,
            -0.2820727867557436,
            0.9218022626313387,
            -2.0380108404904784,
            -0.22751245665615466,
            0.5995602136755104,
            -0.7959918861366564,
            -0.9971026291722414,
            0.5063524309644666,
            0.4361539252932266,
            -0.476355695521113,
            -0.4423745761250342,
            0.07918613188153106,
            -2.133021653781804,
            0.3929581457814908,
            -0.203611606129385,
            -0.4208170421226478,
            0.07682788520039947,
            -0.2048942284608576,
            0.9392774226085229,
            0.34792742216301037,
            -1.793554830416428,
            -0.07851257071476293,
            -0.07146714296950878,
            0.6496633743220226,
            0.28670521199032234,
            -1.8358568275485252,
            0.3925427758503307,
            -0.8711651789811984,
            0.3583478523191477,
            0.0010979570657042984,
            0.20685253114366664,
            -0.24019644801838227,
            0.30236407147128996,
            -0.09997802705835465,
            -2.5024943658508736,
            0.26541920850821793,
            -0.005925017887017751,
            0.5109090725386434,
            -0.32941280188918826,
            0.3582333311536193,
            -0.7386339160229276,
            1.1499303043099856,
            0.0503589385036044,
            0.07048672625916672,
            1.9333712046519593,
            0.5535596987595458,
            -0.3553373906879937,
            0.3304924782246228,
            -0.4068469851602763,
            0.843187910950007,
            -0.5991104527283507,
            -0.06473002966289357,
            0.7211736980875162,
            0.16224627745111111,
            0.26782893289798443,
            0.23595922192938104,
            -0.582123212064049,
            -0.24195971973785008,
            -1.9622369819348287,
            -1.1480215840838357,
            0.6383695837042054,
            0.3241055261954039,
            -0.366071734019792,
            -0.01806214842276806,
            0.20573268777992124,
            0.30159552312530213,
            1.499939441977764,
            0.08754824347913373,
            0.6255512326042824,
            0.44209211756984496,
            0.5461918047030158,
            0.5538081318884404,
            0.16506712289589331,
            0.20504569762354696,
            0.5752685816967861,
            0.5733290571850728,
            -2.0620407569271015,
            -0.27640519737295144,
            -0.198219300118451,
            0.5596619808893537,
            0.008506681025072314,
            0.644966485959595,
            0.2638622484888465,
            0.16962794916065566,
            -0.22178669767388098,
            0.12238590497978305,
            0.01007183800946456,
            -0.2937820837192443,
            0.003338045023351093,
            -0.10614026246308793,
            0.325311319208546,
            -0.39929326318286007,
            0.25163226023630764,
            -0.28628973676391595,
            0.4119464627866863,
            -0.0024194055969544892,
            -0.09740664951571301,
            -1.3101722114143863,
            -3.641898546926709,
            -0.3272201228428381,
            -0.35731704308146095,
            0.5201922787276971,
            -1.7540860004165921,
            0.4699759548994253,
            0.4775047717486672,
            -0.3657891009394112,
            0.01904690447482323,
            0.18547652302257062,
            0.2144422544488045,
            0.5909200987098414,
            0.3055652923923422,
            0.27413124431462965,
            0.37926397626774316,
            -0.08992976856149558,
            -1.0621574783987824,
            -1.7530623870322246,
            0.20986504576775017,
            -0.6210168555414799,
            -0.7246969163842881,
            0.164536799179016,
            0.05876803352834699,
            0.3731087064255005,
            -1.1819628915605074,
            -0.26658636246536904,
            0.8066897030177184,
            -0.5555637591624016,
            0.6869523161021354,
            0.5046909002251816,
            0.359843597437757,
            0.616899362401587,
            -0.4370509608525086,
            0.5740386156235441,
            0.26587057039479317,
            0.6572120096442922,
            0.21835076394212669,
            -0.2539793452832586,
            -0.24494415131650776,
            0.23395832736818029,
            -0.16782072769032594,
            0.8013853929948362,
            0.43061971953316386,
            0.29519826607623256,
            0.3977562267282054,
            0.3564046795994665,
            1.464200459806032,
            0.4935702126981627,
            0.23097204074735037,
            0.8191975386771234,
            0.5547915931253097,
            -2.1354623730318987,
            0.2904972118129328,
            -0.05542998649756912,
            0.8992469354739507,
            0.19372457658487713,
            -4.530604293138705,
            0.2509915577470537,
            8.633234027633936,
            0.46125617734399815,
            0.17567916888580853,
            0.5683301379727769,
            0.4197717190534013,
            -0.044939897616242154,
            0.7251458851469633,
            -0.25608566538715505,
            -0.2908122955222811,
            0.26554779343604984,
            0.34006471347734285,
            0.29516351401157687,
            0.0231309595799547,
            -0.45816125851314243,
            0.35000907237847084,
            -0.23842467443790666,
            -0.21052387342395842,
            -0.03458829426484224,
            -0.10324558467475974,
            0.1773566525680565,
            0.26882304639345633,
            0.45548565182379386,
            -0.009253521944120043,
            0.005450362864388834,
            0.15211043227598273,
            0.30423656788855874,
            -0.2816121842412873,
            -0.38432229052072553,
            -0.5734239786661373,
            0.23448670734857507,
            0.24156888444682248,
            0.14924225713821185,
            0.35937464354802906,
            -0.3894934193808828,
            -0.5145393598326126,
            1.369378847397106,
            0.16130990675217854,
            -0.40359133944462106,
            -0.16568474048985696,
            0.3060325262163669,
            0.5996331489087585,
            0.015740212867837028,
            -0.34286105729793814,
            -0.7110403927593149,
            0.2800956650765814,
            0.13836429014771853,
            0.173951258841429,
            0.3301512809986178,
            0.31303488461990486,
            -1.165442344317262,
            0.29290624264332943,
            -0.05472190605071566,
            0.29291500438756973,
            -0.13186038698716634,
            -0.43553028305843755,
            -0.05321706696401883,
            -2.1130669634688415,
            -0.2619396354008902,
            -0.9934543167771281,
            -0.6276973197347603,
            0.015295132150367435,
            0.18230400206988856,
            0.3326437076279861,
            -0.06441389185850296,
            -0.3276584781047958,
            -0.532449685905386,
            0.070707075616755,
            0.31574531356138247,
            0.36735157549508407,
            0.4467245255479746,
            -1.4166320793844147,
            0.4850248407576043,
            -1.4518104459107366,
            -0.31754324953769836,
            0.03550184310589398,
            -2.3740405532694844,
            -2.854602895021837,
            -0.1419107057892834,
            0.11772970227701932,
            -0.9970935639745924,
            0.2572372443920026,
            0.26274573699111425,
            0.9690817041923551,
            0.5631087834257827,
            -0.20314073081227893,
            -0.5775518667657614,
            -0.5222314429727801,
            0.22440093021024068,
            0.5536525057618884,
            0.49388494548024614,
            -1.2811327288596577,
            0.6946635500748284,
            0.6054765877754177,
            -0.6761391533560184,
            0.5358546744710092,
            0.24153866556744533,
            -0.31437277048105483,
            0.5566880512742214,
            0.16296003435089415,
            -2.1513933251809383,
            -0.48946910616043116,
            -3.221242840320232,
            -2.019878100109644,
            0.12966666574107596,
            0.012332597947963549,
            -0.4350822983131466,
            -2.117346284256735,
            0.6289319341198488,
            0.35132959663698565,
            0.6331455237779008,
            0.15607173917542166,
            -0.6144924506739965,
            -0.03610485436041104,
            -0.552460222890033,
            -0.04103265328877934,
            0.06801113011111945,
            0.4419078083669676,
            -0.24539111863641272,
            -0.1778276040372073,
            0.15570137941090373,
            -0.10172071021600483,
            0.3382939793118324,
            0.4132805497465834,
            0.029508084946089825,
            -0.4696553388163728,
            0.09911909751541813,
            0.4093379581944528,
            0.5982545459088509,
            -1.409252758311496,
            -0.32232463524139027,
            -0.002716082595414399,
            -0.057490724942915794,
            0.935970409795532,
            0.26090204189565597,
            0.6294055726558074,
            -0.2727129921149794,
            -0.20062298733666192,
            0.49419055995037625,
            0.10542631366377071,
            -0.4798284124401222,
            -0.4585545197437434,
            -0.9235095837452441,
            1.3764376799873035,
            0.4186330402158093,
            0.5025168873976272,
            -0.10939044899630564,
            0.36590336288075004,
            0.08179698604837837,
            -0.49302413881678797,
            -0.40052412496535683,
            -1.8345209753565865,
            0.4519152346090902,
            -0.9724360773648312,
            -0.2825828359492135,
            0.24971201554980182,
            0.9767044335813654,
            0.887162415256274,
            0.5304999971734937,
            0.630263895019065,
            0.6111009281815054,
            -0.22284516535512464,
            0.47499147661543334,
            0.3274800641820103,
            0.37469508071008273,
            -1.0887054013209052,
            0.4503233242876961,
            -0.16443052657754761,
            0.5456243110212191,
            0.5723499036697437,
            0.5535669038226722,
            0.3161884591239264,
            0.2926648211892973,
            0.5356556723559126,
            -0.6848255763954272,
            0.1382985128836314,
            1.5779053742144376,
            0.6593461104433647,
            -0.5434769792047623,
            0.34808755087321214,
            0.536636230163266,
            0.22350799881154138,
            0.47285537657898186,
            0.7537474522411614,
            0.04946357199156898,
            0.4272459306820912,
            -0.7208523150665362,
            0.23412100382042525,
            -1.4822413521092141,
            -0.340558080136947,
            1.2409864937386281,
            0.1865073604907337,
            0.3068096857220085,
            0.18623871683559887,
            0.6078034633848208,
            -1.6528230779406978,
            0.557307389617453,
            0.26655659007322563,
            -1.103411314498281,
            -0.14471502265874356,
            -1.1078066148028745,
            0.5818339690788024,
            0.9182976991440127,
            0.07589048363247267,
            0.6933099368879625,
            -0.5454211105499608,
            0.041215390735116104,
            0.16513301188421764,
            0.6853420108118192,
            0.7406698307557653,
            0.6361948875144116,
            -0.5211710861777381,
            -0.14740313809358813,
            0.05396800921400221,
            0.6909200715959398,
            0.17363471938033356,
            0.04256223730525478,
            0.03622595782899858,
            0.5589418431458231,
            -0.3823499777238203,
            -1.0943572973615456,
            -1.0160664382611553,
            -0.35976122951769135,
            0.2213261736391156,
            -0.5956342360220236,
            -0.055031241933445885,
            0.06327865656557756,
            0.9307922746551792,
            0.42751079078080295,
            1.2658571296775607,
            0.3239296999046645,
            1.2073565798845678,
            0.3433715572815016,
            0.3456939154664649,
            0.27237283463807604,
            0.2245731608335707,
            0.3257582962092287,
            0.24195288008640187,
            0.17954847310628136,
            -0.2874980924590021,
            -0.9404384450189779,
            -0.4323508322248715,
            -0.6291027729164199,
            0.682435265621848,
            -0.09858546510479374,
            -0.6560868885752756,
            0.4364879232179787,
            0.44068635532506234,
            0.574097179813116,
            0.6673197185796818,
            -0.8033202306973616,
            0.7372341896119877,
            -0.4819694267160616,
            -0.6010358083185746,
            -1.3424008622847892,
            -0.6871319665306902,
            0.3118208750470684,
            0.34265555154352845
           ]
          }
         ],
         "hovertemplate": "%{xaxis.title.text}=%{x}<br>%{yaxis.title.text}=%{y}<br>Median Price=%{marker.color}<extra></extra>",
         "legendgroup": "",
         "marker": {
          "color": [
           2,
           2,
           2,
           1,
           2,
           2,
           2,
           2,
           1,
           2,
           2,
           2,
           2,
           2,
           2,
           1,
           2,
           1,
           2,
           1,
           2,
           1,
           1,
           2,
           2,
           2,
           1,
           1,
           2,
           1,
           1,
           1,
           1,
           1,
           1,
           2,
           1,
           2,
           2,
           1,
           1,
           1,
           2,
           2,
           2,
           2,
           2,
           2,
           2,
           2,
           1,
           1,
           2,
           2,
           1,
           1,
           2,
           2,
           1,
           1,
           2,
           2,
           2,
           2,
           1,
           2,
           1,
           2,
           1,
           1,
           1,
           1,
           1,
           2,
           2,
           1,
           1,
           2,
           1,
           1,
           1,
           2,
           2,
           1,
           2,
           2,
           2,
           1,
           1,
           1,
           1,
           1,
           2,
           1,
           2,
           1,
           2,
           1,
           1,
           1,
           2,
           2,
           2,
           1,
           1,
           1,
           2,
           2,
           2,
           2,
           1,
           2,
           1,
           1,
           1,
           1,
           1,
           1,
           1,
           1,
           1,
           1,
           1,
           2,
           1,
           1,
           1,
           2,
           1,
           1,
           1,
           1,
           1,
           1,
           1,
           1,
           1,
           1,
           1,
           1,
           1,
           1,
           1,
           1,
           1,
           2,
           1,
           1,
           1,
           1,
           1,
           1,
           1,
           1,
           1,
           2,
           2,
           1,
           2,
           2,
           2,
           1,
           1,
           2,
           2,
           2,
           2,
           1,
           1,
           1,
           2,
           2,
           1,
           2,
           1,
           2,
           1,
           1,
           1,
           1,
           1,
           1,
           1,
           1,
           1,
           1,
           1,
           1,
           2,
           2,
           1,
           1,
           1,
           2,
           1,
           1,
           1,
           2,
           1,
           1,
           2,
           2,
           1,
           1,
           1,
           2,
           1,
           2,
           1,
           2,
           1,
           2,
           1,
           1,
           2,
           1,
           2,
           1,
           2,
           1,
           1,
           1,
           1,
           2,
           1,
           1,
           2,
           1,
           1,
           1,
           2,
           1,
           1,
           1,
           1,
           1,
           1,
           1,
           1,
           1,
           1,
           1,
           1,
           1,
           1,
           2,
           1,
           1,
           1,
           1,
           1,
           2,
           1,
           1,
           1,
           1,
           1,
           1,
           1,
           1,
           1,
           1,
           1,
           1,
           2,
           1,
           2,
           1,
           2,
           1,
           1,
           1,
           1,
           1,
           1,
           1,
           1,
           1,
           1,
           2,
           1,
           2,
           1,
           1,
           1,
           1,
           1,
           1,
           1,
           1,
           1,
           1,
           1,
           2,
           1,
           2,
           1,
           2,
           2,
           1,
           2,
           2,
           2,
           2,
           2,
           2,
           2,
           1,
           1,
           2,
           1,
           1,
           2,
           1,
           1,
           2,
           1,
           1,
           1,
           2,
           1,
           1,
           1,
           1,
           1,
           1,
           1,
           1,
           1,
           1,
           1,
           2,
           1,
           2,
           2,
           2,
           1,
           1,
           1,
           1,
           2,
           2,
           1,
           2,
           1,
           1,
           2,
           2,
           1,
           2,
           1,
           2,
           1,
           2,
           1,
           1,
           1,
           2,
           1,
           1,
           1,
           1,
           1,
           1,
           1,
           2,
           1,
           1,
           1,
           1,
           2,
           1,
           1,
           2,
           1,
           1,
           2,
           1,
           1,
           2,
           1,
           1,
           1,
           1,
           1,
           1,
           1,
           1,
           1,
           1,
           1,
           1,
           1,
           1,
           1,
           1,
           2,
           1,
           1,
           1,
           1,
           1,
           1,
           1,
           1,
           1,
           1,
           2,
           2,
           1,
           1,
           1,
           1,
           1,
           1,
           2,
           2,
           1,
           2,
           1,
           1,
           2,
           1,
           2,
           2,
           1,
           1,
           1,
           1,
           1,
           1,
           1,
           1,
           1,
           1,
           1,
           1,
           2,
           1,
           1
          ],
          "coloraxis": "coloraxis",
          "symbol": "circle"
         },
         "name": "",
         "showlegend": false,
         "type": "splom"
        }
       ],
       "layout": {
        "coloraxis": {
         "colorbar": {
          "title": {
           "text": "Median Price"
          }
         },
         "colorscale": [
          [
           0,
           "#0d0887"
          ],
          [
           0.1111111111111111,
           "#46039f"
          ],
          [
           0.2222222222222222,
           "#7201a8"
          ],
          [
           0.3333333333333333,
           "#9c179e"
          ],
          [
           0.4444444444444444,
           "#bd3786"
          ],
          [
           0.5555555555555556,
           "#d8576b"
          ],
          [
           0.6666666666666666,
           "#ed7953"
          ],
          [
           0.7777777777777778,
           "#fb9f3a"
          ],
          [
           0.8888888888888888,
           "#fdca26"
          ],
          [
           1,
           "#f0f921"
          ]
         ]
        },
        "dragmode": "select",
        "legend": {
         "tracegroupgap": 0
        },
        "template": {
         "data": {
          "bar": [
           {
            "error_x": {
             "color": "#2a3f5f"
            },
            "error_y": {
             "color": "#2a3f5f"
            },
            "marker": {
             "line": {
              "color": "#E5ECF6",
              "width": 0.5
             },
             "pattern": {
              "fillmode": "overlay",
              "size": 10,
              "solidity": 0.2
             }
            },
            "type": "bar"
           }
          ],
          "barpolar": [
           {
            "marker": {
             "line": {
              "color": "#E5ECF6",
              "width": 0.5
             },
             "pattern": {
              "fillmode": "overlay",
              "size": 10,
              "solidity": 0.2
             }
            },
            "type": "barpolar"
           }
          ],
          "carpet": [
           {
            "aaxis": {
             "endlinecolor": "#2a3f5f",
             "gridcolor": "white",
             "linecolor": "white",
             "minorgridcolor": "white",
             "startlinecolor": "#2a3f5f"
            },
            "baxis": {
             "endlinecolor": "#2a3f5f",
             "gridcolor": "white",
             "linecolor": "white",
             "minorgridcolor": "white",
             "startlinecolor": "#2a3f5f"
            },
            "type": "carpet"
           }
          ],
          "choropleth": [
           {
            "colorbar": {
             "outlinewidth": 0,
             "ticks": ""
            },
            "type": "choropleth"
           }
          ],
          "contour": [
           {
            "colorbar": {
             "outlinewidth": 0,
             "ticks": ""
            },
            "colorscale": [
             [
              0,
              "#0d0887"
             ],
             [
              0.1111111111111111,
              "#46039f"
             ],
             [
              0.2222222222222222,
              "#7201a8"
             ],
             [
              0.3333333333333333,
              "#9c179e"
             ],
             [
              0.4444444444444444,
              "#bd3786"
             ],
             [
              0.5555555555555556,
              "#d8576b"
             ],
             [
              0.6666666666666666,
              "#ed7953"
             ],
             [
              0.7777777777777778,
              "#fb9f3a"
             ],
             [
              0.8888888888888888,
              "#fdca26"
             ],
             [
              1,
              "#f0f921"
             ]
            ],
            "type": "contour"
           }
          ],
          "contourcarpet": [
           {
            "colorbar": {
             "outlinewidth": 0,
             "ticks": ""
            },
            "type": "contourcarpet"
           }
          ],
          "heatmap": [
           {
            "colorbar": {
             "outlinewidth": 0,
             "ticks": ""
            },
            "colorscale": [
             [
              0,
              "#0d0887"
             ],
             [
              0.1111111111111111,
              "#46039f"
             ],
             [
              0.2222222222222222,
              "#7201a8"
             ],
             [
              0.3333333333333333,
              "#9c179e"
             ],
             [
              0.4444444444444444,
              "#bd3786"
             ],
             [
              0.5555555555555556,
              "#d8576b"
             ],
             [
              0.6666666666666666,
              "#ed7953"
             ],
             [
              0.7777777777777778,
              "#fb9f3a"
             ],
             [
              0.8888888888888888,
              "#fdca26"
             ],
             [
              1,
              "#f0f921"
             ]
            ],
            "type": "heatmap"
           }
          ],
          "heatmapgl": [
           {
            "colorbar": {
             "outlinewidth": 0,
             "ticks": ""
            },
            "colorscale": [
             [
              0,
              "#0d0887"
             ],
             [
              0.1111111111111111,
              "#46039f"
             ],
             [
              0.2222222222222222,
              "#7201a8"
             ],
             [
              0.3333333333333333,
              "#9c179e"
             ],
             [
              0.4444444444444444,
              "#bd3786"
             ],
             [
              0.5555555555555556,
              "#d8576b"
             ],
             [
              0.6666666666666666,
              "#ed7953"
             ],
             [
              0.7777777777777778,
              "#fb9f3a"
             ],
             [
              0.8888888888888888,
              "#fdca26"
             ],
             [
              1,
              "#f0f921"
             ]
            ],
            "type": "heatmapgl"
           }
          ],
          "histogram": [
           {
            "marker": {
             "pattern": {
              "fillmode": "overlay",
              "size": 10,
              "solidity": 0.2
             }
            },
            "type": "histogram"
           }
          ],
          "histogram2d": [
           {
            "colorbar": {
             "outlinewidth": 0,
             "ticks": ""
            },
            "colorscale": [
             [
              0,
              "#0d0887"
             ],
             [
              0.1111111111111111,
              "#46039f"
             ],
             [
              0.2222222222222222,
              "#7201a8"
             ],
             [
              0.3333333333333333,
              "#9c179e"
             ],
             [
              0.4444444444444444,
              "#bd3786"
             ],
             [
              0.5555555555555556,
              "#d8576b"
             ],
             [
              0.6666666666666666,
              "#ed7953"
             ],
             [
              0.7777777777777778,
              "#fb9f3a"
             ],
             [
              0.8888888888888888,
              "#fdca26"
             ],
             [
              1,
              "#f0f921"
             ]
            ],
            "type": "histogram2d"
           }
          ],
          "histogram2dcontour": [
           {
            "colorbar": {
             "outlinewidth": 0,
             "ticks": ""
            },
            "colorscale": [
             [
              0,
              "#0d0887"
             ],
             [
              0.1111111111111111,
              "#46039f"
             ],
             [
              0.2222222222222222,
              "#7201a8"
             ],
             [
              0.3333333333333333,
              "#9c179e"
             ],
             [
              0.4444444444444444,
              "#bd3786"
             ],
             [
              0.5555555555555556,
              "#d8576b"
             ],
             [
              0.6666666666666666,
              "#ed7953"
             ],
             [
              0.7777777777777778,
              "#fb9f3a"
             ],
             [
              0.8888888888888888,
              "#fdca26"
             ],
             [
              1,
              "#f0f921"
             ]
            ],
            "type": "histogram2dcontour"
           }
          ],
          "mesh3d": [
           {
            "colorbar": {
             "outlinewidth": 0,
             "ticks": ""
            },
            "type": "mesh3d"
           }
          ],
          "parcoords": [
           {
            "line": {
             "colorbar": {
              "outlinewidth": 0,
              "ticks": ""
             }
            },
            "type": "parcoords"
           }
          ],
          "pie": [
           {
            "automargin": true,
            "type": "pie"
           }
          ],
          "scatter": [
           {
            "fillpattern": {
             "fillmode": "overlay",
             "size": 10,
             "solidity": 0.2
            },
            "type": "scatter"
           }
          ],
          "scatter3d": [
           {
            "line": {
             "colorbar": {
              "outlinewidth": 0,
              "ticks": ""
             }
            },
            "marker": {
             "colorbar": {
              "outlinewidth": 0,
              "ticks": ""
             }
            },
            "type": "scatter3d"
           }
          ],
          "scattercarpet": [
           {
            "marker": {
             "colorbar": {
              "outlinewidth": 0,
              "ticks": ""
             }
            },
            "type": "scattercarpet"
           }
          ],
          "scattergeo": [
           {
            "marker": {
             "colorbar": {
              "outlinewidth": 0,
              "ticks": ""
             }
            },
            "type": "scattergeo"
           }
          ],
          "scattergl": [
           {
            "marker": {
             "colorbar": {
              "outlinewidth": 0,
              "ticks": ""
             }
            },
            "type": "scattergl"
           }
          ],
          "scattermapbox": [
           {
            "marker": {
             "colorbar": {
              "outlinewidth": 0,
              "ticks": ""
             }
            },
            "type": "scattermapbox"
           }
          ],
          "scatterpolar": [
           {
            "marker": {
             "colorbar": {
              "outlinewidth": 0,
              "ticks": ""
             }
            },
            "type": "scatterpolar"
           }
          ],
          "scatterpolargl": [
           {
            "marker": {
             "colorbar": {
              "outlinewidth": 0,
              "ticks": ""
             }
            },
            "type": "scatterpolargl"
           }
          ],
          "scatterternary": [
           {
            "marker": {
             "colorbar": {
              "outlinewidth": 0,
              "ticks": ""
             }
            },
            "type": "scatterternary"
           }
          ],
          "surface": [
           {
            "colorbar": {
             "outlinewidth": 0,
             "ticks": ""
            },
            "colorscale": [
             [
              0,
              "#0d0887"
             ],
             [
              0.1111111111111111,
              "#46039f"
             ],
             [
              0.2222222222222222,
              "#7201a8"
             ],
             [
              0.3333333333333333,
              "#9c179e"
             ],
             [
              0.4444444444444444,
              "#bd3786"
             ],
             [
              0.5555555555555556,
              "#d8576b"
             ],
             [
              0.6666666666666666,
              "#ed7953"
             ],
             [
              0.7777777777777778,
              "#fb9f3a"
             ],
             [
              0.8888888888888888,
              "#fdca26"
             ],
             [
              1,
              "#f0f921"
             ]
            ],
            "type": "surface"
           }
          ],
          "table": [
           {
            "cells": {
             "fill": {
              "color": "#EBF0F8"
             },
             "line": {
              "color": "white"
             }
            },
            "header": {
             "fill": {
              "color": "#C8D4E3"
             },
             "line": {
              "color": "white"
             }
            },
            "type": "table"
           }
          ]
         },
         "layout": {
          "annotationdefaults": {
           "arrowcolor": "#2a3f5f",
           "arrowhead": 0,
           "arrowwidth": 1
          },
          "autotypenumbers": "strict",
          "coloraxis": {
           "colorbar": {
            "outlinewidth": 0,
            "ticks": ""
           }
          },
          "colorscale": {
           "diverging": [
            [
             0,
             "#8e0152"
            ],
            [
             0.1,
             "#c51b7d"
            ],
            [
             0.2,
             "#de77ae"
            ],
            [
             0.3,
             "#f1b6da"
            ],
            [
             0.4,
             "#fde0ef"
            ],
            [
             0.5,
             "#f7f7f7"
            ],
            [
             0.6,
             "#e6f5d0"
            ],
            [
             0.7,
             "#b8e186"
            ],
            [
             0.8,
             "#7fbc41"
            ],
            [
             0.9,
             "#4d9221"
            ],
            [
             1,
             "#276419"
            ]
           ],
           "sequential": [
            [
             0,
             "#0d0887"
            ],
            [
             0.1111111111111111,
             "#46039f"
            ],
            [
             0.2222222222222222,
             "#7201a8"
            ],
            [
             0.3333333333333333,
             "#9c179e"
            ],
            [
             0.4444444444444444,
             "#bd3786"
            ],
            [
             0.5555555555555556,
             "#d8576b"
            ],
            [
             0.6666666666666666,
             "#ed7953"
            ],
            [
             0.7777777777777778,
             "#fb9f3a"
            ],
            [
             0.8888888888888888,
             "#fdca26"
            ],
            [
             1,
             "#f0f921"
            ]
           ],
           "sequentialminus": [
            [
             0,
             "#0d0887"
            ],
            [
             0.1111111111111111,
             "#46039f"
            ],
            [
             0.2222222222222222,
             "#7201a8"
            ],
            [
             0.3333333333333333,
             "#9c179e"
            ],
            [
             0.4444444444444444,
             "#bd3786"
            ],
            [
             0.5555555555555556,
             "#d8576b"
            ],
            [
             0.6666666666666666,
             "#ed7953"
            ],
            [
             0.7777777777777778,
             "#fb9f3a"
            ],
            [
             0.8888888888888888,
             "#fdca26"
            ],
            [
             1,
             "#f0f921"
            ]
           ]
          },
          "colorway": [
           "#636efa",
           "#EF553B",
           "#00cc96",
           "#ab63fa",
           "#FFA15A",
           "#19d3f3",
           "#FF6692",
           "#B6E880",
           "#FF97FF",
           "#FECB52"
          ],
          "font": {
           "color": "#2a3f5f"
          },
          "geo": {
           "bgcolor": "white",
           "lakecolor": "white",
           "landcolor": "#E5ECF6",
           "showlakes": true,
           "showland": true,
           "subunitcolor": "white"
          },
          "hoverlabel": {
           "align": "left"
          },
          "hovermode": "closest",
          "mapbox": {
           "style": "light"
          },
          "paper_bgcolor": "white",
          "plot_bgcolor": "#E5ECF6",
          "polar": {
           "angularaxis": {
            "gridcolor": "white",
            "linecolor": "white",
            "ticks": ""
           },
           "bgcolor": "#E5ECF6",
           "radialaxis": {
            "gridcolor": "white",
            "linecolor": "white",
            "ticks": ""
           }
          },
          "scene": {
           "xaxis": {
            "backgroundcolor": "#E5ECF6",
            "gridcolor": "white",
            "gridwidth": 2,
            "linecolor": "white",
            "showbackground": true,
            "ticks": "",
            "zerolinecolor": "white"
           },
           "yaxis": {
            "backgroundcolor": "#E5ECF6",
            "gridcolor": "white",
            "gridwidth": 2,
            "linecolor": "white",
            "showbackground": true,
            "ticks": "",
            "zerolinecolor": "white"
           },
           "zaxis": {
            "backgroundcolor": "#E5ECF6",
            "gridcolor": "white",
            "gridwidth": 2,
            "linecolor": "white",
            "showbackground": true,
            "ticks": "",
            "zerolinecolor": "white"
           }
          },
          "shapedefaults": {
           "line": {
            "color": "#2a3f5f"
           }
          },
          "ternary": {
           "aaxis": {
            "gridcolor": "white",
            "linecolor": "white",
            "ticks": ""
           },
           "baxis": {
            "gridcolor": "white",
            "linecolor": "white",
            "ticks": ""
           },
           "bgcolor": "#E5ECF6",
           "caxis": {
            "gridcolor": "white",
            "linecolor": "white",
            "ticks": ""
           }
          },
          "title": {
           "x": 0.05
          },
          "xaxis": {
           "automargin": true,
           "gridcolor": "white",
           "linecolor": "white",
           "ticks": "",
           "title": {
            "standoff": 15
           },
           "zerolinecolor": "white",
           "zerolinewidth": 2
          },
          "yaxis": {
           "automargin": true,
           "gridcolor": "white",
           "linecolor": "white",
           "ticks": "",
           "title": {
            "standoff": 15
           },
           "zerolinecolor": "white",
           "zerolinewidth": 2
          }
         }
        },
        "title": {
         "text": "Total Explained Variance: 83.00%"
        }
       }
      },
      "text/html": [
       "<div>                            <div id=\"9342cf2e-d0c1-4ae4-839a-78a082a8269b\" class=\"plotly-graph-div\" style=\"height:525px; width:100%;\"></div>            <script type=\"text/javascript\">                require([\"plotly\"], function(Plotly) {                    window.PLOTLYENV=window.PLOTLYENV || {};                                    if (document.getElementById(\"9342cf2e-d0c1-4ae4-839a-78a082a8269b\")) {                    Plotly.newPlot(                        \"9342cf2e-d0c1-4ae4-839a-78a082a8269b\",                        [{\"dimensions\":[{\"axis\":{\"matches\":true},\"label\":\"PC 1\",\"values\":[0.8439389283589349,1.0626764494364704,1.2691405157256082,-1.0567823867244301,0.6340304841535805,0.5301108983814706,0.39956024471777113,0.7911656497336045,-0.663831130814797,2.1506847984088253,1.255993894576048,-0.16821061177295216,1.4398558812208193,1.4069561102138228,1.3739599872296238,-1.0718152121562048,1.2580123337964582,-0.6185990128414308,0.8670934289838254,-0.4846667946979252,0.3315146865744448,-1.2544410791612723,-0.695754706566852,4.397755901930425,1.6259880831601217,0.5609214479872605,-1.2069806928097018,-1.2331191169542488,3.470373848888087,-1.1078103578348875,-0.24319379848513478,-0.8805660642907834,-1.1389826326227834,-0.7389785861049752,-1.1407787316902487,0.9148730657734531,-0.5841110290237154,1.5490633233089723,2.1869822151667697,-1.3601517074917238,-0.5565195573036368,-0.5364145358490942,1.519754982398381,2.5657907059946945,0.9824537541268757,3.1643874850221794,2.411082254426318,8.981542107608519,1.0825858537305602,4.00281168221899,-1.1270265551709568,-0.6319581668145501,0.30807408067439856,1.3998555570849944,-1.2326280515211292,-0.675010777047058,4.896772475413768,1.5782493702083271,-1.2274732380271896,-0.24730902531601617,0.5350891610227976,8.249359621996756,0.6844314970142162,1.9710393933519172,-1.0322948051644425,6.136196604205566,-0.5667956795932926,1.211830447991557,-0.5469746162677979,-1.1529952922263207,-1.161123556261411,1.0406678394440156,-0.8932897091435633,0.31679915859353547,0.7001143258728286,-1.4039176585552309,-0.8040958820796207,3.2322605931689075,-1.265809030034062,-0.8299339531200957,-1.1618187256890724,1.7442286069956627,1.1666052093276005,-1.2157006796148595,0.3336847142380111,12.289715443348452,8.202528556178528,0.20398696728496363,-1.2584066962844256,-0.7536675474235719,-1.350539232663608,-1.0907760290276438,5.369270811818482,-1.2244536984465195,1.4316422897157914,-0.8620811888018123,0.5144850461424835,-1.411722323530031,-1.4080550310847852,-1.229935851467965,1.6542702438825398,1.903563046473887,0.8614807620162337,-0.6525904220229647,-0.9751225471339834,-1.1178679144586303,1.3169830319350533,2.013686850623649,0.7277010749176095,2.2489909675667827,-1.187497902543102,1.9265189626216956,-1.0299577150618666,-1.1140182408066497,-1.2488911385301982,-1.219720196395522,-1.0994413687591693,-0.8340582481945091,-1.1847723227049858,-1.1685978213143273,-1.160218502040795,-1.1526986455979122,-1.4234536986316058,0.8303436665774325,-1.1454955283871975,-0.9574709224573484,-1.2769756912015917,0.8943837585372227,-0.5653906360512242,-1.2654384509732408,-1.2273847005477185,-1.3914180838902817,-1.104900093567156,-1.2999831393502324,-1.2052596053545515,-1.2160988563324062,-0.19532290250242007,-0.4075052781941458,-0.717296905728216,-0.8486811285769867,-0.568971362516354,-0.292909341376973,-0.6303814102162456,-1.3123521148241002,-1.0875473401076068,3.5550088213805346,-1.201787563423497,-0.9731163400544401,-1.3787331839404555,-1.2529976187624647,-1.2059951790256593,-1.0120636031888681,-1.2080228269601152,-0.6207454644379389,-1.4557637010990545,2.63121492066052,1.5424786581721908,-1.1816837239972473,0.9432600864400007,1.677959194825461,1.0134011612685354,-1.3163771651845542,-1.1066920414628565,3.4901023634949353,0.8157432941654383,2.24841669833128,1.1444547961535263,-0.8592809383070791,-1.3603367621280837,-1.2728302621492587,1.54980160804879,3.560210098527435,-0.3948278885439134,2.179721866470068,-1.0075358907078447,1.1812424872174239,-0.6045256082820106,-0.6188384739120981,-0.7247099671862673,-0.8879184743432269,-0.2875741596211407,2.182240450463016,0.44166596504502476,5.03618823857796,-1.1051014215229533,-0.9962768113806515,-1.2652916067571012,-0.059777814321065444,1.3442905200655988,1.3938875695110944,-1.014972827654599,-1.3927165943762325,-1.2152626245373332,1.4710603572664886,-1.1466946162701024,-0.7841380494334035,-0.7145500326494797,0.9781276132463568,-0.9456061517273828,-1.2225054504053707,2.6521969497034927,3.341733387785025,0.09579130803923414,-1.2592910133630013,-1.1120334414917021,2.525110429159214,-1.3964668661496598,0.6029845822781961,-0.5548887140064485,2.548604673011272,-1.2283572040537238,5.701001478911851,-1.2411058973378695,-0.22595437062670476,1.140508409201829,0.8070462047941505,4.012562976595907,-1.2896780809547521,1.6205472855589118,-1.4338663935108498,-1.3850264267839594,0.014864005267166185,-1.3037048647701197,-0.028256538014753054,-1.3765343881921301,-0.9866799263671585,0.6080436840628303,-1.2533107931892649,-0.934932703960041,-1.138403436583494,0.24484788941303723,-0.43968449552287137,-1.1749989911631933,-0.9847411173671361,-1.0117262735881598,-0.820545667555852,-1.2783509430940574,-1.2418821085199725,-1.4679514644807008,-1.0563446764153832,-0.8296006913638899,-1.2317852575622164,-1.284862379886498,-0.7115996041647177,0.02240718815523739,1.7060918450605005,-1.219620634397578,-1.4772125150590416,-0.9943873510537746,-1.1066083749849787,-1.2503727389614323,5.063360702925868,-1.082050416694523,-3.8994350602582475e-05,0.20596498719948073,-1.4497444074717274,-0.871719182904772,-0.8947026494046748,-0.9941336031550392,-0.7678573216503357,-0.9968177029696379,-1.432962788738695,-1.3145925046954814,-0.7697127539651811,1.6105302212478467,0.9871960775142269,1.9394763391276821,-1.07919140900801,1.7367952508503834,-1.4470837022393581,-1.4275189252662206,-1.0241241968620005,-0.5399495047364351,-1.1597936972314038,-1.1083192695354247,-1.324294972816151,-0.7025001307951018,-1.4209199245689306,-1.1206768182138462,0.8524814795741278,-1.0733722727852195,0.6058175258264823,-0.9096502426880836,-1.1200492156202249,-0.438666129084929,-1.2600838872761926,-1.1337649964588905,-1.1513850184625551,-1.3288860766900967,-1.5110794627357973,-0.9915168771541591,-1.0305446604218873,-0.8999524218775469,1.5211625980799863,-0.8493604409611947,0.07534528551200245,-1.1351652031904391,0.43237773094179693,0.814674402750542,-1.2810331390025644,0.5508770749357589,2.3781383201676958,1.0220991890826878,1.539116464218784,2.7305794619635,1.1873180835115367,2.361794996871971,-1.134228858023412,-1.212882543581898,2.3027449108965454,-1.260115473996541,-0.911007134895224,2.6207763434393954,-1.3127014589462616,-0.8149125537290256,1.6818702663399019,-1.2453823992992084,-0.7765851582325255,-1.079029856698004,3.461540502385591,-1.0595014429449914,-1.0293744616043907,-1.1449517302999888,-0.5969421140719132,-1.1158338805091672,0.37808610991337593,-1.253127019028487,-1.3100608863257988,-1.1344063899531878,-1.0884992926651105,-1.055519230179825,2.982787993303677,-1.0962210795264984,7.785163643776611,-0.23220419857909516,0.9807092654032304,-1.2965445655218866,-1.2341129953635108,-1.1429952173294509,-1.0085301160508968,1.1319204476022837,1.1402214084108653,-0.18076595172884627,3.076058072691666,-1.265375763290692,-0.3925653434033103,1.543314977250491,1.1033899642995102,-1.0447861322710381,2.8969384140583574,-1.2238617328279187,2.916362083793384,-1.2938079325579164,2.06914517138449,-0.6306948066437792,-1.2803220614265949,-1.4775259632143962,1.5377121795571667,0.08810819180282614,-0.9018657695636448,-1.1431159572349903,-1.3544220284491897,-1.171262156271294,-0.9968613136942485,-1.2523866522595324,0.9564456170673983,-1.2056925232038584,-1.3470896736585871,-1.2672809678462886,-1.4036266078604345,0.08378229107397843,-1.201303270087753,-0.8159209881622741,0.6237772863398957,-1.1746790886172034,-1.2665389175506663,1.3281827274223914,-1.1148201241278846,-1.082603015481794,0.459948824757786,-1.2833754285699777,-1.1185196882039863,-0.23667573646611242,-1.1474596573377034,1.0972145869317456,-1.271653289620952,-0.991156458753298,-1.226734306266961,-1.3299765303830031,-1.2602024502677145,-1.2634796153259638,-1.0516528116421542,-0.9475556583777179,-0.8267213490689419,-1.220458583911202,-1.2383199344700764,1.2250209761108208,-1.2935027748987544,-1.400918065548856,-1.332214073195325,-1.2931103247819933,-1.1807424725156703,-0.9065898999625841,-0.4638821471309883,-0.8956447902034981,-1.272532815454377,-0.7946818533620076,2.198871765090037,0.3549622647650532,-0.38558823580263474,-0.7803167349062451,-0.8017575229979937,-0.20440957965807557,-0.6565778472910422,-1.0506669932354697,0.7948240903930938,1.5541186504808295,-0.054833661224860844,1.8330640089389196,-0.8562912544955698,0.4421950426931609,0.7125478029420795,-1.024647094999429,0.1455741645182368,0.6548442773112402,-1.160157207915021,0.5677370358277992,-0.12493611653777549,-0.7125825090723871,-1.0134874185857559,-0.12446614091427786,-0.6819380097812522,-0.9979463331066353,-1.0645893715889025,-0.49038086559629307,0.222884222876371,-1.290171575653852,3.8651490874891263,-1.0970673848282795,-1.1659506689075911]},{\"axis\":{\"matches\":true},\"label\":\"PC 2\",\"values\":[-0.5153507494641548,-0.48460125849368907,0.6820545529913429,0.6108214957943588,0.9741988355722466,-0.585411382195496,-0.8463428776877452,-0.4611401747979298,-0.5774654544465982,-0.617913981157838,-0.5124524340362093,-0.6887961171425644,0.6088529472357133,-0.16056466286428406,0.0685013841375535,-0.519859188056437,-1.1216544139711326,0.28240671123524846,0.2204484192300823,-0.5764639943148582,-0.19417161987510057,-0.30573444787233445,2.1641814733787728,4.2104214029961256,1.0124055722062655,-0.8024222147064577,-0.10298829019918977,-0.3115223001668903,0.11866541812508044,1.0155817697707414,0.43593373709624966,-0.42104483395236164,-0.06700109331264112,1.2139922247040484,-0.8375454540431692,-1.2565205079543902,1.3330135485566343,-0.40020614517135794,-0.9850363825997981,3.000166771424501,2.270036159738485,0.5066346254230693,-1.0098016616520136,-1.3235013757683534,-0.9636190538593064,0.27074938912879903,-0.699711899983207,3.3254529798225523,-0.6536896215977757,-0.6370873720354459,0.0829496861955312,-0.7764874162736891,0.4960102616579888,-1.2119164453417295,0.628116938814393,-0.46246010544988897,-0.4062836070203792,-0.9617031508070597,-0.3030830911177881,-0.43386562644889687,-1.1269474061945706,1.07254999921866,-0.43124906859153506,-0.40918989673907197,-0.2012092559335403,-1.3005554126146905,-1.091473856897116,-0.33787077677807853,0.5153525994496466,-0.5434365050653422,1.2230563324355437,2.9831843236659146,0.3395132486108673,0.5427132093672382,-0.5575832372751589,0.5177818041098313,0.13323487785262925,-0.6888712020568174,-0.31753407123701005,-0.523543905412137,-0.623889246128061,-1.3769556944996537,-0.39207823468267056,0.23993144953143292,-0.8641594136618284,-0.0014522964014559389,1.228802159858331,4.272715035489881,0.4593786573625724,1.0589594417868748,-0.11196457441719448,0.785010656989725,0.49179964879770977,4.2662308336092085,-1.001722056859293,-0.8080201284689827,-1.4772478473352744,-0.9380634359364963,-0.9103124577088385,0.13045399178944045,-0.060458999745566816,-0.7892008973569847,-0.7526436760219744,3.9416242572552718,-0.20765233026401397,-0.03946616859949664,-1.0888410898350604,-0.5170777753326553,-1.013581603526354,-0.9454387682753187,0.04424517345751005,-0.4772287019117896,1.3653797936040903,0.25727092020059844,0.24445804312550687,-0.15392286336240674,-0.32524047977060017,-0.2660144415093145,0.6185440478757387,-0.07744876346907628,0.16767959313201145,-0.47963746296245874,-0.15889406804361983,-0.5128073245433765,1.3213825688055776,4.298236189910798,0.8490548353341426,0.12780621601793068,-0.826357769137092,1.221881075906514,0.22592416297184778,-0.8654112120316866,-0.29783059327640043,-0.5330391597815449,-0.5269200090501834,-0.5768523953256203,0.14347369554486958,-0.6537050681354313,0.22987722664927268,-0.45094058613389143,0.5120775619184984,0.8456893992528183,0.9971242323740046,0.4801500689736871,-0.1608921585965942,0.11709432608427611,-0.48863007521993823,-0.37128139626592294,-0.2393157306548756,0.6327336184546941,-0.05552050227973056,-0.5286000715207851,0.1276492491231202,-0.2741504710192456,-1.028935502971187,-1.0012900254078465,-0.7435829809478038,0.16345524671728762,-0.8830921167064488,-1.3875781991518994,-0.9473187136997192,0.010094532011772754,0.03897180584399817,-0.8406103020305155,-0.8254288925578928,0.27569768494262636,-0.4456635660687359,-0.723162398536879,-0.5608068873800445,-0.3946213268147523,-1.2446641468278745,0.24655043837523488,-0.7782344107386084,-1.2872374828118398,-0.44915946065876483,-0.9800348398989202,1.8820531601054236,0.3642918385092699,-0.21371967829493602,0.1462746441135168,0.13903997621756967,7.8408249621028325,-0.9015986041383017,15.172659134419414,-1.0289317227979475,-0.24346300282257244,-0.3924498044234148,-0.07402345442844196,-0.7352243285343519,-0.8753382651877746,0.7000007771248278,-0.38184934302330276,-0.6640316857264373,-1.3176717241738416,-0.4461366468072028,1.0522217846872428,3.0756403713077747,-1.022588222689162,-0.10090848318388379,-0.6039881952022012,-0.7760445386380072,-0.6644077073603168,2.067458652414396,-1.1004213998713797,-0.6578305729064208,-1.2500960524543179,-0.7438200643800648,-1.1380790652701882,-0.7222178696674103,-1.1097340264514859,0.23995037394844027,0.259019778740236,-0.36733190503661334,-0.573355622562917,-1.2374202675773185,-0.305965740737771,-1.272195089927087,0.12033649930678332,-0.17831220249192312,-0.6955342632327716,-0.198078614805901,-0.8085165416088104,0.03644506710934448,-0.5131073177145262,-0.6462355137740989,-0.3656009250576444,-0.17055233385919327,-0.5502056255908313,-1.0526598600841026,0.25297283884565475,0.3936678694384842,-0.5593613513152806,0.15224968970659963,-0.8971035815550087,0.5259282329810929,-0.7538638624736212,-0.49199356855822957,0.48421539215385373,-0.690716921409757,1.866994335181704,1.6863834424336355,0.34205432109255224,0.1319385948608477,-0.14734484116670957,-0.28117140690175296,-1.0043003222933993,-0.4287387978691999,-0.23947195854542755,-0.23345458733830216,0.05974170600222516,-0.6541442742076311,0.5691018130005042,0.39340919754260106,0.5356194845999105,0.8923651325074626,0.6293736485811778,-0.4760285437684726,-0.07395838344933701,2.6220504442008075,1.6147139841636964,-0.5459426413274376,0.05814575024181585,0.037400531385683465,-0.5324397418205656,-1.2213568261226289,1.6143152444529458,-0.707931836846388,0.8570634887500023,-0.8244883746388602,-0.2153085801973799,-0.28005290507586333,-0.5282839473038521,-0.6718733008115904,1.440652037288639,-0.6941150958769997,-0.8191414988740499,1.1719266541139253,1.4032743462650317,0.4455829039767781,-0.24267391735579052,-0.5270010085281359,-0.3461927204254776,2.003634291167041,1.593400486884167,3.3464680354294067,0.7041584866007521,-0.523101095608159,0.8211286313216125,-0.2487190854038159,0.853393566622044,-0.5733567436622906,-0.29995094003016914,-0.21990980173256375,-1.0000228101534725,0.2342381329354797,-1.1603370213485342,0.21100854538582978,-0.9641680449255663,-0.9720051203496837,-1.0073120089387941,-0.3104636338287605,-0.9613163939366333,-1.3126013778141739,-1.5486691997904074,-1.1359425586855625,-1.1590111498814022,-0.6330999244216056,-0.04747811568630233,-0.643758460051223,-0.8014161082241333,0.9435989930468175,0.5251151580263812,-1.6389567824358755,-0.10550812912828667,-0.2544904646707456,-0.446870672869208,-0.27010487312101683,-0.5848470283775119,-0.31896106489698617,-0.3502958572957585,-0.7351406284545925,-0.1650373463502427,-0.000989222542973094,-0.38561076318637777,0.5243567751566348,9.133040997803317,-0.32331582733938036,-0.9291558961232927,0.8692485299458618,-0.1227854812282364,-0.04971568823770821,-0.5981444014758992,0.6315204213471732,-1.8573228342856312,1.211684878373057,0.18832589536061153,-0.2901988365292666,0.4450513570963298,0.8918036309701625,0.5372256232317328,-1.2630736778328282,-0.8883375042092272,-0.723464835548448,-1.4736372326100033,-0.5720951342506874,-0.9437601919099796,-0.8397215329737394,0.21715847937708593,-0.6026194502410426,-0.852839907358176,-0.49074287006560324,-0.7099566824145422,-0.8759095045772303,-1.3266136360207677,0.8980667958298699,-0.9906747903449793,0.34884037949940677,-1.6213422052506326,0.9933469136652999,-0.6892830128223353,0.21589488231927387,-0.6375582247970072,-0.7388691931548053,-0.8055098301987925,-0.7265626151057206,-0.4789611146043729,-0.394904667674228,-0.6639494843719898,0.22592369794342218,-0.6168228538854315,0.7906042549052913,0.931105723348173,0.20721679163807127,0.0007869919491672708,-0.4428457928830962,-0.7152462515599809,-0.3075526650263429,0.955090911632967,-0.601359331491807,-1.1759058720410875,0.616931275121763,1.0905094823974162,1.3482817114715135,-0.4093371052434516,1.3696229186265882,-0.056011690704087964,-0.5069960929514142,0.25163369900293764,-0.36911197521939837,-0.15060879694387372,-0.044263356652077916,-0.42942162683427787,-0.7305954346181478,1.2773807832792696,-0.28925729944700734,-0.24977576412726843,-0.3385357104259419,0.42269486308196264,0.13087948924136017,-0.40547832777677595,-0.2361454679270897,2.088178423257991,0.23134233505019747,0.33118654941301995,0.4345212978648109,-0.44886794092778215,1.440306130352759,-0.6106892298177722,-0.8691758575778307,0.5889988104544585,-0.26167802866092593,0.11683176643540935,-1.0248573547315947,1.887373336011764,-0.05096466180562391,-0.5531177675681382,-0.9100261106416465,-0.5600091125176341,-1.2656451081549644,-0.277454771124931,-0.6569683501915871,-0.3067691133014723,0.3493130341814636,-0.4815277602978302,-0.6723922271771584,1.6859082127613505,0.32845007165171836,2.7071187163419284,-0.47327782371439436,-0.19380893252104076,-0.37959494845768826,1.3264744430766726,-0.10594759432803223,-0.44363983492002507,-0.10168214525004002,2.480504624702557,1.5603974201297766,-0.47985375509606054,-0.06989567730170336,-0.9021567509632676]},{\"axis\":{\"matches\":true},\"label\":\"PC 3\",\"values\":[-0.7676322150162092,-0.6729752593814449,-0.6640946011292789,-0.505654447117196,-0.7712088202505888,-0.7586245890818695,-0.7775524598671456,-0.6966086474214883,-0.5744878787701947,-0.5907358526384405,-0.5528961680832778,-0.8058245178086513,-0.8590519670404261,-0.6914100983628256,-0.8055460572377086,-0.6329558643482337,-0.6504204078136991,-0.5848903086139414,-0.7584387023565745,-0.5614646285803432,-0.8169758217285914,-0.5401579299361148,-0.5352530590257167,-0.5655948134336379,-0.7231232978482783,-0.7976937949968027,-0.5735340065366692,-0.6725055907847739,-0.5001208673566044,-0.8449761240576464,-0.6200008166498029,-0.5301996837041404,-0.7205847436203898,-0.6023429271629244,-0.5798438467033367,-0.6494748206639674,-0.721517883485459,-0.6772290228703182,-0.6074387232915925,-0.7384375017110588,-0.48464539462586376,-0.6222918846850221,-0.6849424862603525,-0.5161733390556678,-0.7137677879368222,-0.5210584764605778,-0.5385005626802553,-0.20324937710935173,-0.722316018622282,-0.42164485051020456,-0.5306384083358264,-0.5571342840515944,-0.9860824307413883,-0.61707303461338,-0.717483223638208,-0.5562441196921374,-0.33372136325020935,-0.6572160465361224,-0.6675091323788401,-0.5550102773948561,-0.7490430731187214,-0.26688504334266167,-0.6369452805508555,-0.5811233977506939,-0.5102188083699034,-0.24645442556563463,-0.522692861058073,-0.7495762720169522,-0.420464334714795,-0.6190386227794216,-0.4287755227743993,-0.45411004681860506,-0.3662305814744636,-0.6474948074914589,-0.7178804344201303,-0.6312845244721891,-0.36903751730432127,-0.5436655050149668,-0.6084572791928031,-0.5517817381406557,-0.617694639026257,-0.5942983522037705,-0.7149616930754418,-0.6717043901774927,-0.7609248351653995,0.14285753268018028,-0.3065750816701404,-0.6806945788406374,-0.3896862538755473,-0.6486697624832767,-0.5878894934618852,-0.445577774248191,-0.32752252035988544,0.22034221810065197,-0.6673971190553986,-0.5492727714547319,-0.6899258729965779,-0.5813931844742005,-0.5787460261567017,-0.5095484804442412,-0.6153193549665932,-0.567463516758465,-0.6316447252050419,-0.47441947350157715,-0.6294183427857246,-0.6657726523917733,-0.6460229703721636,-0.582357817091187,-0.6971940503063638,-0.5676637873499117,-0.6132633157945496,-0.6615848658196413,-0.4880746064440509,-0.6013084907441074,-0.6509793099124469,-0.5927882721523904,-0.6149869086107808,-0.5680647734388012,-0.5872713321569374,-0.5414917935991074,-0.6404703169944537,-0.5493471881525863,-0.6363645728365642,-0.7038937755779061,-0.7112938280613393,-0.6690669318639426,-0.5135899625422048,-0.8096419372994853,-0.5400383502977802,-0.8430883307175641,-0.47814416875517135,-0.6042958865343446,-0.6644498507361719,-0.6458566266993608,-0.6190095476427661,-0.5985082806780254,-0.4322714152777132,-0.5325180497258091,-0.6534786554887217,-0.5801235303694432,-0.6105160506950524,-0.7370968630527104,-0.723120773057437,-0.448717162514269,-0.7045497357601749,-0.6145382267118547,-0.6160350465619999,-0.5994558038175045,-0.5347017247210788,-0.7926733585349757,-0.6789823277468553,-0.5748358430029128,-0.6362237660626369,-0.5610409341434787,-0.6039474772662704,-0.5430450170922939,-0.6437575216317368,-0.6178876732166637,-0.6683488713478348,-0.5949067156723008,-0.6538910145934804,-0.6598818708836663,-0.6147299739906352,-0.4392725207995378,-0.6485701485868304,-0.5692598378749636,-0.673165427846481,-0.5694886141030897,-0.601134493081436,-0.5668252054446133,-0.5893301464311171,-0.49453037710275166,-0.5222847146546442,-0.5406855843082577,-0.510739884536753,-0.6696868876519558,-0.6674160781769064,-0.6014992460170706,-0.6014312445590825,-0.48080242701980874,-0.6028796733855747,-0.7335851189159208,-0.44726890805005715,0.29488208813128247,-0.5737913139350994,-0.576497176533323,-0.5210254030091301,-0.3523018922373016,-0.6164674284702304,-0.6438256327779279,-0.5044732463417095,-0.6678552857232297,-0.6098022076387835,-0.5921347986977733,-0.611213526762503,-0.47789507345762905,2.2493287259388635,1.8891195661400324,1.9907259479115338,1.9053381009827817,2.0942824307678256,2.1283439093372527,1.9745185582386149,1.9685736345704516,1.9871254649388495,2.0228476098870676,1.925668490879742,1.9157944484457572,2.048799199620336,1.9916537125071825,1.8680314366274275,2.27587681460419,1.93475694034857,2.043414914135842,1.9035282132676092,2.122337001125883,2.1121942508129323,1.8909534821608858,1.9376607406289887,1.9759540786928451,1.8890056703894027,2.021181581636689,2.1116836660205816,1.9239942687462002,1.9168575761309736,1.904231404324448,1.7486277092669094,1.9850686895650678,2.001315006986154,2.077999877998961,1.949094784165472,2.029157324432839,1.798751421644581,1.9925184485592988,1.9659720389313453,2.003921566426165,1.9573019985578102,1.9396250677510314,1.9196539292773658,1.7705761909891866,2.119213162866322,1.8405493741075605,1.9264364941726806,1.926493625389448,2.0340008472272206,1.9212022042523684,1.941640981365357,1.898931618601029,1.8774666172157342,2.0736832034512487,1.977147870723762,2.3124761103877227,2.115907734961106,1.8533318707458994,2.083142345614363,1.8072057885668331,1.9180339370111694,2.0560007703835557,1.7375348778777533,1.7013506442244106,1.9168514524458453,2.0643053630488004,1.816227083917852,2.0966747345418297,1.9216222723062182,2.307250912609974,2.000641776257368,1.914126695606162,1.8901736701231366,1.9042020566547464,2.0539097512490985,1.9778396219531724,2.010541965966478,-0.7213819582530501,-0.5679992225693359,-0.5779231733075536,-0.6344691199292101,-0.22765716530006264,-0.5149601288000715,-0.7660655400780341,-0.5784796320977074,-0.7613790588124741,-0.7533765905833599,-0.4993508755123445,-0.7866107416498578,-0.8357947939568724,-0.5859642080192574,-0.47537831955049387,-0.6828847338359433,-0.8651097683971001,-0.5795161195366761,-0.5524476423836419,-0.4863485403206873,0.6425093270787308,0.586893340462237,0.5011370415532047,0.6390487587171869,0.551566013766682,0.5748635006167584,0.6872426733465384,0.4735094624505411,0.7299859716897417,0.6065887365243061,0.66388009865882,0.7659277812711098,0.6352930959052695,0.7140878782657353,0.6000042013879416,0.6495544722022993,0.7258642026765456,0.9544149486581492,0.5874189928544328,0.7827811872448128,0.7275815610765008,0.6815230204355018,0.6436722186987313,0.7011011691782296,0.7319410299184337,0.6718369169825826,0.745199269115942,0.6947265928443664,0.705113570605635,0.6823665680917627,0.6721783521668879,0.5701051907973171,2.1055168813818734,0.7410858330397367,0.6864099944889408,0.7719882125903564,0.7928926948917683,0.7211060620273578,0.7180934087084458,0.5855213153956246,1.1516474183022576,0.6817460055272045,0.44981714332664235,0.5988431944985068,0.8292687929819147,1.0956445436819409,0.9256900758967078,-0.6405074558871181,-0.6523431251096498,-0.5016122983333524,-0.4509080279200828,-0.5529710127422974,-0.5135858394033901,-0.5676695352016943,-0.7722872094718726,-0.5631464496383558,-0.5006934260289347,-0.5671505209279746,-0.47804588547878657,-0.5737282696196508,-0.5656487006989869,-0.4898449423738155,-0.5835995837383938,-0.6811602814496026,-0.5986631188735015,-0.37658538741430425,-0.5667531052302832,-0.6517748684962841,-0.5976263874839333,-0.5843456724815462,-0.5922636217486782,-0.5777024258231063,-0.6684082733176366,-0.6223883425784116,-0.5820774133822713,-0.6916077455550953,-0.61392125355944,-0.9829792790051612,-0.5155461652003951,-0.5841763690407168,-0.7728781265169065,-0.5906948486643014,-0.6131241039632871,-0.5187861527418048,-0.8252661223314229,-0.5970782710643668,-0.7293989085835249,-0.6841308926701529,-0.4513852381316034,-0.6984778773506659,-0.4892031153001933,-0.4350319503788496,-0.6067384322229378,-0.5323812812815929,-0.6840953415086437,-0.618605699270683,-0.5782293640587879,-0.4741345831278117,-0.5771299588636217,-0.5566296304942991,-0.506201253430877,-0.6346487926516862,-0.5774809180659851,-0.6256007941738517,-0.4983031890699551,-0.5401151212917491,-0.6186879626413369,-0.5333262222430786,-0.44032171830482014,-0.7428009539505233,-0.7128382848715366,-0.5792675607713819,-0.583709014256132,-0.4797751782780324,-0.5473367685013805,-0.7252910813857063,-0.5432268312918331,-0.5670602503401903,-0.5506182934045919,-0.4992069118991447,-0.13046282859834069,-0.4668544359443056,-0.6958591259946458,-0.6323646823769181,-0.5224874184682254,-0.5956478384471052,-0.6097394906325068,-0.4840634276974911,-0.7804252372477665,-0.7335734128506891,-0.8239986544492918,-0.7769840367150223,-0.27365456572510927,-0.46471998164682315,-0.3525973913681167,-0.515791626644442,-0.6385753298098378,-0.5145142099093808,-0.26562322674023575,-0.7044194762969255,-0.55606743682886,-0.6276212909760821,-0.3609355789436728,-0.756170922003593,-0.5253445176319762,-0.6301275512351348,-0.5977048579821665]},{\"axis\":{\"matches\":true},\"label\":\"PC 4\",\"values\":[-0.04421479877414206,0.40137178150163927,1.6349527581799228,0.19600495352866404,0.18637413276355483,0.2470087546655538,-0.20696307245962978,0.48140348045696435,0.21493143213745203,0.26828062873637354,0.5552876650023489,-0.15096223913858312,-1.014048321373808,-0.877313070606864,-0.7756386280990561,-0.08600882273047221,0.5174552670132894,1.0484390997233621,-0.06106447364701279,-0.015104255524193038,-0.1607146422232861,0.3795625279357243,-0.41391572538581706,2.109978813651224,0.12600816650274627,-0.5924106408125321,0.14245658355380572,-0.2820727867557436,0.9218022626313387,-2.0380108404904784,-0.22751245665615466,0.5995602136755104,-0.7959918861366564,-0.9971026291722414,0.5063524309644666,0.4361539252932266,-0.476355695521113,-0.4423745761250342,0.07918613188153106,-2.133021653781804,0.3929581457814908,-0.203611606129385,-0.4208170421226478,0.07682788520039947,-0.2048942284608576,0.9392774226085229,0.34792742216301037,-1.793554830416428,-0.07851257071476293,-0.07146714296950878,0.6496633743220226,0.28670521199032234,-1.8358568275485252,0.3925427758503307,-0.8711651789811984,0.3583478523191477,0.0010979570657042984,0.20685253114366664,-0.24019644801838227,0.30236407147128996,-0.09997802705835465,-2.5024943658508736,0.26541920850821793,-0.005925017887017751,0.5109090725386434,-0.32941280188918826,0.3582333311536193,-0.7386339160229276,1.1499303043099856,0.0503589385036044,0.07048672625916672,1.9333712046519593,0.5535596987595458,-0.3553373906879937,0.3304924782246228,-0.4068469851602763,0.843187910950007,-0.5991104527283507,-0.06473002966289357,0.7211736980875162,0.16224627745111111,0.26782893289798443,0.23595922192938104,-0.582123212064049,-0.24195971973785008,-1.9622369819348287,-1.1480215840838357,0.6383695837042054,0.3241055261954039,-0.366071734019792,-0.01806214842276806,0.20573268777992124,0.30159552312530213,1.499939441977764,0.08754824347913373,0.6255512326042824,0.44209211756984496,0.5461918047030158,0.5538081318884404,0.16506712289589331,0.20504569762354696,0.5752685816967861,0.5733290571850728,-2.0620407569271015,-0.27640519737295144,-0.198219300118451,0.5596619808893537,0.008506681025072314,0.644966485959595,0.2638622484888465,0.16962794916065566,-0.22178669767388098,0.12238590497978305,0.01007183800946456,-0.2937820837192443,0.003338045023351093,-0.10614026246308793,0.325311319208546,-0.39929326318286007,0.25163226023630764,-0.28628973676391595,0.4119464627866863,-0.0024194055969544892,-0.09740664951571301,-1.3101722114143863,-3.641898546926709,-0.3272201228428381,-0.35731704308146095,0.5201922787276971,-1.7540860004165921,0.4699759548994253,0.4775047717486672,-0.3657891009394112,0.01904690447482323,0.18547652302257062,0.2144422544488045,0.5909200987098414,0.3055652923923422,0.27413124431462965,0.37926397626774316,-0.08992976856149558,-1.0621574783987824,-1.7530623870322246,0.20986504576775017,-0.6210168555414799,-0.7246969163842881,0.164536799179016,0.05876803352834699,0.3731087064255005,-1.1819628915605074,-0.26658636246536904,0.8066897030177184,-0.5555637591624016,0.6869523161021354,0.5046909002251816,0.359843597437757,0.616899362401587,-0.4370509608525086,0.5740386156235441,0.26587057039479317,0.6572120096442922,0.21835076394212669,-0.2539793452832586,-0.24494415131650776,0.23395832736818029,-0.16782072769032594,0.8013853929948362,0.43061971953316386,0.29519826607623256,0.3977562267282054,0.3564046795994665,1.464200459806032,0.4935702126981627,0.23097204074735037,0.8191975386771234,0.5547915931253097,-2.1354623730318987,0.2904972118129328,-0.05542998649756912,0.8992469354739507,0.19372457658487713,-4.530604293138705,0.2509915577470537,8.633234027633936,0.46125617734399815,0.17567916888580853,0.5683301379727769,0.4197717190534013,-0.044939897616242154,0.7251458851469633,-0.25608566538715505,-0.2908122955222811,0.26554779343604984,0.34006471347734285,0.29516351401157687,0.0231309595799547,-0.45816125851314243,0.35000907237847084,-0.23842467443790666,-0.21052387342395842,-0.03458829426484224,-0.10324558467475974,0.1773566525680565,0.26882304639345633,0.45548565182379386,-0.009253521944120043,0.005450362864388834,0.15211043227598273,0.30423656788855874,-0.2816121842412873,-0.38432229052072553,-0.5734239786661373,0.23448670734857507,0.24156888444682248,0.14924225713821185,0.35937464354802906,-0.3894934193808828,-0.5145393598326126,1.369378847397106,0.16130990675217854,-0.40359133944462106,-0.16568474048985696,0.3060325262163669,0.5996331489087585,0.015740212867837028,-0.34286105729793814,-0.7110403927593149,0.2800956650765814,0.13836429014771853,0.173951258841429,0.3301512809986178,0.31303488461990486,-1.165442344317262,0.29290624264332943,-0.05472190605071566,0.29291500438756973,-0.13186038698716634,-0.43553028305843755,-0.05321706696401883,-2.1130669634688415,-0.2619396354008902,-0.9934543167771281,-0.6276973197347603,0.015295132150367435,0.18230400206988856,0.3326437076279861,-0.06441389185850296,-0.3276584781047958,-0.532449685905386,0.070707075616755,0.31574531356138247,0.36735157549508407,0.4467245255479746,-1.4166320793844147,0.4850248407576043,-1.4518104459107366,-0.31754324953769836,0.03550184310589398,-2.3740405532694844,-2.854602895021837,-0.1419107057892834,0.11772970227701932,-0.9970935639745924,0.2572372443920026,0.26274573699111425,0.9690817041923551,0.5631087834257827,-0.20314073081227893,-0.5775518667657614,-0.5222314429727801,0.22440093021024068,0.5536525057618884,0.49388494548024614,-1.2811327288596577,0.6946635500748284,0.6054765877754177,-0.6761391533560184,0.5358546744710092,0.24153866556744533,-0.31437277048105483,0.5566880512742214,0.16296003435089415,-2.1513933251809383,-0.48946910616043116,-3.221242840320232,-2.019878100109644,0.12966666574107596,0.012332597947963549,-0.4350822983131466,-2.117346284256735,0.6289319341198488,0.35132959663698565,0.6331455237779008,0.15607173917542166,-0.6144924506739965,-0.03610485436041104,-0.552460222890033,-0.04103265328877934,0.06801113011111945,0.4419078083669676,-0.24539111863641272,-0.1778276040372073,0.15570137941090373,-0.10172071021600483,0.3382939793118324,0.4132805497465834,0.029508084946089825,-0.4696553388163728,0.09911909751541813,0.4093379581944528,0.5982545459088509,-1.409252758311496,-0.32232463524139027,-0.002716082595414399,-0.057490724942915794,0.935970409795532,0.26090204189565597,0.6294055726558074,-0.2727129921149794,-0.20062298733666192,0.49419055995037625,0.10542631366377071,-0.4798284124401222,-0.4585545197437434,-0.9235095837452441,1.3764376799873035,0.4186330402158093,0.5025168873976272,-0.10939044899630564,0.36590336288075004,0.08179698604837837,-0.49302413881678797,-0.40052412496535683,-1.8345209753565865,0.4519152346090902,-0.9724360773648312,-0.2825828359492135,0.24971201554980182,0.9767044335813654,0.887162415256274,0.5304999971734937,0.630263895019065,0.6111009281815054,-0.22284516535512464,0.47499147661543334,0.3274800641820103,0.37469508071008273,-1.0887054013209052,0.4503233242876961,-0.16443052657754761,0.5456243110212191,0.5723499036697437,0.5535669038226722,0.3161884591239264,0.2926648211892973,0.5356556723559126,-0.6848255763954272,0.1382985128836314,1.5779053742144376,0.6593461104433647,-0.5434769792047623,0.34808755087321214,0.536636230163266,0.22350799881154138,0.47285537657898186,0.7537474522411614,0.04946357199156898,0.4272459306820912,-0.7208523150665362,0.23412100382042525,-1.4822413521092141,-0.340558080136947,1.2409864937386281,0.1865073604907337,0.3068096857220085,0.18623871683559887,0.6078034633848208,-1.6528230779406978,0.557307389617453,0.26655659007322563,-1.103411314498281,-0.14471502265874356,-1.1078066148028745,0.5818339690788024,0.9182976991440127,0.07589048363247267,0.6933099368879625,-0.5454211105499608,0.041215390735116104,0.16513301188421764,0.6853420108118192,0.7406698307557653,0.6361948875144116,-0.5211710861777381,-0.14740313809358813,0.05396800921400221,0.6909200715959398,0.17363471938033356,0.04256223730525478,0.03622595782899858,0.5589418431458231,-0.3823499777238203,-1.0943572973615456,-1.0160664382611553,-0.35976122951769135,0.2213261736391156,-0.5956342360220236,-0.055031241933445885,0.06327865656557756,0.9307922746551792,0.42751079078080295,1.2658571296775607,0.3239296999046645,1.2073565798845678,0.3433715572815016,0.3456939154664649,0.27237283463807604,0.2245731608335707,0.3257582962092287,0.24195288008640187,0.17954847310628136,-0.2874980924590021,-0.9404384450189779,-0.4323508322248715,-0.6291027729164199,0.682435265621848,-0.09858546510479374,-0.6560868885752756,0.4364879232179787,0.44068635532506234,0.574097179813116,0.6673197185796818,-0.8033202306973616,0.7372341896119877,-0.4819694267160616,-0.6010358083185746,-1.3424008622847892,-0.6871319665306902,0.3118208750470684,0.34265555154352845]}],\"hovertemplate\":\"%{xaxis.title.text}=%{x}<br>%{yaxis.title.text}=%{y}<br>Median Price=%{marker.color}<extra></extra>\",\"legendgroup\":\"\",\"marker\":{\"color\":[2,2,2,1,2,2,2,2,1,2,2,2,2,2,2,1,2,1,2,1,2,1,1,2,2,2,1,1,2,1,1,1,1,1,1,2,1,2,2,1,1,1,2,2,2,2,2,2,2,2,1,1,2,2,1,1,2,2,1,1,2,2,2,2,1,2,1,2,1,1,1,1,1,2,2,1,1,2,1,1,1,2,2,1,2,2,2,1,1,1,1,1,2,1,2,1,2,1,1,1,2,2,2,1,1,1,2,2,2,2,1,2,1,1,1,1,1,1,1,1,1,1,1,2,1,1,1,2,1,1,1,1,1,1,1,1,1,1,1,1,1,1,1,1,1,2,1,1,1,1,1,1,1,1,1,2,2,1,2,2,2,1,1,2,2,2,2,1,1,1,2,2,1,2,1,2,1,1,1,1,1,1,1,1,1,1,1,1,2,2,1,1,1,2,1,1,1,2,1,1,2,2,1,1,1,2,1,2,1,2,1,2,1,1,2,1,2,1,2,1,1,1,1,2,1,1,2,1,1,1,2,1,1,1,1,1,1,1,1,1,1,1,1,1,1,2,1,1,1,1,1,2,1,1,1,1,1,1,1,1,1,1,1,1,2,1,2,1,2,1,1,1,1,1,1,1,1,1,1,2,1,2,1,1,1,1,1,1,1,1,1,1,1,2,1,2,1,2,2,1,2,2,2,2,2,2,2,1,1,2,1,1,2,1,1,2,1,1,1,2,1,1,1,1,1,1,1,1,1,1,1,2,1,2,2,2,1,1,1,1,2,2,1,2,1,1,2,2,1,2,1,2,1,2,1,1,1,2,1,1,1,1,1,1,1,2,1,1,1,1,2,1,1,2,1,1,2,1,1,2,1,1,1,1,1,1,1,1,1,1,1,1,1,1,1,1,2,1,1,1,1,1,1,1,1,1,1,2,2,1,1,1,1,1,1,2,2,1,2,1,1,2,1,2,2,1,1,1,1,1,1,1,1,1,1,1,1,2,1,1],\"coloraxis\":\"coloraxis\",\"symbol\":\"circle\"},\"name\":\"\",\"showlegend\":false,\"type\":\"splom\",\"diagonal\":{\"visible\":false}}],                        {\"template\":{\"data\":{\"histogram2dcontour\":[{\"type\":\"histogram2dcontour\",\"colorbar\":{\"outlinewidth\":0,\"ticks\":\"\"},\"colorscale\":[[0.0,\"#0d0887\"],[0.1111111111111111,\"#46039f\"],[0.2222222222222222,\"#7201a8\"],[0.3333333333333333,\"#9c179e\"],[0.4444444444444444,\"#bd3786\"],[0.5555555555555556,\"#d8576b\"],[0.6666666666666666,\"#ed7953\"],[0.7777777777777778,\"#fb9f3a\"],[0.8888888888888888,\"#fdca26\"],[1.0,\"#f0f921\"]]}],\"choropleth\":[{\"type\":\"choropleth\",\"colorbar\":{\"outlinewidth\":0,\"ticks\":\"\"}}],\"histogram2d\":[{\"type\":\"histogram2d\",\"colorbar\":{\"outlinewidth\":0,\"ticks\":\"\"},\"colorscale\":[[0.0,\"#0d0887\"],[0.1111111111111111,\"#46039f\"],[0.2222222222222222,\"#7201a8\"],[0.3333333333333333,\"#9c179e\"],[0.4444444444444444,\"#bd3786\"],[0.5555555555555556,\"#d8576b\"],[0.6666666666666666,\"#ed7953\"],[0.7777777777777778,\"#fb9f3a\"],[0.8888888888888888,\"#fdca26\"],[1.0,\"#f0f921\"]]}],\"heatmap\":[{\"type\":\"heatmap\",\"colorbar\":{\"outlinewidth\":0,\"ticks\":\"\"},\"colorscale\":[[0.0,\"#0d0887\"],[0.1111111111111111,\"#46039f\"],[0.2222222222222222,\"#7201a8\"],[0.3333333333333333,\"#9c179e\"],[0.4444444444444444,\"#bd3786\"],[0.5555555555555556,\"#d8576b\"],[0.6666666666666666,\"#ed7953\"],[0.7777777777777778,\"#fb9f3a\"],[0.8888888888888888,\"#fdca26\"],[1.0,\"#f0f921\"]]}],\"heatmapgl\":[{\"type\":\"heatmapgl\",\"colorbar\":{\"outlinewidth\":0,\"ticks\":\"\"},\"colorscale\":[[0.0,\"#0d0887\"],[0.1111111111111111,\"#46039f\"],[0.2222222222222222,\"#7201a8\"],[0.3333333333333333,\"#9c179e\"],[0.4444444444444444,\"#bd3786\"],[0.5555555555555556,\"#d8576b\"],[0.6666666666666666,\"#ed7953\"],[0.7777777777777778,\"#fb9f3a\"],[0.8888888888888888,\"#fdca26\"],[1.0,\"#f0f921\"]]}],\"contourcarpet\":[{\"type\":\"contourcarpet\",\"colorbar\":{\"outlinewidth\":0,\"ticks\":\"\"}}],\"contour\":[{\"type\":\"contour\",\"colorbar\":{\"outlinewidth\":0,\"ticks\":\"\"},\"colorscale\":[[0.0,\"#0d0887\"],[0.1111111111111111,\"#46039f\"],[0.2222222222222222,\"#7201a8\"],[0.3333333333333333,\"#9c179e\"],[0.4444444444444444,\"#bd3786\"],[0.5555555555555556,\"#d8576b\"],[0.6666666666666666,\"#ed7953\"],[0.7777777777777778,\"#fb9f3a\"],[0.8888888888888888,\"#fdca26\"],[1.0,\"#f0f921\"]]}],\"surface\":[{\"type\":\"surface\",\"colorbar\":{\"outlinewidth\":0,\"ticks\":\"\"},\"colorscale\":[[0.0,\"#0d0887\"],[0.1111111111111111,\"#46039f\"],[0.2222222222222222,\"#7201a8\"],[0.3333333333333333,\"#9c179e\"],[0.4444444444444444,\"#bd3786\"],[0.5555555555555556,\"#d8576b\"],[0.6666666666666666,\"#ed7953\"],[0.7777777777777778,\"#fb9f3a\"],[0.8888888888888888,\"#fdca26\"],[1.0,\"#f0f921\"]]}],\"mesh3d\":[{\"type\":\"mesh3d\",\"colorbar\":{\"outlinewidth\":0,\"ticks\":\"\"}}],\"scatter\":[{\"fillpattern\":{\"fillmode\":\"overlay\",\"size\":10,\"solidity\":0.2},\"type\":\"scatter\"}],\"parcoords\":[{\"type\":\"parcoords\",\"line\":{\"colorbar\":{\"outlinewidth\":0,\"ticks\":\"\"}}}],\"scatterpolargl\":[{\"type\":\"scatterpolargl\",\"marker\":{\"colorbar\":{\"outlinewidth\":0,\"ticks\":\"\"}}}],\"bar\":[{\"error_x\":{\"color\":\"#2a3f5f\"},\"error_y\":{\"color\":\"#2a3f5f\"},\"marker\":{\"line\":{\"color\":\"#E5ECF6\",\"width\":0.5},\"pattern\":{\"fillmode\":\"overlay\",\"size\":10,\"solidity\":0.2}},\"type\":\"bar\"}],\"scattergeo\":[{\"type\":\"scattergeo\",\"marker\":{\"colorbar\":{\"outlinewidth\":0,\"ticks\":\"\"}}}],\"scatterpolar\":[{\"type\":\"scatterpolar\",\"marker\":{\"colorbar\":{\"outlinewidth\":0,\"ticks\":\"\"}}}],\"histogram\":[{\"marker\":{\"pattern\":{\"fillmode\":\"overlay\",\"size\":10,\"solidity\":0.2}},\"type\":\"histogram\"}],\"scattergl\":[{\"type\":\"scattergl\",\"marker\":{\"colorbar\":{\"outlinewidth\":0,\"ticks\":\"\"}}}],\"scatter3d\":[{\"type\":\"scatter3d\",\"line\":{\"colorbar\":{\"outlinewidth\":0,\"ticks\":\"\"}},\"marker\":{\"colorbar\":{\"outlinewidth\":0,\"ticks\":\"\"}}}],\"scattermapbox\":[{\"type\":\"scattermapbox\",\"marker\":{\"colorbar\":{\"outlinewidth\":0,\"ticks\":\"\"}}}],\"scatterternary\":[{\"type\":\"scatterternary\",\"marker\":{\"colorbar\":{\"outlinewidth\":0,\"ticks\":\"\"}}}],\"scattercarpet\":[{\"type\":\"scattercarpet\",\"marker\":{\"colorbar\":{\"outlinewidth\":0,\"ticks\":\"\"}}}],\"carpet\":[{\"aaxis\":{\"endlinecolor\":\"#2a3f5f\",\"gridcolor\":\"white\",\"linecolor\":\"white\",\"minorgridcolor\":\"white\",\"startlinecolor\":\"#2a3f5f\"},\"baxis\":{\"endlinecolor\":\"#2a3f5f\",\"gridcolor\":\"white\",\"linecolor\":\"white\",\"minorgridcolor\":\"white\",\"startlinecolor\":\"#2a3f5f\"},\"type\":\"carpet\"}],\"table\":[{\"cells\":{\"fill\":{\"color\":\"#EBF0F8\"},\"line\":{\"color\":\"white\"}},\"header\":{\"fill\":{\"color\":\"#C8D4E3\"},\"line\":{\"color\":\"white\"}},\"type\":\"table\"}],\"barpolar\":[{\"marker\":{\"line\":{\"color\":\"#E5ECF6\",\"width\":0.5},\"pattern\":{\"fillmode\":\"overlay\",\"size\":10,\"solidity\":0.2}},\"type\":\"barpolar\"}],\"pie\":[{\"automargin\":true,\"type\":\"pie\"}]},\"layout\":{\"autotypenumbers\":\"strict\",\"colorway\":[\"#636efa\",\"#EF553B\",\"#00cc96\",\"#ab63fa\",\"#FFA15A\",\"#19d3f3\",\"#FF6692\",\"#B6E880\",\"#FF97FF\",\"#FECB52\"],\"font\":{\"color\":\"#2a3f5f\"},\"hovermode\":\"closest\",\"hoverlabel\":{\"align\":\"left\"},\"paper_bgcolor\":\"white\",\"plot_bgcolor\":\"#E5ECF6\",\"polar\":{\"bgcolor\":\"#E5ECF6\",\"angularaxis\":{\"gridcolor\":\"white\",\"linecolor\":\"white\",\"ticks\":\"\"},\"radialaxis\":{\"gridcolor\":\"white\",\"linecolor\":\"white\",\"ticks\":\"\"}},\"ternary\":{\"bgcolor\":\"#E5ECF6\",\"aaxis\":{\"gridcolor\":\"white\",\"linecolor\":\"white\",\"ticks\":\"\"},\"baxis\":{\"gridcolor\":\"white\",\"linecolor\":\"white\",\"ticks\":\"\"},\"caxis\":{\"gridcolor\":\"white\",\"linecolor\":\"white\",\"ticks\":\"\"}},\"coloraxis\":{\"colorbar\":{\"outlinewidth\":0,\"ticks\":\"\"}},\"colorscale\":{\"sequential\":[[0.0,\"#0d0887\"],[0.1111111111111111,\"#46039f\"],[0.2222222222222222,\"#7201a8\"],[0.3333333333333333,\"#9c179e\"],[0.4444444444444444,\"#bd3786\"],[0.5555555555555556,\"#d8576b\"],[0.6666666666666666,\"#ed7953\"],[0.7777777777777778,\"#fb9f3a\"],[0.8888888888888888,\"#fdca26\"],[1.0,\"#f0f921\"]],\"sequentialminus\":[[0.0,\"#0d0887\"],[0.1111111111111111,\"#46039f\"],[0.2222222222222222,\"#7201a8\"],[0.3333333333333333,\"#9c179e\"],[0.4444444444444444,\"#bd3786\"],[0.5555555555555556,\"#d8576b\"],[0.6666666666666666,\"#ed7953\"],[0.7777777777777778,\"#fb9f3a\"],[0.8888888888888888,\"#fdca26\"],[1.0,\"#f0f921\"]],\"diverging\":[[0,\"#8e0152\"],[0.1,\"#c51b7d\"],[0.2,\"#de77ae\"],[0.3,\"#f1b6da\"],[0.4,\"#fde0ef\"],[0.5,\"#f7f7f7\"],[0.6,\"#e6f5d0\"],[0.7,\"#b8e186\"],[0.8,\"#7fbc41\"],[0.9,\"#4d9221\"],[1,\"#276419\"]]},\"xaxis\":{\"gridcolor\":\"white\",\"linecolor\":\"white\",\"ticks\":\"\",\"title\":{\"standoff\":15},\"zerolinecolor\":\"white\",\"automargin\":true,\"zerolinewidth\":2},\"yaxis\":{\"gridcolor\":\"white\",\"linecolor\":\"white\",\"ticks\":\"\",\"title\":{\"standoff\":15},\"zerolinecolor\":\"white\",\"automargin\":true,\"zerolinewidth\":2},\"scene\":{\"xaxis\":{\"backgroundcolor\":\"#E5ECF6\",\"gridcolor\":\"white\",\"linecolor\":\"white\",\"showbackground\":true,\"ticks\":\"\",\"zerolinecolor\":\"white\",\"gridwidth\":2},\"yaxis\":{\"backgroundcolor\":\"#E5ECF6\",\"gridcolor\":\"white\",\"linecolor\":\"white\",\"showbackground\":true,\"ticks\":\"\",\"zerolinecolor\":\"white\",\"gridwidth\":2},\"zaxis\":{\"backgroundcolor\":\"#E5ECF6\",\"gridcolor\":\"white\",\"linecolor\":\"white\",\"showbackground\":true,\"ticks\":\"\",\"zerolinecolor\":\"white\",\"gridwidth\":2}},\"shapedefaults\":{\"line\":{\"color\":\"#2a3f5f\"}},\"annotationdefaults\":{\"arrowcolor\":\"#2a3f5f\",\"arrowhead\":0,\"arrowwidth\":1},\"geo\":{\"bgcolor\":\"white\",\"landcolor\":\"#E5ECF6\",\"subunitcolor\":\"white\",\"showland\":true,\"showlakes\":true,\"lakecolor\":\"white\"},\"title\":{\"x\":0.05},\"mapbox\":{\"style\":\"light\"}}},\"coloraxis\":{\"colorbar\":{\"title\":{\"text\":\"Median Price\"}},\"colorscale\":[[0.0,\"#0d0887\"],[0.1111111111111111,\"#46039f\"],[0.2222222222222222,\"#7201a8\"],[0.3333333333333333,\"#9c179e\"],[0.4444444444444444,\"#bd3786\"],[0.5555555555555556,\"#d8576b\"],[0.6666666666666666,\"#ed7953\"],[0.7777777777777778,\"#fb9f3a\"],[0.8888888888888888,\"#fdca26\"],[1.0,\"#f0f921\"]]},\"legend\":{\"tracegroupgap\":0},\"title\":{\"text\":\"Total Explained Variance: 83.00%\"},\"dragmode\":\"select\"},                        {\"responsive\": true}                    ).then(function(){\n",
       "                            \n",
       "var gd = document.getElementById('9342cf2e-d0c1-4ae4-839a-78a082a8269b');\n",
       "var x = new MutationObserver(function (mutations, observer) {{\n",
       "        var display = window.getComputedStyle(gd).display;\n",
       "        if (!display || display === 'none') {{\n",
       "            console.log([gd, 'removed!']);\n",
       "            Plotly.purge(gd);\n",
       "            observer.disconnect();\n",
       "        }}\n",
       "}});\n",
       "\n",
       "// Listen for the removal of the full notebook cells\n",
       "var notebookContainer = gd.closest('#notebook-container');\n",
       "if (notebookContainer) {{\n",
       "    x.observe(notebookContainer, {childList: true});\n",
       "}}\n",
       "\n",
       "// Listen for the clearing of the current output cell\n",
       "var outputEl = gd.closest('.output');\n",
       "if (outputEl) {{\n",
       "    x.observe(outputEl, {childList: true});\n",
       "}}\n",
       "\n",
       "                        })                };                });            </script>        </div>"
      ]
     },
     "metadata": {},
     "output_type": "display_data"
    }
   ],
   "source": [
    "n_components = 4\n",
    "total_var = pca4.explained_variance_ratio_.sum() * 100\n",
    "\n",
    "labels = {str(i): f\"PC {i+1}\" for i in range(n_components)}\n",
    "labels['color'] = 'Median Price'\n",
    "\n",
    "fig = px.scatter_matrix(\n",
    "    X_pca4,\n",
    "    color=y,\n",
    "    dimensions=range(n_components),\n",
    "    labels=labels,\n",
    "    title=f'Total Explained Variance: {total_var:.2f}%',\n",
    ")\n",
    "fig.update_traces(diagonal_visible=False)\n",
    "fig.show()\n"
   ]
  },
  {
   "cell_type": "markdown",
   "id": "f623e756",
   "metadata": {},
   "source": [
    "#### Observations\n",
    "* Some scatter plots shows a clear seperation of clusters or groups, which indicates PCA has effectively captured the underlying structure of the data while some scatter plot shows no clear seperation of cluster or groups which indicate PCA transformation is not effective or that data may not have distinct structure. "
   ]
  },
  {
   "cell_type": "markdown",
   "id": "c3deadc1",
   "metadata": {},
   "source": [
    "### 6. XGBoost Classifier with 5 Fold CV"
   ]
  },
  {
   "cell_type": "code",
   "execution_count": 241,
   "id": "9e451419",
   "metadata": {},
   "outputs": [],
   "source": [
    "from sklearn.model_selection import train_test_split"
   ]
  },
  {
   "cell_type": "code",
   "execution_count": 242,
   "id": "01430b41",
   "metadata": {},
   "outputs": [
    {
     "data": {
      "text/plain": [
       "0    0\n",
       "1    0\n",
       "2    0\n",
       "3    1\n",
       "4    0\n",
       "Name: Channel, dtype: int64"
      ]
     },
     "execution_count": 242,
     "metadata": {},
     "output_type": "execute_result"
    }
   ],
   "source": [
    "# converting target value to binary\n",
    "X = scaled_ss.drop(['Channel'], axis=1)\n",
    "y = customer['Channel']\n",
    "\n",
    "y[y == 2] = 0\n",
    "\n",
    "y[y == 1] = 1\n",
    "\n",
    "y.head()"
   ]
  },
  {
   "cell_type": "code",
   "execution_count": 243,
   "id": "e5b94e29",
   "metadata": {},
   "outputs": [],
   "source": [
    "#Splitting data into train validation and test set\n",
    "X_train, X_test, y_train, y_test = train_test_split(X, y, test_size=0.4, random_state=42)\n",
    "X_test, X_val, y_test, y_val = train_test_split(X_test, y_test, test_size=0.5, random_state=42)"
   ]
  },
  {
   "cell_type": "code",
   "execution_count": 245,
   "id": "bfdd954c",
   "metadata": {},
   "outputs": [],
   "source": [
    "#writing out splitted data\n",
    "X_train.to_csv('C:/Users/Surya/Desktop/SURYA GEORGIAN/AIDI 1003 Machine learning frameworks/WHOLESALE DATASET PROJECT 2/Traindata/train_features.csv', index=False)\n",
    "X_val.to_csv('C:/Users/Surya/Desktop/SURYA GEORGIAN/AIDI 1003 Machine learning frameworks/WHOLESALE DATASET PROJECT 2/Traindata/val_features.csv', index=False)\n",
    "X_test.to_csv('C:/Users/Surya/Desktop/SURYA GEORGIAN/AIDI 1003 Machine learning frameworks/WHOLESALE DATASET PROJECT 2/Traindata/test_features.csv', index=False)\n",
    "\n",
    "y_train.to_csv('C:/Users/Surya/Desktop/SURYA GEORGIAN/AIDI 1003 Machine learning frameworks/WHOLESALE DATASET PROJECT 2/Traindata/train_labels.csv', index=False)\n",
    "y_val.to_csv('C:/Users/Surya/Desktop/SURYA GEORGIAN/AIDI 1003 Machine learning frameworks/WHOLESALE DATASET PROJECT 2/Traindata/val_labels.csv', index=False)\n",
    "y_test.to_csv('C:/Users/Surya/Desktop/SURYA GEORGIAN/AIDI 1003 Machine learning frameworks/WHOLESALE DATASET PROJECT 2/Traindata/test_labels.csv', index=False)\n"
   ]
  },
  {
   "cell_type": "code",
   "execution_count": 218,
   "id": "80b32e1e",
   "metadata": {},
   "outputs": [
    {
     "name": "stdout",
     "output_type": "stream",
     "text": [
      "Requirement already satisfied: xgboost in c:\\users\\surya\\anaconda3\\lib\\site-packages (1.7.4)\n",
      "Requirement already satisfied: scipy in c:\\users\\surya\\anaconda3\\lib\\site-packages (from xgboost) (1.9.1)\n",
      "Requirement already satisfied: numpy in c:\\users\\surya\\anaconda3\\lib\\site-packages (from xgboost) (1.21.5)\n"
     ]
    }
   ],
   "source": [
    "!pip install xgboost"
   ]
  },
  {
   "cell_type": "code",
   "execution_count": 246,
   "id": "90b1563a",
   "metadata": {},
   "outputs": [],
   "source": [
    "from xgboost import XGBClassifier\n",
    "from sklearn.model_selection import GridSearchCV\n",
    "import warnings\n",
    "warnings.filterwarnings('ignore', category=FutureWarning)\n",
    "warnings.filterwarnings('ignore', category=DeprecationWarning)\n",
    "\n",
    "#reading training data\n",
    "tr_features = pd.read_csv('C:/Users/Surya/Desktop/SURYA GEORGIAN/AIDI 1003 Machine learning frameworks/WHOLESALE DATASET PROJECT 2/Traindata/train_features.csv')\n",
    "tr_labels = pd.read_csv('C:/Users/Surya/Desktop/SURYA GEORGIAN/AIDI 1003 Machine learning frameworks/WHOLESALE DATASET PROJECT 2/Traindata/train_labels.csv')"
   ]
  },
  {
   "cell_type": "code",
   "execution_count": 247,
   "id": "a632a3b4",
   "metadata": {},
   "outputs": [],
   "source": [
    "def print_results(results):\n",
    "    print('BEST PARAMS: {}\\n'.format(results.best_params_))\n",
    "\n",
    "    means = results.cv_results_['mean_test_score']\n",
    "    stds = results.cv_results_['std_test_score']\n",
    "    for mean, std, params in zip(means, stds, results.cv_results_['params']):\n",
    "        print('{} (+/-{}) for {}'.format(round(mean, 3), round(std * 2, 3), params))"
   ]
  },
  {
   "cell_type": "code",
   "execution_count": 248,
   "id": "fbfa65b6",
   "metadata": {},
   "outputs": [
    {
     "name": "stdout",
     "output_type": "stream",
     "text": [
      "BEST PARAMS: {'learning_rate': 0.01, 'max_depth': 1, 'n_estimators': 500}\n",
      "\n",
      "0.921 (+/-0.055) for {'learning_rate': 0.01, 'max_depth': 1, 'n_estimators': 5}\n",
      "0.921 (+/-0.055) for {'learning_rate': 0.01, 'max_depth': 1, 'n_estimators': 50}\n",
      "0.921 (+/-0.055) for {'learning_rate': 0.01, 'max_depth': 1, 'n_estimators': 250}\n",
      "0.924 (+/-0.063) for {'learning_rate': 0.01, 'max_depth': 1, 'n_estimators': 500}\n",
      "0.909 (+/-0.073) for {'learning_rate': 0.01, 'max_depth': 3, 'n_estimators': 5}\n",
      "0.913 (+/-0.07) for {'learning_rate': 0.01, 'max_depth': 3, 'n_estimators': 50}\n",
      "0.902 (+/-0.036) for {'learning_rate': 0.01, 'max_depth': 3, 'n_estimators': 250}\n",
      "0.898 (+/-0.045) for {'learning_rate': 0.01, 'max_depth': 3, 'n_estimators': 500}\n",
      "0.909 (+/-0.073) for {'learning_rate': 0.01, 'max_depth': 5, 'n_estimators': 5}\n",
      "0.913 (+/-0.081) for {'learning_rate': 0.01, 'max_depth': 5, 'n_estimators': 50}\n",
      "0.905 (+/-0.033) for {'learning_rate': 0.01, 'max_depth': 5, 'n_estimators': 250}\n",
      "0.905 (+/-0.047) for {'learning_rate': 0.01, 'max_depth': 5, 'n_estimators': 500}\n",
      "0.906 (+/-0.079) for {'learning_rate': 0.01, 'max_depth': 7, 'n_estimators': 5}\n",
      "0.909 (+/-0.087) for {'learning_rate': 0.01, 'max_depth': 7, 'n_estimators': 50}\n",
      "0.902 (+/-0.036) for {'learning_rate': 0.01, 'max_depth': 7, 'n_estimators': 250}\n",
      "0.902 (+/-0.036) for {'learning_rate': 0.01, 'max_depth': 7, 'n_estimators': 500}\n",
      "0.906 (+/-0.079) for {'learning_rate': 0.01, 'max_depth': 9, 'n_estimators': 5}\n",
      "0.909 (+/-0.087) for {'learning_rate': 0.01, 'max_depth': 9, 'n_estimators': 50}\n",
      "0.902 (+/-0.036) for {'learning_rate': 0.01, 'max_depth': 9, 'n_estimators': 250}\n",
      "0.902 (+/-0.036) for {'learning_rate': 0.01, 'max_depth': 9, 'n_estimators': 500}\n",
      "0.921 (+/-0.055) for {'learning_rate': 0.1, 'max_depth': 1, 'n_estimators': 5}\n",
      "0.921 (+/-0.069) for {'learning_rate': 0.1, 'max_depth': 1, 'n_estimators': 50}\n",
      "0.921 (+/-0.077) for {'learning_rate': 0.1, 'max_depth': 1, 'n_estimators': 250}\n",
      "0.917 (+/-0.088) for {'learning_rate': 0.1, 'max_depth': 1, 'n_estimators': 500}\n",
      "0.909 (+/-0.06) for {'learning_rate': 0.1, 'max_depth': 3, 'n_estimators': 5}\n",
      "0.902 (+/-0.055) for {'learning_rate': 0.1, 'max_depth': 3, 'n_estimators': 50}\n",
      "0.898 (+/-0.061) for {'learning_rate': 0.1, 'max_depth': 3, 'n_estimators': 250}\n",
      "0.898 (+/-0.061) for {'learning_rate': 0.1, 'max_depth': 3, 'n_estimators': 500}\n",
      "0.905 (+/-0.063) for {'learning_rate': 0.1, 'max_depth': 5, 'n_estimators': 5}\n",
      "0.902 (+/-0.043) for {'learning_rate': 0.1, 'max_depth': 5, 'n_estimators': 50}\n",
      "0.902 (+/-0.043) for {'learning_rate': 0.1, 'max_depth': 5, 'n_estimators': 250}\n",
      "0.902 (+/-0.036) for {'learning_rate': 0.1, 'max_depth': 5, 'n_estimators': 500}\n",
      "0.902 (+/-0.069) for {'learning_rate': 0.1, 'max_depth': 7, 'n_estimators': 5}\n",
      "0.902 (+/-0.027) for {'learning_rate': 0.1, 'max_depth': 7, 'n_estimators': 50}\n",
      "0.898 (+/-0.045) for {'learning_rate': 0.1, 'max_depth': 7, 'n_estimators': 250}\n",
      "0.902 (+/-0.036) for {'learning_rate': 0.1, 'max_depth': 7, 'n_estimators': 500}\n",
      "0.902 (+/-0.069) for {'learning_rate': 0.1, 'max_depth': 9, 'n_estimators': 5}\n",
      "0.902 (+/-0.027) for {'learning_rate': 0.1, 'max_depth': 9, 'n_estimators': 50}\n",
      "0.898 (+/-0.045) for {'learning_rate': 0.1, 'max_depth': 9, 'n_estimators': 250}\n",
      "0.902 (+/-0.036) for {'learning_rate': 0.1, 'max_depth': 9, 'n_estimators': 500}\n",
      "0.921 (+/-0.055) for {'learning_rate': 1, 'max_depth': 1, 'n_estimators': 5}\n",
      "0.898 (+/-0.061) for {'learning_rate': 1, 'max_depth': 1, 'n_estimators': 50}\n",
      "0.883 (+/-0.036) for {'learning_rate': 1, 'max_depth': 1, 'n_estimators': 250}\n",
      "0.875 (+/-0.038) for {'learning_rate': 1, 'max_depth': 1, 'n_estimators': 500}\n",
      "0.898 (+/-0.077) for {'learning_rate': 1, 'max_depth': 3, 'n_estimators': 5}\n",
      "0.879 (+/-0.03) for {'learning_rate': 1, 'max_depth': 3, 'n_estimators': 50}\n",
      "0.89 (+/-0.044) for {'learning_rate': 1, 'max_depth': 3, 'n_estimators': 250}\n",
      "0.894 (+/-0.045) for {'learning_rate': 1, 'max_depth': 3, 'n_estimators': 500}\n",
      "0.89 (+/-0.036) for {'learning_rate': 1, 'max_depth': 5, 'n_estimators': 5}\n",
      "0.894 (+/-0.056) for {'learning_rate': 1, 'max_depth': 5, 'n_estimators': 50}\n",
      "0.902 (+/-0.049) for {'learning_rate': 1, 'max_depth': 5, 'n_estimators': 250}\n",
      "0.902 (+/-0.049) for {'learning_rate': 1, 'max_depth': 5, 'n_estimators': 500}\n",
      "0.894 (+/-0.056) for {'learning_rate': 1, 'max_depth': 7, 'n_estimators': 5}\n",
      "0.905 (+/-0.063) for {'learning_rate': 1, 'max_depth': 7, 'n_estimators': 50}\n",
      "0.894 (+/-0.038) for {'learning_rate': 1, 'max_depth': 7, 'n_estimators': 250}\n",
      "0.894 (+/-0.056) for {'learning_rate': 1, 'max_depth': 7, 'n_estimators': 500}\n",
      "0.894 (+/-0.056) for {'learning_rate': 1, 'max_depth': 9, 'n_estimators': 5}\n",
      "0.905 (+/-0.063) for {'learning_rate': 1, 'max_depth': 9, 'n_estimators': 50}\n",
      "0.894 (+/-0.038) for {'learning_rate': 1, 'max_depth': 9, 'n_estimators': 250}\n",
      "0.894 (+/-0.056) for {'learning_rate': 1, 'max_depth': 9, 'n_estimators': 500}\n",
      "0.921 (+/-0.055) for {'learning_rate': 10, 'max_depth': 1, 'n_estimators': 5}\n",
      "0.921 (+/-0.055) for {'learning_rate': 10, 'max_depth': 1, 'n_estimators': 50}\n",
      "0.921 (+/-0.055) for {'learning_rate': 10, 'max_depth': 1, 'n_estimators': 250}\n",
      "0.921 (+/-0.055) for {'learning_rate': 10, 'max_depth': 1, 'n_estimators': 500}\n",
      "0.819 (+/-0.262) for {'learning_rate': 10, 'max_depth': 3, 'n_estimators': 5}\n",
      "0.819 (+/-0.262) for {'learning_rate': 10, 'max_depth': 3, 'n_estimators': 50}\n",
      "0.819 (+/-0.262) for {'learning_rate': 10, 'max_depth': 3, 'n_estimators': 250}\n",
      "0.819 (+/-0.262) for {'learning_rate': 10, 'max_depth': 3, 'n_estimators': 500}\n",
      "0.694 (+/-0.454) for {'learning_rate': 10, 'max_depth': 5, 'n_estimators': 5}\n",
      "0.694 (+/-0.454) for {'learning_rate': 10, 'max_depth': 5, 'n_estimators': 50}\n",
      "0.694 (+/-0.454) for {'learning_rate': 10, 'max_depth': 5, 'n_estimators': 250}\n",
      "0.694 (+/-0.454) for {'learning_rate': 10, 'max_depth': 5, 'n_estimators': 500}\n",
      "0.803 (+/-0.295) for {'learning_rate': 10, 'max_depth': 7, 'n_estimators': 5}\n",
      "0.803 (+/-0.295) for {'learning_rate': 10, 'max_depth': 7, 'n_estimators': 50}\n",
      "0.803 (+/-0.295) for {'learning_rate': 10, 'max_depth': 7, 'n_estimators': 250}\n",
      "0.803 (+/-0.295) for {'learning_rate': 10, 'max_depth': 7, 'n_estimators': 500}\n",
      "0.803 (+/-0.295) for {'learning_rate': 10, 'max_depth': 9, 'n_estimators': 5}\n",
      "0.803 (+/-0.295) for {'learning_rate': 10, 'max_depth': 9, 'n_estimators': 50}\n",
      "0.803 (+/-0.295) for {'learning_rate': 10, 'max_depth': 9, 'n_estimators': 250}\n",
      "0.803 (+/-0.295) for {'learning_rate': 10, 'max_depth': 9, 'n_estimators': 500}\n",
      "0.921 (+/-0.055) for {'learning_rate': 100, 'max_depth': 1, 'n_estimators': 5}\n",
      "0.921 (+/-0.055) for {'learning_rate': 100, 'max_depth': 1, 'n_estimators': 50}\n",
      "0.921 (+/-0.055) for {'learning_rate': 100, 'max_depth': 1, 'n_estimators': 250}\n",
      "0.921 (+/-0.055) for {'learning_rate': 100, 'max_depth': 1, 'n_estimators': 500}\n",
      "0.777 (+/-0.385) for {'learning_rate': 100, 'max_depth': 3, 'n_estimators': 5}\n",
      "0.777 (+/-0.385) for {'learning_rate': 100, 'max_depth': 3, 'n_estimators': 50}\n",
      "0.777 (+/-0.385) for {'learning_rate': 100, 'max_depth': 3, 'n_estimators': 250}\n",
      "0.777 (+/-0.385) for {'learning_rate': 100, 'max_depth': 3, 'n_estimators': 500}\n",
      "0.792 (+/-0.29) for {'learning_rate': 100, 'max_depth': 5, 'n_estimators': 5}\n",
      "0.792 (+/-0.29) for {'learning_rate': 100, 'max_depth': 5, 'n_estimators': 50}\n",
      "0.792 (+/-0.29) for {'learning_rate': 100, 'max_depth': 5, 'n_estimators': 250}\n",
      "0.792 (+/-0.29) for {'learning_rate': 100, 'max_depth': 5, 'n_estimators': 500}\n",
      "0.747 (+/-0.331) for {'learning_rate': 100, 'max_depth': 7, 'n_estimators': 5}\n",
      "0.747 (+/-0.331) for {'learning_rate': 100, 'max_depth': 7, 'n_estimators': 50}\n",
      "0.747 (+/-0.331) for {'learning_rate': 100, 'max_depth': 7, 'n_estimators': 250}\n",
      "0.747 (+/-0.331) for {'learning_rate': 100, 'max_depth': 7, 'n_estimators': 500}\n",
      "0.747 (+/-0.331) for {'learning_rate': 100, 'max_depth': 9, 'n_estimators': 5}\n",
      "0.747 (+/-0.331) for {'learning_rate': 100, 'max_depth': 9, 'n_estimators': 50}\n",
      "0.747 (+/-0.331) for {'learning_rate': 100, 'max_depth': 9, 'n_estimators': 250}\n",
      "0.747 (+/-0.331) for {'learning_rate': 100, 'max_depth': 9, 'n_estimators': 500}\n"
     ]
    }
   ],
   "source": [
    "xgb = XGBClassifier()\n",
    "parameters = {\n",
    "    'n_estimators': [5, 50, 250, 500],\n",
    "    'max_depth': [1, 3, 5, 7, 9],\n",
    "    'learning_rate': [0.01, 0.1, 1, 10, 100]\n",
    "}\n",
    "\n",
    "cv = GridSearchCV(xgb, parameters, cv=5)\n",
    "cv.fit(tr_features, tr_labels.values.ravel())\n",
    "\n",
    "print_results(cv)"
   ]
  },
  {
   "cell_type": "code",
   "execution_count": 249,
   "id": "ddefd81a",
   "metadata": {},
   "outputs": [
    {
     "data": {
      "text/plain": [
       "XGBClassifier(base_score=None, booster=None, callbacks=None,\n",
       "              colsample_bylevel=None, colsample_bynode=None,\n",
       "              colsample_bytree=None, early_stopping_rounds=None,\n",
       "              enable_categorical=False, eval_metric=None, feature_types=None,\n",
       "              gamma=None, gpu_id=None, grow_policy=None, importance_type=None,\n",
       "              interaction_constraints=None, learning_rate=0.01, max_bin=None,\n",
       "              max_cat_threshold=None, max_cat_to_onehot=None,\n",
       "              max_delta_step=None, max_depth=1, max_leaves=None,\n",
       "              min_child_weight=None, missing=nan, monotone_constraints=None,\n",
       "              n_estimators=500, n_jobs=None, num_parallel_tree=None,\n",
       "              predictor=None, random_state=None, ...)"
      ]
     },
     "execution_count": 249,
     "metadata": {},
     "output_type": "execute_result"
    }
   ],
   "source": [
    "#printing out best estimator\n",
    "cv.best_estimator_"
   ]
  },
  {
   "cell_type": "code",
   "execution_count": 250,
   "id": "597ece53",
   "metadata": {},
   "outputs": [
    {
     "data": {
      "image/png": "[encoded data removed]",
      "text/plain": [
       "<Figure size 640x480 with 1 Axes>"
      ]
     },
     "metadata": {},
     "output_type": "display_data"
    }
   ],
   "source": [
    "# Generate feature importance plot\n",
    "feat_imp = cv.best_estimator_.feature_importances_\n",
    "indices = np.argsort(feat_imp)\n",
    "plt.yticks(range(len(indices)), [X.columns[i] for i in indices])\n",
    "plt.barh(range(len(indices)), feat_imp[indices], color='r', align='center')\n",
    "plt.show()"
   ]
  },
  {
   "cell_type": "markdown",
   "id": "24fe877d",
   "metadata": {},
   "source": [
    "#### Observation\n",
    "* the feature importance plot is showing that the feature \"Detergents_Paper\" has the highest importance score among all the features. This means that the \"Detergents_Paper\" feature is contributing the most to the accuracy of the XGB classifier model.\n",
    "* the feature importance plot in XGB classifier model indicates that the \"Detergents_Paper\" feature is a critical feature for accurate predictions and should be considered as a significant factor in any analysis or decision-making process related to your data."
   ]
  },
  {
   "cell_type": "code",
   "execution_count": 251,
   "id": "49b4adda",
   "metadata": {},
   "outputs": [],
   "source": [
    "import joblib"
   ]
  },
  {
   "cell_type": "code",
   "execution_count": 252,
   "id": "e35a75f7",
   "metadata": {},
   "outputs": [
    {
     "data": {
      "text/plain": [
       "['C:/Users/Surya/Desktop/SURYA GEORGIAN/AIDI 1003 Machine learning frameworks/WHOLESALE DATASET PROJECT 2/XGB_model.pkl']"
      ]
     },
     "execution_count": 252,
     "metadata": {},
     "output_type": "execute_result"
    }
   ],
   "source": [
    "#Pickling the best model using joblib\n",
    "joblib.dump(cv.best_estimator_, 'C:/Users/Surya/Desktop/SURYA GEORGIAN/AIDI 1003 Machine learning frameworks/WHOLESALE DATASET PROJECT 2/XGB_model.pkl')"
   ]
  },
  {
   "cell_type": "code",
   "execution_count": 253,
   "id": "f7133850",
   "metadata": {},
   "outputs": [],
   "source": [
    "from sklearn.metrics import accuracy_score, precision_score, recall_score\n",
    "from time import time"
   ]
  },
  {
   "cell_type": "code",
   "execution_count": 239,
   "id": "f1444512",
   "metadata": {},
   "outputs": [],
   "source": [
    "def evaluate_model(name, model, features, labels):\n",
    "    start = time()\n",
    "    pred = xgb.predict(features)\n",
    "    end = time()\n",
    "    accuracy = round(accuracy_score(labels, pred), 3)\n",
    "    precision = round(precision_score(labels, pred), 3)\n",
    "    recall = round(recall_score(labels, pred), 3)\n",
    "    print('{} -- \\tAccuracy: {} / Precision: {} / Recall: {} / Latency: {}ms'.format(name,\n",
    "                                                                                     accuracy,\n",
    "                                                                                     precision,\n",
    "                                                                                     recall,\n",
    "                                                                                     round((end - start)*1000, 1)))"
   ]
  },
  {
   "cell_type": "code",
   "execution_count": 254,
   "id": "aefa0a37",
   "metadata": {},
   "outputs": [],
   "source": [
    "models = {}\n",
    "\n",
    "for mdl in ['XGB']:\n",
    "    models[mdl] = joblib.load('C:/Users/Surya/Desktop/SURYA GEORGIAN/AIDI 1003 Machine learning frameworks/WHOLESALE DATASET PROJECT 2/{}_model.pkl'.format(mdl))"
   ]
  },
  {
   "cell_type": "code",
   "execution_count": 255,
   "id": "a499f8b7",
   "metadata": {},
   "outputs": [
    {
     "data": {
      "text/plain": [
       "{'XGB': XGBClassifier(base_score=None, booster=None, callbacks=None,\n",
       "               colsample_bylevel=None, colsample_bynode=None,\n",
       "               colsample_bytree=None, early_stopping_rounds=None,\n",
       "               enable_categorical=False, eval_metric=None, feature_types=None,\n",
       "               gamma=None, gpu_id=None, grow_policy=None, importance_type=None,\n",
       "               interaction_constraints=None, learning_rate=0.01, max_bin=None,\n",
       "               max_cat_threshold=None, max_cat_to_onehot=None,\n",
       "               max_delta_step=None, max_depth=1, max_leaves=None,\n",
       "               min_child_weight=None, missing=nan, monotone_constraints=None,\n",
       "               n_estimators=500, n_jobs=None, num_parallel_tree=None,\n",
       "               predictor=None, random_state=None, ...)}"
      ]
     },
     "execution_count": 255,
     "metadata": {},
     "output_type": "execute_result"
    }
   ],
   "source": [
    "models"
   ]
  },
  {
   "cell_type": "code",
   "execution_count": 256,
   "id": "d1e859b0",
   "metadata": {},
   "outputs": [],
   "source": [
    "#reading validation datasets\n",
    "val_features = pd.read_csv('C:/Users/Surya/Desktop/SURYA GEORGIAN/AIDI 1003 Machine learning frameworks/WHOLESALE DATASET PROJECT 2/Traindata/val_features.csv')\n",
    "val_labels = pd.read_csv('C:/Users/Surya/Desktop/SURYA GEORGIAN/AIDI 1003 Machine learning frameworks/WHOLESALE DATASET PROJECT 2/Traindata/val_labels.csv')"
   ]
  },
  {
   "cell_type": "code",
   "execution_count": 257,
   "id": "66699596",
   "metadata": {},
   "outputs": [],
   "source": [
    "#function to evaluate models\n",
    "def evaluate_model(name, model, features, labels):\n",
    "    start = time()\n",
    "    pred = model.predict(features)\n",
    "    end = time()\n",
    "    accuracy = round(accuracy_score(labels, pred), 3)\n",
    "    precision = round(precision_score(labels, pred, average = 'weighted'), 3)\n",
    "    recall = round(recall_score(labels, pred, average = 'weighted'), 3)\n",
    "    print('{} -- Accuracy: {} / Precision: {} / Recall: {} / Latency: {}ms'.format(name,\n",
    "                                                                                   accuracy,\n",
    "                                                                                   precision,\n",
    "                                                                                   recall,\n",
    "                                                                                   round((end - start)*1000, 1)))"
   ]
  },
  {
   "cell_type": "code",
   "execution_count": 258,
   "id": "d88fc92c",
   "metadata": {},
   "outputs": [
    {
     "name": "stdout",
     "output_type": "stream",
     "text": [
      "XGB -- Accuracy: 0.909 / Precision: 0.913 / Recall: 0.909 / Latency: 3.0ms\n"
     ]
    }
   ],
   "source": [
    "#evaluating models on validation sets\n",
    "for name, mdl in models.items():\n",
    "    evaluate_model(name, mdl, val_features, val_labels)"
   ]
  },
  {
   "cell_type": "code",
   "execution_count": 259,
   "id": "ca176cd8",
   "metadata": {},
   "outputs": [],
   "source": [
    "#reading test datasets\n",
    "test_features = pd.read_csv('C:/Users/Surya/Desktop/SURYA GEORGIAN/AIDI 1003 Machine learning frameworks/WHOLESALE DATASET PROJECT 2/Traindata/test_features.csv')\n",
    "test_labels = pd.read_csv('C:/Users/Surya/Desktop/SURYA GEORGIAN/AIDI 1003 Machine learning frameworks/WHOLESALE DATASET PROJECT 2/Traindata/test_labels.csv')"
   ]
  },
  {
   "cell_type": "code",
   "execution_count": 260,
   "id": "32468fd0",
   "metadata": {},
   "outputs": [
    {
     "name": "stdout",
     "output_type": "stream",
     "text": [
      "XGB -- Accuracy: 0.909 / Precision: 0.928 / Recall: 0.909 / Latency: 2.0ms\n"
     ]
    }
   ],
   "source": [
    "# evaluating model on test set\n",
    "evaluate_model('XGB', models['XGB'], test_features, test_labels)"
   ]
  },
  {
   "cell_type": "markdown",
   "id": "fca3cb99",
   "metadata": {},
   "source": [
    "#### Observation\n",
    "* Accuracy: 0.909\n",
    "* Precision: 0.928\n",
    "* Recall: 0.909\n",
    "* Latency: 2.0ms"
   ]
  },
  {
   "cell_type": "code",
   "execution_count": null,
   "id": "5aad6a57",
   "metadata": {},
   "outputs": [],
   "source": []
  }
 ],
 "metadata": {
  "kernelspec": {
   "display_name": "Python 3 (ipykernel)",
   "language": "python",
   "name": "python3"
  },
  "language_info": {
   "codemirror_mode": {
    "name": "ipython",
    "version": 3
   },
   "file_extension": ".py",
   "mimetype": "text/x-python",
   "name": "python",
   "nbconvert_exporter": "python",
   "pygments_lexer": "ipython3",
   "version": "3.9.13"
  }
 },
 "nbformat": 4,
 "nbformat_minor": 5
}
